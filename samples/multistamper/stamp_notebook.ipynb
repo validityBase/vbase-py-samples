{
 "cells": [
  {
   "cell_type": "markdown",
   "id": "37ec0cc4-da82-4f0f-a2e1-3944cdcc9201",
   "metadata": {},
   "source": [
    "Stamping files"
   ]
  },
  {
   "cell_type": "code",
   "execution_count": null,
   "id": "0ec3e7e9-06ca-4d66-a24d-c116bb745e8b",
   "metadata": {},
   "outputs": [],
   "source": [
    "from pathlib import Path\n",
    "import json\n",
    "import os\n",
    "import sys\n",
    "from pathlib import Path\n",
    "\n",
    "# Add the parent directory of 'multistamper/' to sys.path\n",
    "sys.path.append(str(Path().resolve()))\n",
    "from multistamper.core import LocalDataSource, Pipeline, ApiClient\n",
    "from multistamper.stamp_cli import run_pipeline, setup, main\n",
    "from dotenv import load_dotenv\n",
    "\n",
    "load_dotenv()"
   ]
  },
  {
   "cell_type": "code",
   "execution_count": null,
   "id": "c2a1a129-837b-48c0-ad77-5d59aa92532c",
   "metadata": {},
   "outputs": [],
   "source": [
    "users_folder_path = \"users\"\n",
    "users_folder = Path(users_folder_path).resolve()\n",
    "assert users_folder.exists(), f\"Users folder not found: {USERS_FOLDER}\""
   ]
  },
  {
   "cell_type": "code",
   "execution_count": null,
   "id": "5eb5d9bb-d8a7-4d0d-9e6e-a4e88fab0630",
   "metadata": {},
   "outputs": [],
   "source": [
    "api_url = os.getenv(\"VBASE_API_URL\")"
   ]
  },
  {
   "cell_type": "code",
   "execution_count": null,
   "id": "4ffe7735-76ad-4224-8bf1-6ffa74a6dfea",
   "metadata": {},
   "outputs": [],
   "source": [
    "assert api_url, \"Missing VBASE_API_URL in .env\""
   ]
  },
  {
   "cell_type": "markdown",
   "id": "ae04b48c-1991-4bd8-bb08-6ed667cccd96",
   "metadata": {},
   "source": [
    "Run pipeline and stamp files"
   ]
  },
  {
   "cell_type": "markdown",
   "id": "8ee39d37-132f-4150-bb14-589f4a509da9",
   "metadata": {},
   "source": [
    "Preview files, Do you want to stamp these files?"
   ]
  },
  {
   "cell_type": "code",
   "execution_count": null,
   "id": "272967e2-ca4a-455d-aac4-9316b524cef1",
   "metadata": {
    "jupyter": {
     "source_hidden": true
    },
    "scrolled": true
   },
   "outputs": [],
   "source": [
    "run_pipeline(api_url, users_folder, False)"
   ]
  },
  {
   "cell_type": "markdown",
   "id": "a0731219-3c9a-4c45-bd89-16304fb64c67",
   "metadata": {},
   "source": [
    "Stamp files"
   ]
  },
  {
   "cell_type": "code",
   "execution_count": null,
   "id": "0285a997-15c5-4c80-9d9e-814d9c61a6f0",
   "metadata": {
    "scrolled": true
   },
   "outputs": [],
   "source": [
    "run_pipeline(api_url, users_folder, True)"
   ]
  },
  {
   "cell_type": "code",
   "execution_count": null,
   "id": "19138823-f6d5-4227-b1a1-61a36a1da3a6",
   "metadata": {},
   "outputs": [],
   "source": []
  }
 ],
 "metadata": {
  "kernelspec": {
   "display_name": "Python 3 (ipykernel)",
   "language": "python",
   "name": "python3"
  },
  "language_info": {
   "codemirror_mode": {
    "name": "ipython",
    "version": 3
   },
   "file_extension": ".py",
   "mimetype": "text/x-python",
   "name": "python",
   "nbconvert_exporter": "python",
   "pygments_lexer": "ipython3",
   "version": "3.9.21"
  }
 },
 "nbformat": 4,
 "nbformat_minor": 5
}
