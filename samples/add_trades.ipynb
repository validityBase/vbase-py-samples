{
 "cells": [
  {
   "cell_type": "markdown",
   "metadata": {},
   "source": [
    "# add_trades"
   ]
  },
  {
   "cell_type": "markdown",
   "metadata": {},
   "source": [
    "\n",
    "This sample creates a strategy comprising JSON trade records<br>\n",
    "and verifies the strategy.<br>\n"
   ]
  },
  {
   "cell_type": "code",
   "execution_count": null,
   "metadata": {},
   "outputs": [],
   "source": [
    "from datetime import datetime\n",
    "import json\n",
    "import pprint\n",
    "import time"
   ]
  },
  {
   "cell_type": "code",
   "execution_count": null,
   "metadata": {},
   "outputs": [],
   "source": [
    "from vbase import (\n",
    "    VBaseClient,\n",
    "    VBaseDataset,\n",
    "    VBaseJsonObject,\n",
    ")"
   ]
  },
  {
   "cell_type": "markdown",
   "metadata": {},
   "source": [
    "## Configuration"
   ]
  },
  {
   "cell_type": "markdown",
   "metadata": {},
   "source": [
    "Name for the strategy to create.<br>\n",
    "Use a test dataset name that is unique and will not collide with other tests."
   ]
  },
  {
   "cell_type": "code",
   "execution_count": null,
   "metadata": {},
   "outputs": [],
   "source": [
    "STRATEGY_NAME = \"strategy_\" + datetime.now().strftime(\"%Y%m%d%H%M%S\")"
   ]
  },
  {
   "cell_type": "markdown",
   "metadata": {},
   "source": [
    "## Setup"
   ]
  },
  {
   "cell_type": "markdown",
   "metadata": {},
   "source": [
    "Initialize vBase using environment variables."
   ]
  },
  {
   "cell_type": "code",
   "execution_count": null,
   "metadata": {},
   "outputs": [],
   "source": [
    "vbc = VBaseClient.create_instance_from_env()"
   ]
  },
  {
   "cell_type": "markdown",
   "metadata": {},
   "source": [
    "Create the vBase dataset object."
   ]
  },
  {
   "cell_type": "code",
   "execution_count": null,
   "metadata": {},
   "outputs": [],
   "source": [
    "ds = VBaseDataset(vbc, STRATEGY_NAME, VBaseJsonObject)\n",
    "print(f\"Created dataset: {STRATEGY_NAME}\")"
   ]
  },
  {
   "cell_type": "markdown",
   "metadata": {},
   "source": [
    "## Post Trades"
   ]
  },
  {
   "cell_type": "code",
   "execution_count": null,
   "metadata": {},
   "outputs": [],
   "source": [
    "trades = []\n",
    "receipts = []\n",
    "start_time = time.time()\n",
    "for i in range(10):\n",
    "    trade = json.dumps(\n",
    "        {\n",
    "            \"tade_id\": i,\n",
    "            \"symbol\": \"ETHUSD\",\n",
    "            \"size\": 1 if i % 2 == 0 else -1,\n",
    "        }\n",
    "    )\n",
    "    trades.append(trade)\n",
    "    receipt = ds.add_record(trade)\n",
    "    print(f\"Posted trade: {pprint.pformat(receipt)}\")\n",
    "    receipts.append(receipt)\n",
    "elapsed_time = time.time() - start_time\n",
    "print(f\"Posting trades took {elapsed_time} seconds.\")\n",
    "print(f\"TPS: {10 / elapsed_time}\")"
   ]
  },
  {
   "cell_type": "markdown",
   "metadata": {},
   "source": [
    "## Validate Trades"
   ]
  },
  {
   "cell_type": "markdown",
   "metadata": {},
   "source": [
    "Find the commitment receipts for the strategy.<br>\n",
    "Note that this operation queries the blockchain for<br>\n",
    "commitment transaction and timestamps, and verifies data integrity<br>\n",
    "without relying on the user's cooperation.<br>\n",
    "First, we will create a copy dataset to be validated by the consumer."
   ]
  },
  {
   "cell_type": "code",
   "execution_count": null,
   "metadata": {},
   "outputs": [],
   "source": [
    "ds_dict = ds.to_dict()\n",
    "ds_dict = {k: ds_dict[k] for k in [\"name\", \"owner\", \"record_type_name\", \"records\"]}\n",
    "print(\n",
    "    f\"Initialize validation strategy dataset using the following data:\\n{pprint.pformat(ds_dict)}\"\n",
    ")"
   ]
  },
  {
   "cell_type": "code",
   "execution_count": null,
   "metadata": {},
   "outputs": [],
   "source": [
    "ds_copy = VBaseDataset(vbc, init_dict=ds_dict)\n",
    "print(f\"Copy dataset before timestamp validation:\\n{pprint.pformat(ds_copy.to_dict())}\")"
   ]
  },
  {
   "cell_type": "markdown",
   "metadata": {},
   "source": [
    "Get commitment receipts for the dataset's records."
   ]
  },
  {
   "cell_type": "code",
   "execution_count": null,
   "metadata": {},
   "outputs": [],
   "source": [
    "commitment_receipts = ds_copy.get_commitment_receipts()\n",
    "print(f\"Commitment receipts: {pprint.pformat(commitment_receipts)}\")"
   ]
  },
  {
   "cell_type": "markdown",
   "metadata": {},
   "source": [
    "Display the validated dataset."
   ]
  },
  {
   "cell_type": "code",
   "execution_count": null,
   "metadata": {},
   "outputs": [],
   "source": [
    "ds_copy.try_restore_timestamps_from_index()\n",
    "print(f\"Copy dataset after timestamp validation:\\n{pprint.pformat(ds_copy.to_dict())}\")"
   ]
  },
  {
   "cell_type": "markdown",
   "metadata": {},
   "source": [
    "Display the validated dataset as DataFrame suitable for portfolio analysis."
   ]
  },
  {
   "cell_type": "code",
   "execution_count": null,
   "metadata": {},
   "outputs": [],
   "source": [
    "df = ds_copy.get_pd_data_frame()\n",
    "print(f\"Strategy DataFrame:\\n{pprint.pformat(df)}\")"
   ]
  },
  {
   "cell_type": "markdown",
   "metadata": {},
   "source": [
    "Plot the cumulative strategy return<br>\n",
    "using a fictional return series."
   ]
  },
  {
   "cell_type": "code",
   "execution_count": null,
   "metadata": {},
   "outputs": [],
   "source": [
    "df[\"wt\"] = df[\"size\"].cumsum()\n",
    "returns = [0.01, -0.02, 0.03, -0.01, 0.02, -0.03, 0.015, -0.01, 0.025, -0.02]\n",
    "(1 + df[\"wt\"] * returns).cumprod().plot()"
   ]
  }
 ],
 "metadata": {
  "kernelspec": {
   "display_name": "Python 3 (ipykernel)",
   "language": "python",
   "name": "python3"
  },
  "language_info": {
   "codemirror_mode": {
    "name": "ipython",
    "version": 3
   },
   "file_extension": ".py",
   "mimetype": "text/x-python",
   "name": "python",
   "nbconvert_exporter": "python",
   "pygments_lexer": "ipython3",
   "version": "3.8.18"
  }
 },
 "nbformat": 4,
 "nbformat_minor": 4
}
