{
 "cells": [
  {
   "cell_type": "markdown",
   "metadata": {},
   "source": [
    "# add_trades_parallel"
   ]
  },
  {
   "cell_type": "markdown",
   "metadata": {},
   "source": [
    "\n",
    "This sample creates a strategy comprising JSON trade records<br>\n",
    "and verifies the strategy.<br>\n"
   ]
  },
  {
   "cell_type": "markdown",
   "metadata": {},
   "source": [
    "## Imports"
   ]
  },
  {
   "cell_type": "code",
   "execution_count": 1,
   "metadata": {
    "jupyter": {
     "source_hidden": true
    }
   },
   "outputs": [],
   "source": [
    "from datetime import datetime\n",
    "import json\n",
    "import os\n",
    "import pprint\n",
    "import random\n",
    "import subprocess\n",
    "import sys\n",
    "import time\n",
    "from concurrent.futures import ThreadPoolExecutor\n",
    "from dotenv import load_dotenv\n",
    "import matplotlib.pyplot as plt"
   ]
  },
  {
   "cell_type": "code",
   "execution_count": 2,
   "metadata": {
    "jupyter": {
     "source_hidden": true
    }
   },
   "outputs": [],
   "source": [
    "from vbase import (\n",
    "    VBaseClient,\n",
    "    ForwarderCommitmentService,\n",
    "    VBaseDataset,\n",
    "    VBaseJsonObject,\n",
    ")"
   ]
  },
  {
   "cell_type": "code",
   "execution_count": 3,
   "metadata": {
    "jupyter": {
     "source_hidden": true
    }
   },
   "outputs": [],
   "source": [
    "from aws_utils import (\n",
    "    create_s3_client_from_env,\n",
    "    create_s3_objects_from_dataset,\n",
    "    init_vbase_dataset_from_s3_objects,\n",
    ")"
   ]
  },
  {
   "cell_type": "markdown",
   "metadata": {},
   "source": [
    "## Configuration"
   ]
  },
  {
   "cell_type": "markdown",
   "metadata": {},
   "source": [
    "The sample uses 5 users with strategies and 10 trades per strategy."
   ]
  },
  {
   "cell_type": "code",
   "execution_count": 4,
   "metadata": {},
   "outputs": [],
   "source": [
    "N_USERS = 5\n",
    "N_TRADES = 10"
   ]
  },
  {
   "cell_type": "markdown",
   "metadata": {},
   "source": [
    "Use hardcoded test accounts for the example.<br>\n",
    "Each account is defined by the private key that gives owners control of their data."
   ]
  },
  {
   "cell_type": "code",
   "execution_count": 5,
   "metadata": {},
   "outputs": [],
   "source": [
    "l_accounts = [\n",
    "    {\n",
    "        \"pk\": \"0xabfc6c981e4e9f1f26175bc40aef73248d467617309c5e04e83da34171999076\",\n",
    "        \"address\": \"0xA401F59d7190E4448Eb60691E3bc78f1Ef03e88C\",\n",
    "    },\n",
    "    {\n",
    "        \"pk\": \"0x422043f88fbd2f605f0237512e090032ad90c0a5583df4a189f446ab7abf779a\",\n",
    "        \"address\": \"0xEe8633d1fC69d045442Da84f08DF49C48826b163\",\n",
    "    },\n",
    "    {\n",
    "        \"pk\": \"0x321c704b7edbeec46a1200f6862548604ba255e2c1f7dd08e9c1d18fcfc0cfb9\",\n",
    "        \"address\": \"0x7e3CB5Bc50E1864b3Dc863299b4A4269D12928f1\",\n",
    "    },\n",
    "    {\n",
    "        \"pk\": \"0x7d0776af9f1eac044e9d390a84a9a3608350ebce036bc0215e6b19c77d51f700\",\n",
    "        \"address\": \"0xcd9b43102E26d3191a7a76eA98dF858daa1e34Ae\",\n",
    "    },\n",
    "    {\n",
    "        \"pk\": \"0x63716eb43c9a84224715bcf5dd901e9dd3100791526dc65993898c0a676ffa68\",\n",
    "        \"address\": \"0xd991dc481319fb3C93fe01d124a4ae0b197FcB8B\",\n",
    "    },\n",
    "]"
   ]
  },
  {
   "cell_type": "markdown",
   "metadata": {
    "jupyter": {
     "source_hidden": true
    }
   },
   "source": [
    "S3 bucket for the test data."
   ]
  },
  {
   "cell_type": "code",
   "execution_count": 6,
   "metadata": {
    "jupyter": {
     "source_hidden": true
    }
   },
   "outputs": [],
   "source": [
    "BUCKET_NAME = \"vbase-test\""
   ]
  },
  {
   "cell_type": "markdown",
   "metadata": {
    "jupyter": {
     "source_hidden": true
    }
   },
   "source": [
    "Name of the source S3 folder for the dataset records."
   ]
  },
  {
   "cell_type": "code",
   "execution_count": 7,
   "metadata": {
    "jupyter": {
     "source_hidden": true
    }
   },
   "outputs": [],
   "source": [
    "FOLDER_NAME = f\"add_trades_parallel/{datetime.now().strftime('%Y%m%d%H%M%S')}/\""
   ]
  },
  {
   "cell_type": "markdown",
   "metadata": {
    "jupyter": {
     "source_hidden": true
    }
   },
   "source": [
    "Check if the script is running in an interactive mode or a Jupyter notebook."
   ]
  },
  {
   "cell_type": "code",
   "execution_count": 8,
   "metadata": {
    "jupyter": {
     "source_hidden": true
    }
   },
   "outputs": [],
   "source": [
    "if \"ipykernel\" not in sys.modules and \"IPython\" in sys.modules:\n",
    "    # Load support for HTML display, if necessary.\n",
    "    from IPython.display import display, HTML\n",
    "\n",
    "    # The following line creates overactive warning.\n",
    "    # We want the import within the clause.\n",
    "    # pylint: disable=ungrouped-imports\n",
    "    import matplotlib\n",
    "\n",
    "    # Set plot backend to WebAgg.\n",
    "    # This backend provides interactive web charts.\n",
    "    matplotlib.use(\"WebAgg\")"
   ]
  },
  {
   "cell_type": "markdown",
   "metadata": {},
   "source": [
    "## Setup"
   ]
  },
  {
   "cell_type": "markdown",
   "metadata": {},
   "source": [
    "Load the information necessary to call vBase APIs."
   ]
  },
  {
   "cell_type": "code",
   "execution_count": 9,
   "metadata": {},
   "outputs": [],
   "source": [
    "load_dotenv(verbose=True, override=True)\n",
    "forwarder_url = os.environ.get(\"VBASE_FORWARDER_URL\")\n",
    "api_key = os.environ.get(\"VBASE_API_KEY\")"
   ]
  },
  {
   "cell_type": "markdown",
   "metadata": {
    "jupyter": {
     "source_hidden": true
    }
   },
   "source": [
    "Create an AWS client using environment variables."
   ]
  },
  {
   "cell_type": "code",
   "execution_count": 10,
   "metadata": {
    "jupyter": {
     "source_hidden": true
    }
   },
   "outputs": [],
   "source": [
    "boto_client = create_s3_client_from_env()"
   ]
  },
  {
   "cell_type": "markdown",
   "metadata": {},
   "source": [
    "Create strategy data.<br>\n",
    "This is the data users will be using to post trades.<br>\n",
    "We will simulate multiple users and strategies using multiple threads,<br>\n",
    "with each thread using a given strategy dataset."
   ]
  },
  {
   "cell_type": "code",
   "execution_count": 11,
   "metadata": {},
   "outputs": [],
   "source": [
    "l_starts = []\n",
    "for i_user in range(N_USERS):\n",
    "    vbc = VBaseClient(\n",
    "        ForwarderCommitmentService(\n",
    "            forwarder_url,\n",
    "            api_key,\n",
    "            l_accounts[i_user][\"pk\"],\n",
    "        )\n",
    "    )\n",
    "    strategy_data = {\n",
    "        \"name\": (f\"user{i_user}_strategy\" + datetime.now().strftime(\"%Y%m%d%H%M%S\")),\n",
    "        \"address\": l_accounts[i_user][\"address\"],\n",
    "        \"vbc\": vbc,\n",
    "    }\n",
    "    l_starts.append(strategy_data)"
   ]
  },
  {
   "cell_type": "code",
   "execution_count": 12,
   "metadata": {},
   "outputs": [
    {
     "name": "stdout",
     "output_type": "stream",
     "text": [
      "Created users and strategies:\n",
      "[{'address': '0xA401F59d7190E4448Eb60691E3bc78f1Ef03e88C',\n",
      "  'name': 'user0_strategy20240513131645',\n",
      "  'vbc': <vbase.core.vbase_client.VBaseClient object at 0x7f37cf7074f0>},\n",
      " {'address': '0xEe8633d1fC69d045442Da84f08DF49C48826b163',\n",
      "  'name': 'user1_strategy20240513131645',\n",
      "  'vbc': <vbase.core.vbase_client.VBaseClient object at 0x7f37c6362f40>},\n",
      " {'address': '0x7e3CB5Bc50E1864b3Dc863299b4A4269D12928f1',\n",
      "  'name': 'user2_strategy20240513131645',\n",
      "  'vbc': <vbase.core.vbase_client.VBaseClient object at 0x7f37c633be80>},\n",
      " {'address': '0xcd9b43102E26d3191a7a76eA98dF858daa1e34Ae',\n",
      "  'name': 'user3_strategy20240513131645',\n",
      "  'vbc': <vbase.core.vbase_client.VBaseClient object at 0x7f37c63a5fa0>},\n",
      " {'address': '0xd991dc481319fb3C93fe01d124a4ae0b197FcB8B',\n",
      "  'name': 'user4_strategy20240513131645',\n",
      "  'vbc': <vbase.core.vbase_client.VBaseClient object at 0x7f37c6277610>}]\n"
     ]
    }
   ],
   "source": [
    "print(f\"Created users and strategies:\\n{pprint.pformat(l_starts)}\")"
   ]
  },
  {
   "cell_type": "markdown",
   "metadata": {},
   "source": [
    "## Create Strategy Datasets"
   ]
  },
  {
   "cell_type": "code",
   "execution_count": 13,
   "metadata": {},
   "outputs": [],
   "source": [
    "def create_strategy_dataset(i_strat):\n",
    "    \"\"\"\n",
    "    Create the strategy dataset\n",
    "    :param i_strat: Strategy index\n",
    "    \"\"\"\n",
    "    # Create the vBase dataset object.\n",
    "    ds_strat = VBaseDataset(\n",
    "        l_starts[i_strat][\"vbc\"], l_starts[i_strat][\"name\"], VBaseJsonObject\n",
    "    )\n",
    "    print(f\"Created dataset: {pprint.pformat(ds_strat.to_dict())}\")\n",
    "    return ds_strat"
   ]
  },
  {
   "cell_type": "code",
   "execution_count": 14,
   "metadata": {
    "jupyter": {
     "source_hidden": true
    }
   },
   "outputs": [
    {
     "name": "stdout",
     "output_type": "stream",
     "text": [
      "Created dataset: {'cid': '0xabb0cc340e695365d7592425fb3f24acbd2c07095aaa3ccc0139cc530d235ee3',\n",
      " 'name': 'user4_strategy20240513131645',\n",
      " 'owner': '0xd991dc481319fb3C93fe01d124a4ae0b197FcB8B',\n",
      " 'record_type_name': 'VBaseJsonObject',\n",
      " 'records': [],\n",
      " 'timestamps': []}\n",
      "Created dataset: {'cid': '0x6e163811c51c460902605369fbf76d5f710621d9be3631b6b94c432e0a0933de',\n",
      " 'name': 'user0_strategy20240513131645',\n",
      " 'owner': '0xA401F59d7190E4448Eb60691E3bc78f1Ef03e88C',\n",
      " 'record_type_name': 'VBaseJsonObject',\n",
      " 'records': [],\n",
      " 'timestamps': []}\n",
      "Created dataset: {'cid': '0x9e96fd86bee08ee320f735431ef296cdc12dfbf937f1c1a61416248105a38b06',\n",
      " 'name': 'user3_strategy20240513131645',\n",
      " 'owner': '0xcd9b43102E26d3191a7a76eA98dF858daa1e34Ae',\n",
      " 'record_type_name': 'VBaseJsonObject',\n",
      " 'records': [],\n",
      " 'timestamps': []}\n",
      "Created dataset: {'cid': '0xec63b24284f3110cba8e31911debb9e2159d1cae98ecd22dac0f80f2d1f15f45',\n",
      " 'name': 'user2_strategy20240513131645',\n",
      " 'owner': '0x7e3CB5Bc50E1864b3Dc863299b4A4269D12928f1',\n",
      " 'record_type_name': 'VBaseJsonObject',\n",
      " 'records': [],\n",
      " 'timestamps': []}\n",
      "Created dataset: {'cid': '0x7b3e2351572e0c16794989e31badfbc06f617460b09b2a3a3cd09e342bc49ff3',\n",
      " 'name': 'user1_strategy20240513131645',\n",
      " 'owner': '0xEe8633d1fC69d045442Da84f08DF49C48826b163',\n",
      " 'record_type_name': 'VBaseJsonObject',\n",
      " 'records': [],\n",
      " 'timestamps': []}\n"
     ]
    }
   ],
   "source": [
    "with ThreadPoolExecutor(max_workers=len(l_starts)) as executor:\n",
    "    results = executor.map(create_strategy_dataset, range(len(l_starts)))\n",
    "l_datasets = list(results)"
   ]
  },
  {
   "cell_type": "markdown",
   "metadata": {},
   "source": [
    "## Post Trades"
   ]
  },
  {
   "cell_type": "code",
   "execution_count": 21,
   "metadata": {},
   "outputs": [],
   "source": [
    "def post_strategy_trades(i_strat):\n",
    "    \"\"\"\n",
    "    Post trades for a strategy\n",
    "    :param i_strat: Strategy index\n",
    "    \"\"\"\n",
    "    trades = []\n",
    "    receipts = []\n",
    "    # Create a set of pseudorandom trades with a reproducible seed.\n",
    "    random.seed(i_strat)\n",
    "    for i_trade in range(N_TRADES):\n",
    "        trade = json.dumps(\n",
    "            {\n",
    "                \"trade_id\": i_trade,\n",
    "                \"symbol\": \"ETHUSD\",\n",
    "                # Create a random trade in [-1, 1].\n",
    "                \"size\": round(random.random() * 2 - 1, 2),\n",
    "            }\n",
    "        )\n",
    "        trades.append(trade)\n",
    "        # Add trade to the vBase dataset object.\n",
    "        receipt = l_datasets[i_strat].add_record(trade)\n",
    "        print(f\"Posted trade: {pprint.pformat(receipt)}\")\n",
    "        receipts.append(receipt)\n",
    "    return trades, receipts"
   ]
  },
  {
   "cell_type": "code",
   "execution_count": 16,
   "metadata": {},
   "outputs": [
    {
     "name": "stdout",
     "output_type": "stream",
     "text": [
      "Posted trade: {'objectCid': '0xf4adc1279ad6b7d025ce06de4a7ab4d699f3a71f43bcc3ce3d0127c2fd3828fa',\n",
      " 'timestamp': '2024-05-13 20:22:38+00:00',\n",
      " 'user': '0xA401F59d7190E4448Eb60691E3bc78f1Ef03e88C'}\n",
      "Posted trade: {'objectCid': '0xeb331fdf4d48cb5edc85424baf685d9f1c544b702f9ae135396b4bd7be8da74f',\n",
      " 'timestamp': '2024-05-13 20:22:39+00:00',\n",
      " 'user': '0xcd9b43102E26d3191a7a76eA98dF858daa1e34Ae'}\n",
      "Posted trade: {'objectCid': '0xae4a66383ad8cb6179cac97fc9bb5eec634ed43da28673662cf96cba4478d27f',\n",
      " 'timestamp': '2024-05-13 20:22:39+00:00',\n",
      " 'user': '0x7e3CB5Bc50E1864b3Dc863299b4A4269D12928f1'}\n",
      "Posted trade: {'objectCid': '0xd7511b10f36e0b5ea59e7fdfc9f629ffe4d2be845ae9d5e489e2b5b893acd032',\n",
      " 'timestamp': '2024-05-13 20:22:39+00:00',\n",
      " 'user': '0xEe8633d1fC69d045442Da84f08DF49C48826b163'}\n",
      "Posted trade: {'objectCid': '0x8b1e72c5faaaf7790d6332bbef75d7d6807346d0270eae1ec6a5cc32fb218287',\n",
      " 'timestamp': '2024-05-13 20:22:39+00:00',\n",
      " 'user': '0xd991dc481319fb3C93fe01d124a4ae0b197FcB8B'}\n",
      "Posted trade: {'objectCid': '0xcf0929e381a99c48c9bf188fa31d4a8491882d43de108cef9813e637e98eda86',\n",
      " 'timestamp': '2024-05-13 20:22:41+00:00',\n",
      " 'user': '0xA401F59d7190E4448Eb60691E3bc78f1Ef03e88C'}\n",
      "Posted trade: {'objectCid': '0x35e9fbc48f2a05e148cfed74313959d7ee04201b25c84b0d71dfa9ff5301043f',\n",
      " 'timestamp': '2024-05-13 20:22:42+00:00',\n",
      " 'user': '0x7e3CB5Bc50E1864b3Dc863299b4A4269D12928f1'}\n",
      "Posted trade: {'objectCid': '0x030545497a3bb34a759ffa42a3f0ea32f9ef40ac5d1e2f664f8461237539b1b3',\n",
      " 'timestamp': '2024-05-13 20:22:42+00:00',\n",
      " 'user': '0xEe8633d1fC69d045442Da84f08DF49C48826b163'}\n",
      "Posted trade: {'objectCid': '0x652e942279e4289b47c7421afff73fd674bdb7acf5acc2f036fe3d94b9d92a04',\n",
      " 'timestamp': '2024-05-13 20:22:42+00:00',\n",
      " 'user': '0xcd9b43102E26d3191a7a76eA98dF858daa1e34Ae'}\n",
      "Posted trade: {'objectCid': '0x93938e550ae5e49504f16cbd4007b6eab48babe7b2ef9680d5cfb8132b0eb969',\n",
      " 'timestamp': '2024-05-13 20:22:42+00:00',\n",
      " 'user': '0xd991dc481319fb3C93fe01d124a4ae0b197FcB8B'}\n",
      "Posted trade: {'objectCid': '0xd08ca3b4069fb4f3644acaf3010291a4ba8010b5e9ade3b1efa8da336830af81',\n",
      " 'timestamp': '2024-05-13 20:22:43+00:00',\n",
      " 'user': '0xA401F59d7190E4448Eb60691E3bc78f1Ef03e88C'}\n",
      "Posted trade: {'objectCid': '0x30cf5a9bff7ecf4750ebf5c4976a3c0f5b1e591fe18f0a729cb2dfc7d4895a91',\n",
      " 'timestamp': '2024-05-13 20:22:45+00:00',\n",
      " 'user': '0xcd9b43102E26d3191a7a76eA98dF858daa1e34Ae'}\n",
      "Posted trade: {'objectCid': '0xa291a818798f4a6e2ef9d9d22383180d9ac2379d07098559c466328cdd71d3e6',\n",
      " 'timestamp': '2024-05-13 20:22:45+00:00',\n",
      " 'user': '0xd991dc481319fb3C93fe01d124a4ae0b197FcB8B'}\n",
      "Posted trade: {'objectCid': '0x567bb12c736e922449246d2b53b883e258c7b635ff96ab98e3ecd66840e1892e',\n",
      " 'timestamp': '2024-05-13 20:22:45+00:00',\n",
      " 'user': '0xEe8633d1fC69d045442Da84f08DF49C48826b163'}\n",
      "Posted trade: {'objectCid': '0x3cb9d81dd6795c978d162296289c7f0217b5053f1f75c17daeb72d7d9e143614',\n",
      " 'timestamp': '2024-05-13 20:22:45+00:00',\n",
      " 'user': '0x7e3CB5Bc50E1864b3Dc863299b4A4269D12928f1'}\n",
      "Posted trade: {'objectCid': '0x6022709acff915c9638b3f05e4d015afd389142d409b666161d04075cc1210a3',\n",
      " 'timestamp': '2024-05-13 20:22:46+00:00',\n",
      " 'user': '0xA401F59d7190E4448Eb60691E3bc78f1Ef03e88C'}\n",
      "Posted trade: {'objectCid': '0xd717f3f34e920c99609e2bbd5828192131c569af1d0a61db002636cf6c2be21a',\n",
      " 'timestamp': '2024-05-13 20:22:48+00:00',\n",
      " 'user': '0xcd9b43102E26d3191a7a76eA98dF858daa1e34Ae'}\n",
      "Posted trade: {'objectCid': '0x6fa418a44a60e5220aa29cea2620a8263ebf0827f855c86e31dd6a84bee883e6',\n",
      " 'timestamp': '2024-05-13 20:22:49+00:00',\n",
      " 'user': '0xd991dc481319fb3C93fe01d124a4ae0b197FcB8B'}Posted trade: {'objectCid': '0xcec26d13d58a66e9be288b5f51e88c7c415a470630d458f0641a8343993c934b',\n",
      " 'timestamp': '2024-05-13 20:22:49+00:00',\n",
      " 'user': '0xEe8633d1fC69d045442Da84f08DF49C48826b163'}\n",
      "\n",
      "Posted trade: {'objectCid': '0x2cce254eebabd4a9f30b1985cd87c5c0efea1f435c6296b25380db52571ebb29',\n",
      " 'timestamp': '2024-05-13 20:22:49+00:00',\n",
      " 'user': '0xA401F59d7190E4448Eb60691E3bc78f1Ef03e88C'}\n",
      "Posted trade: {'objectCid': '0xa8c468d1ec05491ef828c5e05ef272194bfbddab63a8e70ef29bfb1fd95a6488',\n",
      " 'timestamp': '2024-05-13 20:22:49+00:00',\n",
      " 'user': '0x7e3CB5Bc50E1864b3Dc863299b4A4269D12928f1'}\n",
      "Posted trade: {'objectCid': '0xf7f368c75d2ded3c8395406089de266b933a25374d487d767c5e2a5ef6f3d562',\n",
      " 'timestamp': '2024-05-13 20:22:50+00:00',\n",
      " 'user': '0xcd9b43102E26d3191a7a76eA98dF858daa1e34Ae'}\n",
      "Posted trade: {'objectCid': '0xf22ef0b416a54702c68dc0d33d4c73561df6157ddcd5a6bf6e98202017f4ea2b',\n",
      " 'timestamp': '2024-05-13 20:22:52+00:00',\n",
      " 'user': '0xA401F59d7190E4448Eb60691E3bc78f1Ef03e88C'}\n",
      "Posted trade: {'objectCid': '0xa2d341e9f81629574b8125a4770c290075b3267a18bfdb782d42be63ab6fed8b',\n",
      " 'timestamp': '2024-05-13 20:22:52+00:00',\n",
      " 'user': '0x7e3CB5Bc50E1864b3Dc863299b4A4269D12928f1'}\n",
      "Posted trade: {'objectCid': '0x1388c6fc6c60dd09afa158aa606d627a0864b21e9c6cf06c5f3f9345717d1cfe',\n",
      " 'timestamp': '2024-05-13 20:22:52+00:00',\n",
      " 'user': '0xd991dc481319fb3C93fe01d124a4ae0b197FcB8B'}\n",
      "Posted trade: {'objectCid': '0x189c98bdfe70b144d6f55a7405fabf4873c198b67101896285476cb72157288e',\n",
      " 'timestamp': '2024-05-13 20:22:52+00:00',\n",
      " 'user': '0xEe8633d1fC69d045442Da84f08DF49C48826b163'}\n",
      "Posted trade: {'objectCid': '0x9eeea873a907c2ee9a8788172232ec8c6e2c28abc8b8c5470b1825402e2249bc',\n",
      " 'timestamp': '2024-05-13 20:22:53+00:00',\n",
      " 'user': '0xcd9b43102E26d3191a7a76eA98dF858daa1e34Ae'}\n",
      "Posted trade: {'objectCid': '0xcc0e4431b453ce5452e2d36f12301d71f18367a97d93498b2b5e11e28fb5ac22',\n",
      " 'timestamp': '2024-05-13 20:22:55+00:00',\n",
      " 'user': '0xEe8633d1fC69d045442Da84f08DF49C48826b163'}\n",
      "Posted trade: {'objectCid': '0x41e4bcb7e55d132c3523950e84bcdc259944820ed7cc03fbb6dcab5f6538702b',\n",
      " 'timestamp': '2024-05-13 20:22:55+00:00',\n",
      " 'user': '0xd991dc481319fb3C93fe01d124a4ae0b197FcB8B'}\n",
      "Posted trade: {'objectCid': '0x0181bf68d1d4e1d77f93b140cc8fdea66f4ed0ef4dd88195a777577353f6b535',\n",
      " 'timestamp': '2024-05-13 20:22:55+00:00',\n",
      " 'user': '0x7e3CB5Bc50E1864b3Dc863299b4A4269D12928f1'}\n",
      "Posted trade: {'objectCid': '0xa2f41e02f18c698577b706799f174f48f0e933e92c207e365c704a4d60355d77',\n",
      " 'timestamp': '2024-05-13 20:22:55+00:00',\n",
      " 'user': '0xA401F59d7190E4448Eb60691E3bc78f1Ef03e88C'}\n",
      "Posted trade: {'objectCid': '0x7223cdcf5b53e1c08ecb49a6e19bd9d9c1f2abfe198c5e760c1813d45d3009ba',\n",
      " 'timestamp': '2024-05-13 20:22:56+00:00',\n",
      " 'user': '0xcd9b43102E26d3191a7a76eA98dF858daa1e34Ae'}\n",
      "Posted trade: {'objectCid': '0x914abbda3866fa722cef24a402afb56bdd82418e3b187281d09b90b1b24b9bcd',\n",
      " 'timestamp': '2024-05-13 20:22:58+00:00',\n",
      " 'user': '0xA401F59d7190E4448Eb60691E3bc78f1Ef03e88C'}\n",
      "Posted trade: {'objectCid': '0x61fe9120fea828dee243b536817c417aba6974b46feac63b5a3b9076a910f6ef',\n",
      " 'timestamp': '2024-05-13 20:22:58+00:00',\n",
      " 'user': '0xEe8633d1fC69d045442Da84f08DF49C48826b163'}\n",
      "Posted trade: {'objectCid': '0x0fc4c869486bbfb07c8a5b3e44f80df401becbcb02fb5713fd7cc96b0c0403cb',\n",
      " 'timestamp': '2024-05-13 20:22:58+00:00',\n",
      " 'user': '0x7e3CB5Bc50E1864b3Dc863299b4A4269D12928f1'}\n",
      "Posted trade: {'objectCid': '0x987a1ee4ae396a5b713f694415ecce3146ffaddda4fc108a64cc03c1ef616cd2',\n",
      " 'timestamp': '2024-05-13 20:22:58+00:00',\n",
      " 'user': '0xd991dc481319fb3C93fe01d124a4ae0b197FcB8B'}\n",
      "Posted trade: {'objectCid': '0xd759507b6ab3337469cb294b84f0a0d32ec40855809e8d200c85393abf6f190c',\n",
      " 'timestamp': '2024-05-13 20:22:59+00:00',\n",
      " 'user': '0xcd9b43102E26d3191a7a76eA98dF858daa1e34Ae'}\n",
      "Posted trade: {'objectCid': '0x1d49d93ce5d35903dcbd9c4fbb5ec923b564315f73e333417ad733a4ee3cdc4a',\n",
      " 'timestamp': '2024-05-13 20:23:01+00:00',\n",
      " 'user': '0x7e3CB5Bc50E1864b3Dc863299b4A4269D12928f1'}\n",
      "Posted trade: {'objectCid': '0x814077c08d6c2a79bc183f3ae9534b2b788cf36a9994c6b9877d904f73c0f7fb',\n",
      " 'timestamp': '2024-05-13 20:23:01+00:00',\n",
      " 'user': '0xEe8633d1fC69d045442Da84f08DF49C48826b163'}\n",
      "Posted trade: {'objectCid': '0x12067d83820e898961db094ab2b6742c228c1c6e43427423328be8d1135c0d58',\n",
      " 'timestamp': '2024-05-13 20:23:01+00:00',\n",
      " 'user': '0xA401F59d7190E4448Eb60691E3bc78f1Ef03e88C'}\n",
      "Posted trade: {'objectCid': '0x76350533deae6f7dc2ee3c0c4de68748f3ad8a84c6b4a34f311c8ab3e7fd965b',\n",
      " 'timestamp': '2024-05-13 20:23:01+00:00',\n",
      " 'user': '0xd991dc481319fb3C93fe01d124a4ae0b197FcB8B'}\n",
      "Posted trade: {'objectCid': '0xcf84071f3a4ae9760d60923dd34c338175454a8545d3721aefc8f7b229087df7',\n",
      " 'timestamp': '2024-05-13 20:23:01+00:00',\n",
      " 'user': '0xcd9b43102E26d3191a7a76eA98dF858daa1e34Ae'}\n",
      "Posted trade: {'objectCid': '0xb35e9da386c651751805392e62c5e04982806b40fb0749511b396c06149cca6e',\n",
      " 'timestamp': '2024-05-13 20:23:05+00:00',\n",
      " 'user': '0xEe8633d1fC69d045442Da84f08DF49C48826b163'}\n",
      "Posted trade: {'objectCid': '0xf46fbf9eac92af347ba7ddf72dad6d0d7de5882c914089081704a45fc90dd02e',\n",
      " 'timestamp': '2024-05-13 20:23:05+00:00',\n",
      " 'user': '0xA401F59d7190E4448Eb60691E3bc78f1Ef03e88C'}\n",
      "Posted trade: {'objectCid': '0x0a98145ff29786f1d6f3ebe8708c761a8b16b26ef900e955e5a947b71f38645e',\n",
      " 'timestamp': '2024-05-13 20:23:05+00:00',\n",
      " 'user': '0xd991dc481319fb3C93fe01d124a4ae0b197FcB8B'}\n",
      "Posted trade: {'objectCid': '0x8ec90458ec6c55d56928efcbedf8aee75f70df5355cf8eaa763e4d393beb9ad6',\n",
      " 'timestamp': '2024-05-13 20:23:05+00:00',\n",
      " 'user': '0xcd9b43102E26d3191a7a76eA98dF858daa1e34Ae'}\n",
      "Posted trade: {'objectCid': '0x90b645acaf5265b33405b9bf557179902e04eeb49a75142186b390d5b7ec7bf2',\n",
      " 'timestamp': '2024-05-13 20:23:05+00:00',\n",
      " 'user': '0x7e3CB5Bc50E1864b3Dc863299b4A4269D12928f1'}\n",
      "Posted trade: {'objectCid': '0xb9ce6b4d572794aebde063b0eb0ea6f38a7f1a2779b253569c5339d6a03b8998',\n",
      " 'timestamp': '2024-05-13 20:23:07+00:00',\n",
      " 'user': '0xEe8633d1fC69d045442Da84f08DF49C48826b163'}\n",
      "Posted trade: {'objectCid': '0xe765b095c265194f033a87b8e375cc301f930d2ee3de36aac3be496b3a090630',\n",
      " 'timestamp': '2024-05-13 20:23:07+00:00',\n",
      " 'user': '0x7e3CB5Bc50E1864b3Dc863299b4A4269D12928f1'}\n",
      "Posted trade: {'objectCid': '0xf1514a97a7d7f104915102fbd2cd7d3685d80e976985b3ddeed3d2988e7db006',\n",
      " 'timestamp': '2024-05-13 20:23:07+00:00',\n",
      " 'user': '0xd991dc481319fb3C93fe01d124a4ae0b197FcB8B'}\n"
     ]
    }
   ],
   "source": [
    "start_time = time.time()\n",
    "with ThreadPoolExecutor(max_workers=len(l_starts)) as executor:\n",
    "    results = executor.map(post_strategy_trades, range(len(l_starts)))\n",
    "elapsed_time = time.time() - start_time\n",
    "l_trades, l_receipts = zip(*results)"
   ]
  },
  {
   "cell_type": "code",
   "execution_count": 18,
   "metadata": {
    "jupyter": {
     "source_hidden": true
    }
   },
   "outputs": [
    {
     "name": "stdout",
     "output_type": "stream",
     "text": [
      "Trades: 50\n",
      "Time elapsed (sec.): 32.781461238861084\n",
      "Throughput (trades/min.): 91.51513955221809\n"
     ]
    }
   ],
   "source": [
    "print(f\"Trades: {N_USERS * N_TRADES}\")\n",
    "print(f\"Time elapsed (sec.): {elapsed_time}\")\n",
    "print(f\"Throughput (trades/min.): {N_USERS * N_TRADES / elapsed_time * 60}\")"
   ]
  },
  {
   "cell_type": "markdown",
   "metadata": {},
   "source": [
    "Save all the posted trades."
   ]
  },
  {
   "cell_type": "code",
   "execution_count": 19,
   "metadata": {
    "collapsed": true,
    "jupyter": {
     "outputs_hidden": true,
     "source_hidden": true
    }
   },
   "outputs": [
    {
     "name": "stdout",
     "output_type": "stream",
     "text": [
      "Saving dataset: user0_strategy20240513131645\n",
      "Created S3 object: add_trades_parallel/20240513131631/user0_strategy20240513131645/obj_0.json\n",
      "Created S3 object: add_trades_parallel/20240513131631/user0_strategy20240513131645/obj_1.json\n",
      "Created S3 object: add_trades_parallel/20240513131631/user0_strategy20240513131645/obj_2.json\n",
      "Created S3 object: add_trades_parallel/20240513131631/user0_strategy20240513131645/obj_3.json\n",
      "Created S3 object: add_trades_parallel/20240513131631/user0_strategy20240513131645/obj_4.json\n",
      "Created S3 object: add_trades_parallel/20240513131631/user0_strategy20240513131645/obj_5.json\n",
      "Created S3 object: add_trades_parallel/20240513131631/user0_strategy20240513131645/obj_6.json\n",
      "Created S3 object: add_trades_parallel/20240513131631/user0_strategy20240513131645/obj_7.json\n",
      "Created S3 object: add_trades_parallel/20240513131631/user0_strategy20240513131645/obj_8.json\n",
      "Created S3 object: add_trades_parallel/20240513131631/user0_strategy20240513131645/obj_9.json\n",
      "Saving dataset: user1_strategy20240513131645\n",
      "Created S3 object: add_trades_parallel/20240513131631/user1_strategy20240513131645/obj_0.json\n",
      "Created S3 object: add_trades_parallel/20240513131631/user1_strategy20240513131645/obj_1.json\n",
      "Created S3 object: add_trades_parallel/20240513131631/user1_strategy20240513131645/obj_2.json\n",
      "Created S3 object: add_trades_parallel/20240513131631/user1_strategy20240513131645/obj_3.json\n",
      "Created S3 object: add_trades_parallel/20240513131631/user1_strategy20240513131645/obj_4.json\n",
      "Created S3 object: add_trades_parallel/20240513131631/user1_strategy20240513131645/obj_5.json\n",
      "Created S3 object: add_trades_parallel/20240513131631/user1_strategy20240513131645/obj_6.json\n",
      "Created S3 object: add_trades_parallel/20240513131631/user1_strategy20240513131645/obj_7.json\n",
      "Created S3 object: add_trades_parallel/20240513131631/user1_strategy20240513131645/obj_8.json\n",
      "Created S3 object: add_trades_parallel/20240513131631/user1_strategy20240513131645/obj_9.json\n",
      "Saving dataset: user2_strategy20240513131645\n",
      "Created S3 object: add_trades_parallel/20240513131631/user2_strategy20240513131645/obj_0.json\n",
      "Created S3 object: add_trades_parallel/20240513131631/user2_strategy20240513131645/obj_1.json\n",
      "Created S3 object: add_trades_parallel/20240513131631/user2_strategy20240513131645/obj_2.json\n",
      "Created S3 object: add_trades_parallel/20240513131631/user2_strategy20240513131645/obj_3.json\n",
      "Created S3 object: add_trades_parallel/20240513131631/user2_strategy20240513131645/obj_4.json\n",
      "Created S3 object: add_trades_parallel/20240513131631/user2_strategy20240513131645/obj_5.json\n",
      "Created S3 object: add_trades_parallel/20240513131631/user2_strategy20240513131645/obj_6.json\n",
      "Created S3 object: add_trades_parallel/20240513131631/user2_strategy20240513131645/obj_7.json\n",
      "Created S3 object: add_trades_parallel/20240513131631/user2_strategy20240513131645/obj_8.json\n",
      "Created S3 object: add_trades_parallel/20240513131631/user2_strategy20240513131645/obj_9.json\n",
      "Saving dataset: user3_strategy20240513131645\n",
      "Created S3 object: add_trades_parallel/20240513131631/user3_strategy20240513131645/obj_0.json\n",
      "Created S3 object: add_trades_parallel/20240513131631/user3_strategy20240513131645/obj_1.json\n",
      "Created S3 object: add_trades_parallel/20240513131631/user3_strategy20240513131645/obj_2.json\n",
      "Created S3 object: add_trades_parallel/20240513131631/user3_strategy20240513131645/obj_3.json\n",
      "Created S3 object: add_trades_parallel/20240513131631/user3_strategy20240513131645/obj_4.json\n",
      "Created S3 object: add_trades_parallel/20240513131631/user3_strategy20240513131645/obj_5.json\n",
      "Created S3 object: add_trades_parallel/20240513131631/user3_strategy20240513131645/obj_6.json\n",
      "Created S3 object: add_trades_parallel/20240513131631/user3_strategy20240513131645/obj_7.json\n",
      "Created S3 object: add_trades_parallel/20240513131631/user3_strategy20240513131645/obj_8.json\n",
      "Created S3 object: add_trades_parallel/20240513131631/user3_strategy20240513131645/obj_9.json\n",
      "Saving dataset: user4_strategy20240513131645\n",
      "Created S3 object: add_trades_parallel/20240513131631/user4_strategy20240513131645/obj_0.json\n",
      "Created S3 object: add_trades_parallel/20240513131631/user4_strategy20240513131645/obj_1.json\n",
      "Created S3 object: add_trades_parallel/20240513131631/user4_strategy20240513131645/obj_2.json\n",
      "Created S3 object: add_trades_parallel/20240513131631/user4_strategy20240513131645/obj_3.json\n",
      "Created S3 object: add_trades_parallel/20240513131631/user4_strategy20240513131645/obj_4.json\n",
      "Created S3 object: add_trades_parallel/20240513131631/user4_strategy20240513131645/obj_5.json\n",
      "Created S3 object: add_trades_parallel/20240513131631/user4_strategy20240513131645/obj_6.json\n",
      "Created S3 object: add_trades_parallel/20240513131631/user4_strategy20240513131645/obj_7.json\n",
      "Created S3 object: add_trades_parallel/20240513131631/user4_strategy20240513131645/obj_8.json\n",
      "Created S3 object: add_trades_parallel/20240513131631/user4_strategy20240513131645/obj_9.json\n"
     ]
    }
   ],
   "source": [
    "for ds in l_datasets:\n",
    "    print(f\"Saving dataset: {ds.name}\")\n",
    "    create_s3_objects_from_dataset(ds, boto_client, BUCKET_NAME, FOLDER_NAME)"
   ]
  },
  {
   "cell_type": "markdown",
   "metadata": {},
   "source": [
    "Display saved data using the shell."
   ]
  },
  {
   "cell_type": "code",
   "execution_count": 20,
   "metadata": {
    "editable": true,
    "jupyter": {
     "source_hidden": true
    },
    "slideshow": {
     "slide_type": ""
    },
    "tags": []
   },
   "outputs": [
    {
     "name": "stdout",
     "output_type": "stream",
     "text": [
      "Displaying S3 objects for dataset: user0_strategy20240513131645\n",
      "curl https://vbase-test.s3.amazonaws.com/add_trades_parallel/20240513131631/user0_strategy20240513131645/obj_0.json\n",
      "{\"trade_id\": 0, \"symbol\": \"ETHUSD\", \"size\": 0.6888437030500962}\n",
      "curl https://vbase-test.s3.amazonaws.com/add_trades_parallel/20240513131631/user0_strategy20240513131645/obj_1.json\n",
      "{\"trade_id\": 1, \"symbol\": \"ETHUSD\", \"size\": -0.7936679315385684}\n",
      "curl https://vbase-test.s3.amazonaws.com/add_trades_parallel/20240513131631/user0_strategy20240513131645/obj_2.json\n",
      "{\"trade_id\": 2, \"symbol\": \"ETHUSD\", \"size\": 0.8359100861754378}\n",
      "curl https://vbase-test.s3.amazonaws.com/add_trades_parallel/20240513131631/user0_strategy20240513131645/obj_3.json\n",
      "{\"trade_id\": 3, \"symbol\": \"ETHUSD\", \"size\": -0.44663471311709957}\n",
      "curl https://vbase-test.s3.amazonaws.com/add_trades_parallel/20240513131631/user0_strategy20240513131645/obj_4.json\n",
      "{\"trade_id\": 4, \"symbol\": \"ETHUSD\", \"size\": 0.6578400975568388}\n",
      "curl https://vbase-test.s3.amazonaws.com/add_trades_parallel/20240513131631/user0_strategy20240513131645/obj_5.json\n",
      "{\"trade_id\": 5, \"symbol\": \"ETHUSD\", \"size\": -0.38030008540092886}\n",
      "curl https://vbase-test.s3.amazonaws.com/add_trades_parallel/20240513131631/user0_strategy20240513131645/obj_6.json\n",
      "{\"trade_id\": 6, \"symbol\": \"ETHUSD\", \"size\": 0.7092967159826944}\n",
      "curl https://vbase-test.s3.amazonaws.com/add_trades_parallel/20240513131631/user0_strategy20240513131645/obj_7.json\n",
      "{\"trade_id\": 7, \"symbol\": \"ETHUSD\", \"size\": -0.8213075854692193}\n",
      "curl https://vbase-test.s3.amazonaws.com/add_trades_parallel/20240513131631/user0_strategy20240513131645/obj_8.json\n",
      "{\"trade_id\": 8, \"symbol\": \"ETHUSD\", \"size\": 0.7309683403701666}\n",
      "curl https://vbase-test.s3.amazonaws.com/add_trades_parallel/20240513131631/user0_strategy20240513131645/obj_9.json\n",
      "{\"trade_id\": 9, \"symbol\": \"ETHUSD\", \"size\": 0.016744750665503183}\n",
      "Displaying S3 objects for dataset: user1_strategy20240513131645\n",
      "curl https://vbase-test.s3.amazonaws.com/add_trades_parallel/20240513131631/user1_strategy20240513131645/obj_0.json\n",
      "{\"trade_id\": 0, \"symbol\": \"ETHUSD\", \"size\": -0.7312715117751976}\n",
      "curl https://vbase-test.s3.amazonaws.com/add_trades_parallel/20240513131631/user1_strategy20240513131645/obj_1.json\n",
      "{\"trade_id\": 1, \"symbol\": \"ETHUSD\", \"size\": -0.8669698086408202}\n",
      "curl https://vbase-test.s3.amazonaws.com/add_trades_parallel/20240513131631/user1_strategy20240513131645/obj_2.json\n",
      "{\"trade_id\": 2, \"symbol\": \"ETHUSD\", \"size\": 0.5303252050108769}\n",
      "curl https://vbase-test.s3.amazonaws.com/add_trades_parallel/20240513131631/user1_strategy20240513131645/obj_3.json\n",
      "{\"trade_id\": 3, \"symbol\": \"ETHUSD\", \"size\": -0.571199134842167}\n",
      "curl https://vbase-test.s3.amazonaws.com/add_trades_parallel/20240513131631/user1_strategy20240513131645/obj_4.json\n",
      "{\"trade_id\": 4, \"symbol\": \"ETHUSD\", \"size\": 0.6008956770859324}\n",
      "curl https://vbase-test.s3.amazonaws.com/add_trades_parallel/20240513131631/user1_strategy20240513131645/obj_5.json\n",
      "{\"trade_id\": 5, \"symbol\": \"ETHUSD\", \"size\": 0.21170376743975972}\n",
      "curl https://vbase-test.s3.amazonaws.com/add_trades_parallel/20240513131631/user1_strategy20240513131645/obj_6.json\n",
      "{\"trade_id\": 6, \"symbol\": \"ETHUSD\", \"size\": 0.011907551420830664}\n",
      "curl https://vbase-test.s3.amazonaws.com/add_trades_parallel/20240513131631/user1_strategy20240513131645/obj_7.json\n",
      "{\"trade_id\": 7, \"symbol\": \"ETHUSD\", \"size\": 0.09527773917410776}\n",
      "curl https://vbase-test.s3.amazonaws.com/add_trades_parallel/20240513131631/user1_strategy20240513131645/obj_8.json\n",
      "{\"trade_id\": 8, \"symbol\": \"ETHUSD\", \"size\": 0.6960881764472693}\n",
      "curl https://vbase-test.s3.amazonaws.com/add_trades_parallel/20240513131631/user1_strategy20240513131645/obj_9.json\n",
      "{\"trade_id\": 9, \"symbol\": \"ETHUSD\", \"size\": -0.13791396541338585}\n",
      "Displaying S3 objects for dataset: user2_strategy20240513131645\n",
      "curl https://vbase-test.s3.amazonaws.com/add_trades_parallel/20240513131631/user2_strategy20240513131645/obj_0.json\n",
      "{\"trade_id\": 0, \"symbol\": \"ETHUSD\", \"size\": 0.9120685437784988}\n",
      "curl https://vbase-test.s3.amazonaws.com/add_trades_parallel/20240513131631/user2_strategy20240513131645/obj_1.json\n",
      "{\"trade_id\": 1, \"symbol\": \"ETHUSD\", \"size\": -0.6900554583951795}\n",
      "curl https://vbase-test.s3.amazonaws.com/add_trades_parallel/20240513131631/user2_strategy20240513131645/obj_2.json\n",
      "{\"trade_id\": 2, \"symbol\": \"ETHUSD\", \"size\": 0.600904702991617}\n",
      "curl https://vbase-test.s3.amazonaws.com/add_trades_parallel/20240513131631/user2_strategy20240513131645/obj_3.json\n",
      "{\"trade_id\": 3, \"symbol\": \"ETHUSD\", \"size\": 0.8549512628561209}\n",
      "curl https://vbase-test.s3.amazonaws.com/add_trades_parallel/20240513131631/user2_strategy20240513131645/obj_4.json\n",
      "{\"trade_id\": 4, \"symbol\": \"ETHUSD\", \"size\": 0.2539512048262602}\n",
      "curl https://vbase-test.s3.amazonaws.com/add_trades_parallel/20240513131631/user2_strategy20240513131645/obj_5.json\n",
      "{\"trade_id\": 5, \"symbol\": \"ETHUSD\", \"size\": 0.7601015027223987}\n",
      "curl https://vbase-test.s3.amazonaws.com/add_trades_parallel/20240513131631/user2_strategy20240513131645/obj_6.json\n",
      "{\"trade_id\": 6, \"symbol\": \"ETHUSD\", \"size\": -0.05282422482970972}\n",
      "curl https://vbase-test.s3.amazonaws.com/add_trades_parallel/20240513131631/user2_strategy20240513131645/obj_7.json\n",
      "{\"trade_id\": 7, \"symbol\": \"ETHUSD\", \"size\": -0.39950852085335065}\n",
      "curl https://vbase-test.s3.amazonaws.com/add_trades_parallel/20240513131631/user2_strategy20240513131645/obj_8.json\n",
      "{\"trade_id\": 8, \"symbol\": \"ETHUSD\", \"size\": 0.7646344797575799}\n",
      "curl https://vbase-test.s3.amazonaws.com/add_trades_parallel/20240513131631/user2_strategy20240513131645/obj_9.json\n",
      "{\"trade_id\": 9, \"symbol\": \"ETHUSD\", \"size\": -0.389776807134522}\n",
      "Displaying S3 objects for dataset: user3_strategy20240513131645\n",
      "curl https://vbase-test.s3.amazonaws.com/add_trades_parallel/20240513131631/user3_strategy20240513131645/obj_0.json\n",
      "{\"trade_id\": 0, \"symbol\": \"ETHUSD\", \"size\": -0.5240707458162173}\n",
      "curl https://vbase-test.s3.amazonaws.com/add_trades_parallel/20240513131631/user3_strategy20240513131645/obj_1.json\n",
      "{\"trade_id\": 1, \"symbol\": \"ETHUSD\", \"size\": -0.20788351477863798}\n",
      "curl https://vbase-test.s3.amazonaws.com/add_trades_parallel/20240513131631/user3_strategy20240513131645/obj_2.json\n",
      "{\"trade_id\": 2, \"symbol\": \"ETHUSD\", \"size\": -0.5561436486193647}\n",
      "curl https://vbase-test.s3.amazonaws.com/add_trades_parallel/20240513131631/user3_strategy20240513131645/obj_3.json\n",
      "{\"trade_id\": 3, \"symbol\": \"ETHUSD\", \"size\": -0.6546709414292622}\n",
      "curl https://vbase-test.s3.amazonaws.com/add_trades_parallel/20240513131631/user3_strategy20240513131645/obj_4.json\n",
      "{\"trade_id\": 4, \"symbol\": \"ETHUSD\", \"size\": 0.6133046934046469}\n",
      "curl https://vbase-test.s3.amazonaws.com/add_trades_parallel/20240513131631/user3_strategy20240513131645/obj_5.json\n",
      "{\"trade_id\": 5, \"symbol\": \"ETHUSD\", \"size\": 0.463789417757436}\n",
      "curl https://vbase-test.s3.amazonaws.com/add_trades_parallel/20240513131631/user3_strategy20240513131645/obj_6.json\n",
      "{\"trade_id\": 6, \"symbol\": \"ETHUSD\", \"size\": 0.34340291303294657}\n",
      "curl https://vbase-test.s3.amazonaws.com/add_trades_parallel/20240513131631/user3_strategy20240513131645/obj_7.json\n",
      "{\"trade_id\": 7, \"symbol\": \"ETHUSD\", \"size\": 0.8691767277998161}\n",
      "curl https://vbase-test.s3.amazonaws.com/add_trades_parallel/20240513131631/user3_strategy20240513131645/obj_8.json\n",
      "{\"trade_id\": 8, \"symbol\": \"ETHUSD\", \"size\": 0.14473360337178298}\n",
      "curl https://vbase-test.s3.amazonaws.com/add_trades_parallel/20240513131631/user3_strategy20240513131645/obj_9.json\n",
      "{\"trade_id\": 9, \"symbol\": \"ETHUSD\", \"size\": 0.19782494437997888}\n",
      "Displaying S3 objects for dataset: user4_strategy20240513131645\n",
      "curl https://vbase-test.s3.amazonaws.com/add_trades_parallel/20240513131631/user4_strategy20240513131645/obj_0.json\n",
      "{\"trade_id\": 0, \"symbol\": \"ETHUSD\", \"size\": -0.527903820525131}\n",
      "curl https://vbase-test.s3.amazonaws.com/add_trades_parallel/20240513131631/user4_strategy20240513131645/obj_1.json\n",
      "{\"trade_id\": 1, \"symbol\": \"ETHUSD\", \"size\": -0.19681797102985032}\n",
      "curl https://vbase-test.s3.amazonaws.com/add_trades_parallel/20240513131631/user4_strategy20240513131645/obj_2.json\n",
      "{\"trade_id\": 2, \"symbol\": \"ETHUSD\", \"size\": 0.07336001634962708}\n",
      "curl https://vbase-test.s3.amazonaws.com/add_trades_parallel/20240513131631/user4_strategy20240513131645/obj_3.json\n",
      "{\"trade_id\": 3, \"symbol\": \"ETHUSD\", \"size\": -0.7876334151369397}\n",
      "curl https://vbase-test.s3.amazonaws.com/add_trades_parallel/20240513131631/user4_strategy20240513131645/obj_4.json\n",
      "{\"trade_id\": 4, \"symbol\": \"ETHUSD\", \"size\": -0.6131287639615199}\n",
      "curl https://vbase-test.s3.amazonaws.com/add_trades_parallel/20240513131631/user4_strategy20240513131645/obj_5.json\n",
      "{\"trade_id\": 5, \"symbol\": \"ETHUSD\", \"size\": -0.8265634947301563}\n",
      "curl https://vbase-test.s3.amazonaws.com/add_trades_parallel/20240513131631/user4_strategy20240513131645/obj_6.json\n",
      "{\"trade_id\": 6, \"symbol\": \"ETHUSD\", \"size\": -0.6444196515184311}\n",
      "curl https://vbase-test.s3.amazonaws.com/add_trades_parallel/20240513131631/user4_strategy20240513131645/obj_7.json\n",
      "{\"trade_id\": 7, \"symbol\": \"ETHUSD\", \"size\": 0.8177405788293728}\n",
      "curl https://vbase-test.s3.amazonaws.com/add_trades_parallel/20240513131631/user4_strategy20240513131645/obj_8.json\n",
      "{\"trade_id\": 8, \"symbol\": \"ETHUSD\", \"size\": -0.172107913736536}\n",
      "curl https://vbase-test.s3.amazonaws.com/add_trades_parallel/20240513131631/user4_strategy20240513131645/obj_9.json\n",
      "{\"trade_id\": 9, \"symbol\": \"ETHUSD\", \"size\": -0.677358787756783}\n"
     ]
    }
   ],
   "source": [
    "for ds in l_datasets:\n",
    "    print(f\"Displaying S3 objects for dataset: {ds.name}\")\n",
    "    for i in range(len(ds.records)):\n",
    "        command = f\"curl https://vbase-test.s3.amazonaws.com/{FOLDER_NAME}{ds.name}/obj_{i}.json\"\n",
    "        print(command)\n",
    "        process = subprocess.run(\n",
    "            command, shell=True, text=True, capture_output=True, check=True\n",
    "        )\n",
    "        print(process.stdout)"
   ]
  },
  {
   "cell_type": "markdown",
   "metadata": {},
   "source": [
    "## Validate Trades"
   ]
  },
  {
   "cell_type": "markdown",
   "metadata": {},
   "source": [
    "Create a strategy dataset to validate.<br>\n",
    "This is done on the consumer/validator machine<br>\n",
    "using data specified by the producer/prover."
   ]
  },
  {
   "cell_type": "code",
   "execution_count": 26,
   "metadata": {},
   "outputs": [],
   "source": [
    "ds_consumer = VBaseDataset(\n",
    "    vbc=VBaseClient(ForwarderCommitmentService(forwarder_url, api_key)),\n",
    "    init_dict={\n",
    "        \"name\": l_datasets[0].name,\n",
    "        \"owner\": l_datasets[0].owner,\n",
    "        \"record_type_name\": \"VBaseJsonObject\",\n",
    "        \"records\": [],\n",
    "    },\n",
    ")"
   ]
  },
  {
   "cell_type": "markdown",
   "metadata": {},
   "source": [
    "Load dataset records from the bucket."
   ]
  },
  {
   "cell_type": "code",
   "execution_count": 27,
   "metadata": {
    "jupyter": {
     "source_hidden": true
    }
   },
   "outputs": [
    {
     "name": "stdout",
     "output_type": "stream",
     "text": [
      "Consumer dataset before timestamp validation:\n",
      "{'cid': '0x6e163811c51c460902605369fbf76d5f710621d9be3631b6b94c432e0a0933de',\n",
      " 'name': 'user0_strategy20240513131645',\n",
      " 'owner': '0xA401F59d7190E4448Eb60691E3bc78f1Ef03e88C',\n",
      " 'record_type_name': 'VBaseJsonObject',\n",
      " 'records': [{'cid': None,\n",
      "              'data': '{\"trade_id\": 0, \"symbol\": \"ETHUSD\", \"size\": '\n",
      "                      '0.6888437030500962}'},\n",
      "             {'cid': None,\n",
      "              'data': '{\"trade_id\": 1, \"symbol\": \"ETHUSD\", \"size\": '\n",
      "                      '-0.7936679315385684}'},\n",
      "             {'cid': None,\n",
      "              'data': '{\"trade_id\": 2, \"symbol\": \"ETHUSD\", \"size\": '\n",
      "                      '0.8359100861754378}'},\n",
      "             {'cid': None,\n",
      "              'data': '{\"trade_id\": 3, \"symbol\": \"ETHUSD\", \"size\": '\n",
      "                      '-0.44663471311709957}'},\n",
      "             {'cid': None,\n",
      "              'data': '{\"trade_id\": 4, \"symbol\": \"ETHUSD\", \"size\": '\n",
      "                      '0.6578400975568388}'},\n",
      "             {'cid': None,\n",
      "              'data': '{\"trade_id\": 5, \"symbol\": \"ETHUSD\", \"size\": '\n",
      "                      '-0.38030008540092886}'},\n",
      "             {'cid': None,\n",
      "              'data': '{\"trade_id\": 6, \"symbol\": \"ETHUSD\", \"size\": '\n",
      "                      '0.7092967159826944}'},\n",
      "             {'cid': None,\n",
      "              'data': '{\"trade_id\": 7, \"symbol\": \"ETHUSD\", \"size\": '\n",
      "                      '-0.8213075854692193}'},\n",
      "             {'cid': None,\n",
      "              'data': '{\"trade_id\": 8, \"symbol\": \"ETHUSD\", \"size\": '\n",
      "                      '0.7309683403701666}'},\n",
      "             {'cid': None,\n",
      "              'data': '{\"trade_id\": 9, \"symbol\": \"ETHUSD\", \"size\": '\n",
      "                      '0.016744750665503183}'}],\n",
      " 'timestamps': ['2024-05-13 20:25:47+00:00',\n",
      "                '2024-05-13 20:25:47+00:00',\n",
      "                '2024-05-13 20:25:47+00:00',\n",
      "                '2024-05-13 20:25:47+00:00',\n",
      "                '2024-05-13 20:25:47+00:00',\n",
      "                '2024-05-13 20:25:48+00:00',\n",
      "                '2024-05-13 20:25:48+00:00',\n",
      "                '2024-05-13 20:25:48+00:00',\n",
      "                '2024-05-13 20:25:48+00:00',\n",
      "                '2024-05-13 20:25:48+00:00']}\n"
     ]
    }
   ],
   "source": [
    "init_vbase_dataset_from_s3_objects(\n",
    "    ds_consumer, boto_client, BUCKET_NAME, FOLDER_NAME + ds_consumer.name\n",
    ")\n",
    "print(\n",
    "    f\"Consumer dataset before timestamp validation:\\n{pprint.pformat(ds_consumer.to_dict())}\"\n",
    ")"
   ]
  },
  {
   "cell_type": "markdown",
   "metadata": {},
   "source": [
    "Restore timestamps using commitments and display the validated dataset."
   ]
  },
  {
   "cell_type": "code",
   "execution_count": 28,
   "metadata": {},
   "outputs": [
    {
     "name": "stdout",
     "output_type": "stream",
     "text": [
      "Copy dataset after timestamp validation:\n",
      "{'cid': '0x6e163811c51c460902605369fbf76d5f710621d9be3631b6b94c432e0a0933de',\n",
      " 'name': 'user0_strategy20240513131645',\n",
      " 'owner': '0xA401F59d7190E4448Eb60691E3bc78f1Ef03e88C',\n",
      " 'record_type_name': 'VBaseJsonObject',\n",
      " 'records': [{'cid': '0xf4adc1279ad6b7d025ce06de4a7ab4d699f3a71f43bcc3ce3d0127c2fd3828fa',\n",
      "              'data': '{\"trade_id\": 0, \"symbol\": \"ETHUSD\", \"size\": '\n",
      "                      '0.6888437030500962}'},\n",
      "             {'cid': '0xcf0929e381a99c48c9bf188fa31d4a8491882d43de108cef9813e637e98eda86',\n",
      "              'data': '{\"trade_id\": 1, \"symbol\": \"ETHUSD\", \"size\": '\n",
      "                      '-0.7936679315385684}'},\n",
      "             {'cid': '0xd08ca3b4069fb4f3644acaf3010291a4ba8010b5e9ade3b1efa8da336830af81',\n",
      "              'data': '{\"trade_id\": 2, \"symbol\": \"ETHUSD\", \"size\": '\n",
      "                      '0.8359100861754378}'},\n",
      "             {'cid': '0x6022709acff915c9638b3f05e4d015afd389142d409b666161d04075cc1210a3',\n",
      "              'data': '{\"trade_id\": 3, \"symbol\": \"ETHUSD\", \"size\": '\n",
      "                      '-0.44663471311709957}'},\n",
      "             {'cid': '0x2cce254eebabd4a9f30b1985cd87c5c0efea1f435c6296b25380db52571ebb29',\n",
      "              'data': '{\"trade_id\": 4, \"symbol\": \"ETHUSD\", \"size\": '\n",
      "                      '0.6578400975568388}'},\n",
      "             {'cid': '0xf22ef0b416a54702c68dc0d33d4c73561df6157ddcd5a6bf6e98202017f4ea2b',\n",
      "              'data': '{\"trade_id\": 5, \"symbol\": \"ETHUSD\", \"size\": '\n",
      "                      '-0.38030008540092886}'},\n",
      "             {'cid': '0xa2f41e02f18c698577b706799f174f48f0e933e92c207e365c704a4d60355d77',\n",
      "              'data': '{\"trade_id\": 6, \"symbol\": \"ETHUSD\", \"size\": '\n",
      "                      '0.7092967159826944}'},\n",
      "             {'cid': '0x914abbda3866fa722cef24a402afb56bdd82418e3b187281d09b90b1b24b9bcd',\n",
      "              'data': '{\"trade_id\": 7, \"symbol\": \"ETHUSD\", \"size\": '\n",
      "                      '-0.8213075854692193}'},\n",
      "             {'cid': '0x12067d83820e898961db094ab2b6742c228c1c6e43427423328be8d1135c0d58',\n",
      "              'data': '{\"trade_id\": 8, \"symbol\": \"ETHUSD\", \"size\": '\n",
      "                      '0.7309683403701666}'},\n",
      "             {'cid': '0xf46fbf9eac92af347ba7ddf72dad6d0d7de5882c914089081704a45fc90dd02e',\n",
      "              'data': '{\"trade_id\": 9, \"symbol\": \"ETHUSD\", \"size\": '\n",
      "                      '0.016744750665503183}'}],\n",
      " 'timestamps': ['2024-05-13 20:22:38+00:00',\n",
      "                '2024-05-13 20:22:41+00:00',\n",
      "                '2024-05-13 20:22:43+00:00',\n",
      "                '2024-05-13 20:22:46+00:00',\n",
      "                '2024-05-13 20:22:49+00:00',\n",
      "                '2024-05-13 20:22:52+00:00',\n",
      "                '2024-05-13 20:22:55+00:00',\n",
      "                '2024-05-13 20:22:58+00:00',\n",
      "                '2024-05-13 20:23:01+00:00',\n",
      "                '2024-05-13 20:23:05+00:00']}\n"
     ]
    }
   ],
   "source": [
    "ds_consumer.try_restore_timestamps_from_index()\n",
    "print(\n",
    "    f\"Copy dataset after timestamp validation:\\n{pprint.pformat(ds_consumer.to_dict())}\"\n",
    ")"
   ]
  },
  {
   "cell_type": "markdown",
   "metadata": {},
   "source": [
    "Print a table of the trades and transaction hash links."
   ]
  },
  {
   "cell_type": "code",
   "execution_count": 31,
   "metadata": {
    "jupyter": {
     "source_hidden": true
    }
   },
   "outputs": [],
   "source": [
    "%%capture\n",
    "l_receipts = ds_consumer.get_commitment_receipts()\n",
    "print(\"num\\ttrade\\ttrade_hash\\ttx\")\n",
    "for i, record in enumerate(ds_consumer.records):\n",
    "    print(f\"{i}\\t{record.data}\\t{record.cid}\\t{l_receipts[i]['transactionHash']}\")"
   ]
  },
  {
   "cell_type": "markdown",
   "metadata": {
    "jupyter": {
     "source_hidden": true
    }
   },
   "source": [
    "Start building the HTML table."
   ]
  },
  {
   "cell_type": "code",
   "execution_count": 47,
   "metadata": {
    "jupyter": {
     "source_hidden": true
    }
   },
   "outputs": [],
   "source": [
    "html = \"<table>\"\n",
    "html += \"<tr><th>num</th><th>trade</th><th>trade_hash</th><th>blockchain_transaction_hash</th></tr>\"\n",
    "# Populate the table with data.\n",
    "for i, record in enumerate(ds_consumer.records):\n",
    "    tx_hash = l_receipts[i]['transactionHash']\n",
    "    html += (f\"<tr><td>{i}</td><td>{record.data}</td><td>{record.cid}</td>\"\n",
    "             f\"<td><a href=\\\"https://sepolia.arbiscan.io/tx/{tx_hash}\\\">{tx_hash}</a></td></tr>\")\n",
    "html += \"</table>\""
   ]
  },
  {
   "cell_type": "markdown",
   "metadata": {
    "jupyter": {
     "source_hidden": true
    }
   },
   "source": [
    "Check if the script is running in an interactive mode or a Jupyter notebook."
   ]
  },
  {
   "cell_type": "code",
   "execution_count": 48,
   "metadata": {
    "jupyter": {
     "source_hidden": true
    }
   },
   "outputs": [
    {
     "data": {
      "text/html": [
       "<table><tr><th>num</th><th>trade</th><th>trade_hash</th><th>blockchain_transaction_hash</th></tr><tr><td>0</td><td>{\"trade_id\": 0, \"symbol\": \"ETHUSD\", \"size\": 0.6888437030500962}</td><td>0xf4adc1279ad6b7d025ce06de4a7ab4d699f3a71f43bcc3ce3d0127c2fd3828fa</td><td><a href=\"https://sepolia.arbiscan.io/tx/0x832ff1d365b9bbec69284b80e7d53251f5fc85a0fa0e626e64236d293fe0bdfa\">0x832ff1d365b9bbec69284b80e7d53251f5fc85a0fa0e626e64236d293fe0bdfa</a></td></tr><tr><td>1</td><td>{\"trade_id\": 1, \"symbol\": \"ETHUSD\", \"size\": -0.7936679315385684}</td><td>0xcf0929e381a99c48c9bf188fa31d4a8491882d43de108cef9813e637e98eda86</td><td><a href=\"https://sepolia.arbiscan.io/tx/0xa18f90595acc4b80e7edb35a04a0807018516d1402147f62c12fc82dbcec56a0\">0xa18f90595acc4b80e7edb35a04a0807018516d1402147f62c12fc82dbcec56a0</a></td></tr><tr><td>2</td><td>{\"trade_id\": 2, \"symbol\": \"ETHUSD\", \"size\": 0.8359100861754378}</td><td>0xd08ca3b4069fb4f3644acaf3010291a4ba8010b5e9ade3b1efa8da336830af81</td><td><a href=\"https://sepolia.arbiscan.io/tx/0x8e61e04d5e99526148933b8017e5483a3d0f8d8c6fe4c0d2c4924234dfeec856\">0x8e61e04d5e99526148933b8017e5483a3d0f8d8c6fe4c0d2c4924234dfeec856</a></td></tr><tr><td>3</td><td>{\"trade_id\": 3, \"symbol\": \"ETHUSD\", \"size\": -0.44663471311709957}</td><td>0x6022709acff915c9638b3f05e4d015afd389142d409b666161d04075cc1210a3</td><td><a href=\"https://sepolia.arbiscan.io/tx/0xa2cfb3b636489aa8080eb6e8cc8f60b3dc2ca8fdeadb596f153635646832dcab\">0xa2cfb3b636489aa8080eb6e8cc8f60b3dc2ca8fdeadb596f153635646832dcab</a></td></tr><tr><td>4</td><td>{\"trade_id\": 4, \"symbol\": \"ETHUSD\", \"size\": 0.6578400975568388}</td><td>0x2cce254eebabd4a9f30b1985cd87c5c0efea1f435c6296b25380db52571ebb29</td><td><a href=\"https://sepolia.arbiscan.io/tx/0xbe5e3f8e338ab48aade7d5df5107002cc86d9365d86da65026ad532b3bfa6f7c\">0xbe5e3f8e338ab48aade7d5df5107002cc86d9365d86da65026ad532b3bfa6f7c</a></td></tr><tr><td>5</td><td>{\"trade_id\": 5, \"symbol\": \"ETHUSD\", \"size\": -0.38030008540092886}</td><td>0xf22ef0b416a54702c68dc0d33d4c73561df6157ddcd5a6bf6e98202017f4ea2b</td><td><a href=\"https://sepolia.arbiscan.io/tx/0xfeadcbb1ac0882138901cca63125e8713dcb54dbe302628c55fd81943df44853\">0xfeadcbb1ac0882138901cca63125e8713dcb54dbe302628c55fd81943df44853</a></td></tr><tr><td>6</td><td>{\"trade_id\": 6, \"symbol\": \"ETHUSD\", \"size\": 0.7092967159826944}</td><td>0xa2f41e02f18c698577b706799f174f48f0e933e92c207e365c704a4d60355d77</td><td><a href=\"https://sepolia.arbiscan.io/tx/0x105385a033498aec652eb44ac9e5d863c7da28908395f025407f58fa70f754a0\">0x105385a033498aec652eb44ac9e5d863c7da28908395f025407f58fa70f754a0</a></td></tr><tr><td>7</td><td>{\"trade_id\": 7, \"symbol\": \"ETHUSD\", \"size\": -0.8213075854692193}</td><td>0x914abbda3866fa722cef24a402afb56bdd82418e3b187281d09b90b1b24b9bcd</td><td><a href=\"https://sepolia.arbiscan.io/tx/0x7551481c0db137019c0306238f96ec2c749a1773e286a272a296826cdb8433a5\">0x7551481c0db137019c0306238f96ec2c749a1773e286a272a296826cdb8433a5</a></td></tr><tr><td>8</td><td>{\"trade_id\": 8, \"symbol\": \"ETHUSD\", \"size\": 0.7309683403701666}</td><td>0x12067d83820e898961db094ab2b6742c228c1c6e43427423328be8d1135c0d58</td><td><a href=\"https://sepolia.arbiscan.io/tx/0x16c5082b1b1b18e6069a1cd739bbd45ed3781f2c0fd5d6acc9cea3ef3b4cb7c5\">0x16c5082b1b1b18e6069a1cd739bbd45ed3781f2c0fd5d6acc9cea3ef3b4cb7c5</a></td></tr><tr><td>9</td><td>{\"trade_id\": 9, \"symbol\": \"ETHUSD\", \"size\": 0.016744750665503183}</td><td>0xf46fbf9eac92af347ba7ddf72dad6d0d7de5882c914089081704a45fc90dd02e</td><td><a href=\"https://sepolia.arbiscan.io/tx/0xd9b35f7be057ccc9d0bc668458f8d949dfd5400952363b2a1394decf592608ce\">0xd9b35f7be057ccc9d0bc668458f8d949dfd5400952363b2a1394decf592608ce</a></td></tr></table>"
      ],
      "text/plain": [
       "<IPython.core.display.HTML object>"
      ]
     },
     "metadata": {},
     "output_type": "display_data"
    }
   ],
   "source": [
    "if \"ipykernel\" not in sys.modules and \"IPython\" in sys.modules:\n",
    "    pprint.pprint(html)\n",
    "else:\n",
    "    # Load support for HTML display, if necessary.\n",
    "    from IPython.display import display, HTML\n",
    "    # Display the HTML table in the Jupyter notebook.\n",
    "    display(HTML(html))"
   ]
  },
  {
   "cell_type": "markdown",
   "metadata": {},
   "source": [
    "Plot the cumulative strategy return<br>\n",
    "using a fictional return series."
   ]
  },
  {
   "cell_type": "code",
   "execution_count": 49,
   "metadata": {
    "jupyter": {
     "source_hidden": true
    }
   },
   "outputs": [
    {
     "name": "stdout",
     "output_type": "stream",
     "text": [
      "Strategy trades DataFrame:\n",
      "                            trade_id  symbol      size\n",
      "2024-05-13 20:22:38+00:00         0  ETHUSD  0.688844\n",
      "2024-05-13 20:22:41+00:00         1  ETHUSD -0.793668\n",
      "2024-05-13 20:22:43+00:00         2  ETHUSD  0.835910\n",
      "2024-05-13 20:22:46+00:00         3  ETHUSD -0.446635\n",
      "2024-05-13 20:22:49+00:00         4  ETHUSD  0.657840\n",
      "2024-05-13 20:22:52+00:00         5  ETHUSD -0.380300\n",
      "2024-05-13 20:22:55+00:00         6  ETHUSD  0.709297\n",
      "2024-05-13 20:22:58+00:00         7  ETHUSD -0.821308\n",
      "2024-05-13 20:23:01+00:00         8  ETHUSD  0.730968\n",
      "2024-05-13 20:23:05+00:00         9  ETHUSD  0.016745\n",
      "\n",
      "Strategy cumulative return:\n"
     ]
    },
    {
     "data": {
      "image/png": "[encoded data removed]",
      "text/plain": [
       "<Figure size 640x480 with 1 Axes>"
      ]
     },
     "metadata": {},
     "output_type": "display_data"
    }
   ],
   "source": [
    "random.seed(1)\n",
    "returns = [(random.random() * 2 - 1) / 100 for i in range(df.shape[0])]\n",
    "df = ds_consumer.get_pd_data_frame()\n",
    "print(\"Strategy trades DataFrame:\\n\", df)\n",
    "df[\"wt\"] = df[\"size\"].cumsum()\n",
    "(1 + df[\"wt\"] * returns).cumprod().shift(1).fillna(1).plot()\n",
    "print(\"\\nStrategy cumulative return:\")\n",
    "plt.show()"
   ]
  },
  {
   "cell_type": "code",
   "execution_count": null,
   "metadata": {},
   "outputs": [],
   "source": []
  }
 ],
 "metadata": {
  "kernelspec": {
   "display_name": "Python 3 (ipykernel)",
   "language": "python",
   "name": "python3"
  },
  "language_info": {
   "codemirror_mode": {
    "name": "ipython",
    "version": 3
   },
   "file_extension": ".py",
   "mimetype": "text/x-python",
   "name": "python",
   "nbconvert_exporter": "python",
   "pygments_lexer": "ipython3",
   "version": "3.8.18"
  }
 },
 "nbformat": 4,
 "nbformat_minor": 4
}
