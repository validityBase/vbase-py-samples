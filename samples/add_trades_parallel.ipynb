{
 "cells": [
  {
   "cell_type": "markdown",
   "metadata": {},
   "source": [
    "# add_trades_parallel"
   ]
  },
  {
   "cell_type": "markdown",
   "metadata": {},
   "source": [
    "\n",
    "This sample creates a strategy comprising JSON trade records<br>\n",
    "and verifies the strategy.<br>\n"
   ]
  },
  {
   "cell_type": "markdown",
   "metadata": {},
   "source": [
    "## Imports"
   ]
  },
  {
   "cell_type": "code",
   "execution_count": null,
   "metadata": {
    "jupyter": {
     "source_hidden": true
    }
   },
   "outputs": [],
   "source": [
    "from datetime import datetime\n",
    "import json\n",
    "import os\n",
    "import pprint\n",
    "import random\n",
    "import subprocess\n",
    "import sys\n",
    "import time\n",
    "from concurrent.futures import ThreadPoolExecutor\n",
    "from dotenv import load_dotenv\n",
    "import matplotlib.pyplot as plt"
   ]
  },
  {
   "cell_type": "code",
   "execution_count": null,
   "metadata": {
    "jupyter": {
     "source_hidden": true
    }
   },
   "outputs": [],
   "source": [
    "from vbase import (\n",
    "    VBaseClient,\n",
    "    ForwarderCommitmentService,\n",
    "    VBaseDataset,\n",
    "    VBaseJsonObject,\n",
    ")"
   ]
  },
  {
   "cell_type": "code",
   "execution_count": null,
   "metadata": {
    "jupyter": {
     "source_hidden": true
    }
   },
   "outputs": [],
   "source": [
    "from aws_utils import (\n",
    "    create_s3_client_from_env,\n",
    "    create_s3_objects_from_dataset,\n",
    "    init_vbase_dataset_from_s3_objects,\n",
    ")"
   ]
  },
  {
   "cell_type": "markdown",
   "metadata": {},
   "source": [
    "## Configuration"
   ]
  },
  {
   "cell_type": "markdown",
   "metadata": {},
   "source": [
    "The sample uses 5 users with strategies and 10 trades per strategy."
   ]
  },
  {
   "cell_type": "code",
   "execution_count": null,
   "metadata": {},
   "outputs": [],
   "source": [
    "N_USERS = 5\n",
    "N_TRADES = 10"
   ]
  },
  {
   "cell_type": "markdown",
   "metadata": {},
   "source": [
    "Use hardcoded test accounts for the example.<br>\n",
    "Each account is defined by the private key that gives owners control of their data."
   ]
  },
  {
   "cell_type": "code",
   "execution_count": null,
   "metadata": {},
   "outputs": [],
   "source": [
    "l_accounts = [\n",
    "    {\n",
    "        \"pk\": \"0xabfc6c981e4e9f1f26175bc40aef73248d467617309c5e04e83da34171999076\",\n",
    "        \"address\": \"0xA401F59d7190E4448Eb60691E3bc78f1Ef03e88C\",\n",
    "    },\n",
    "    {\n",
    "        \"pk\": \"0x422043f88fbd2f605f0237512e090032ad90c0a5583df4a189f446ab7abf779a\",\n",
    "        \"address\": \"0xEe8633d1fC69d045442Da84f08DF49C48826b163\",\n",
    "    },\n",
    "    {\n",
    "        \"pk\": \"0x321c704b7edbeec46a1200f6862548604ba255e2c1f7dd08e9c1d18fcfc0cfb9\",\n",
    "        \"address\": \"0x7e3CB5Bc50E1864b3Dc863299b4A4269D12928f1\",\n",
    "    },\n",
    "    {\n",
    "        \"pk\": \"0x7d0776af9f1eac044e9d390a84a9a3608350ebce036bc0215e6b19c77d51f700\",\n",
    "        \"address\": \"0xcd9b43102E26d3191a7a76eA98dF858daa1e34Ae\",\n",
    "    },\n",
    "    {\n",
    "        \"pk\": \"0x63716eb43c9a84224715bcf5dd901e9dd3100791526dc65993898c0a676ffa68\",\n",
    "        \"address\": \"0xd991dc481319fb3C93fe01d124a4ae0b197FcB8B\",\n",
    "    },\n",
    "]"
   ]
  },
  {
   "cell_type": "markdown",
   "metadata": {
    "jupyter": {
     "source_hidden": true
    }
   },
   "source": [
    "S3 bucket for the test data."
   ]
  },
  {
   "cell_type": "code",
   "execution_count": null,
   "metadata": {
    "jupyter": {
     "source_hidden": true
    }
   },
   "outputs": [],
   "source": [
    "BUCKET_NAME = \"vbase-test\""
   ]
  },
  {
   "cell_type": "markdown",
   "metadata": {
    "jupyter": {
     "source_hidden": true
    }
   },
   "source": [
    "Name of the source S3 folder for the dataset records."
   ]
  },
  {
   "cell_type": "code",
   "execution_count": null,
   "metadata": {
    "jupyter": {
     "source_hidden": true
    }
   },
   "outputs": [],
   "source": [
    "FOLDER_NAME = f\"add_trades_parallel/{datetime.now().strftime('%Y%m%d%H%M%S')}/\""
   ]
  },
  {
   "cell_type": "markdown",
   "metadata": {
    "jupyter": {
     "source_hidden": true
    }
   },
   "source": [
    "Check if the script is running in an interactive mode or a Jupyter notebook."
   ]
  },
  {
   "cell_type": "code",
   "execution_count": null,
   "metadata": {
    "jupyter": {
     "source_hidden": true
    }
   },
   "outputs": [],
   "source": [
    "if \"ipykernel\" not in sys.modules and \"IPython\" in sys.modules:\n",
    "    # Load support for HTML display, if necessary.\n",
    "    from IPython.display import display, HTML\n",
    "\n",
    "    # The following line creates overactive warning.\n",
    "    # We want the import within the clause.\n",
    "    # pylint: disable=ungrouped-imports\n",
    "    import matplotlib\n",
    "\n",
    "    # Set plot backend to WebAgg.\n",
    "    # This backend provides interactive web charts.\n",
    "    matplotlib.use(\"WebAgg\")"
   ]
  },
  {
   "cell_type": "markdown",
   "metadata": {},
   "source": [
    "## Setup"
   ]
  },
  {
   "cell_type": "markdown",
   "metadata": {},
   "source": [
    "Load the information necessary to call vBase APIs."
   ]
  },
  {
   "cell_type": "code",
   "execution_count": null,
   "metadata": {},
   "outputs": [],
   "source": [
    "load_dotenv(verbose=True, override=True)\n",
    "forwarder_url = os.environ.get(\"VBASE_FORWARDER_URL\")\n",
    "api_key = os.environ.get(\"VBASE_API_KEY\")"
   ]
  },
  {
   "cell_type": "markdown",
   "metadata": {
    "jupyter": {
     "source_hidden": true
    }
   },
   "source": [
    "Create an AWS client using environment variables."
   ]
  },
  {
   "cell_type": "code",
   "execution_count": null,
   "metadata": {
    "jupyter": {
     "source_hidden": true
    }
   },
   "outputs": [],
   "source": [
    "boto_client = create_s3_client_from_env()"
   ]
  },
  {
   "cell_type": "markdown",
   "metadata": {},
   "source": [
    "Create strategy data.<br>\n",
    "This is the data users will be using to post trades.<br>\n",
    "We will simulate multiple users and strategies using multiple threads,<br>\n",
    "with each thread using a given strategy dataset."
   ]
  },
  {
   "cell_type": "code",
   "execution_count": null,
   "metadata": {},
   "outputs": [],
   "source": [
    "l_starts = []\n",
    "for i_user in range(N_USERS):\n",
    "    vbc = VBaseClient(\n",
    "        ForwarderCommitmentService(\n",
    "            forwarder_url,\n",
    "            api_key,\n",
    "            l_accounts[i_user][\"pk\"],\n",
    "        )\n",
    "    )\n",
    "    strategy_data = {\n",
    "        \"name\": (f\"user{i_user}_strategy\" + datetime.now().strftime(\"%Y%m%d%H%M%S\")),\n",
    "        \"address\": l_accounts[i_user][\"address\"],\n",
    "        \"vbc\": vbc,\n",
    "    }\n",
    "    l_starts.append(strategy_data)"
   ]
  },
  {
   "cell_type": "code",
   "execution_count": null,
   "metadata": {},
   "outputs": [],
   "source": [
    "print(f\"Created users and strategies:\\n{pprint.pformat(l_starts)}\")"
   ]
  },
  {
   "cell_type": "markdown",
   "metadata": {},
   "source": [
    "## Create Strategy Datasets"
   ]
  },
  {
   "cell_type": "code",
   "execution_count": null,
   "metadata": {},
   "outputs": [],
   "source": [
    "def create_strategy_dataset(i_strat):\n",
    "    \"\"\"\n",
    "    Create the strategy dataset\n",
    "    :param i_strat: Strategy index\n",
    "    \"\"\"\n",
    "    # Create the vBase dataset object.\n",
    "    ds_strat = VBaseDataset(\n",
    "        l_starts[i_strat][\"vbc\"], l_starts[i_strat][\"name\"], VBaseJsonObject\n",
    "    )\n",
    "    print(f\"Created dataset: {pprint.pformat(ds_strat.to_dict())}\")\n",
    "    return ds_strat"
   ]
  },
  {
   "cell_type": "code",
   "execution_count": null,
   "metadata": {
    "jupyter": {
     "source_hidden": true
    }
   },
   "outputs": [],
   "source": [
    "with ThreadPoolExecutor(max_workers=len(l_starts)) as executor:\n",
    "    results = executor.map(create_strategy_dataset, range(len(l_starts)))\n",
    "l_datasets = list(results)"
   ]
  },
  {
   "cell_type": "markdown",
   "metadata": {},
   "source": [
    "## Post Trades"
   ]
  },
  {
   "cell_type": "code",
   "execution_count": null,
   "metadata": {},
   "outputs": [],
   "source": [
    "def post_strategy_trades(i_strat):\n",
    "    \"\"\"\n",
    "    Post trades for a strategy\n",
    "    :param i_strat: Strategy index\n",
    "    \"\"\"\n",
    "    trades = []\n",
    "    receipts = []\n",
    "    # Create a set of pseudorandom trades with a reproducible seed.\n",
    "    random.seed(i_strat)\n",
    "    for i_trade in range(N_TRADES):\n",
    "        trade = json.dumps(\n",
    "            {\n",
    "                \"trade_id\": i_trade,\n",
    "                \"symbol\": \"ETHUSD\",\n",
    "                # Create a random trade in [-1, 1].\n",
    "                \"size\": round(random.random() * 2 - 1, 2),\n",
    "            }\n",
    "        )\n",
    "        trades.append(trade)\n",
    "        # Add trade to the vBase dataset object.\n",
    "        receipt = l_datasets[i_strat].add_record(trade)\n",
    "        print(f\"Posted trade: {pprint.pformat(receipt)}\")\n",
    "        receipts.append(receipt)\n",
    "    return trades, receipts"
   ]
  },
  {
   "cell_type": "code",
   "execution_count": null,
   "metadata": {},
   "outputs": [],
   "source": [
    "start_time = time.time()\n",
    "with ThreadPoolExecutor(max_workers=len(l_starts)) as executor:\n",
    "    results = executor.map(post_strategy_trades, range(len(l_starts)))\n",
    "elapsed_time = time.time() - start_time\n",
    "l_trades, l_receipts = zip(*results)"
   ]
  },
  {
   "cell_type": "code",
   "execution_count": null,
   "metadata": {
    "jupyter": {
     "source_hidden": true
    }
   },
   "outputs": [],
   "source": [
    "print(f\"Trades: {N_USERS * N_TRADES}\")\n",
    "print(f\"Time elapsed (sec.): {elapsed_time}\")\n",
    "print(f\"Throughput (trades/min.): {N_USERS * N_TRADES / elapsed_time * 60}\")"
   ]
  },
  {
   "cell_type": "markdown",
   "metadata": {},
   "source": [
    "Save all the posted trades."
   ]
  },
  {
   "cell_type": "code",
   "execution_count": null,
   "metadata": {
    "jupyter": {
     "source_hidden": true
    }
   },
   "outputs": [],
   "source": [
    "for ds in l_datasets:\n",
    "    print(f\"Saving dataset: {ds.name}\")\n",
    "    create_s3_objects_from_dataset(ds, boto_client, BUCKET_NAME, FOLDER_NAME)"
   ]
  },
  {
   "cell_type": "markdown",
   "metadata": {},
   "source": [
    "Display saved data using the shell."
   ]
  },
  {
   "cell_type": "code",
   "execution_count": null,
   "metadata": {
    "editable": true,
    "jupyter": {
     "source_hidden": true
    },
    "slideshow": {
     "slide_type": ""
    },
    "tags": []
   },
   "outputs": [],
   "source": [
    "for ds in l_datasets:\n",
    "    print(f\"Displaying S3 objects for dataset: {ds.name}\")\n",
    "    for i in range(len(ds.records)):\n",
    "        command = f\"curl https://vbase-test.s3.amazonaws.com/{FOLDER_NAME}{ds.name}/obj_{i}.json\"\n",
    "        print(command)\n",
    "        process = subprocess.run(\n",
    "            command, shell=True, text=True, capture_output=True, check=True\n",
    "        )\n",
    "        print(process.stdout)"
   ]
  },
  {
   "cell_type": "markdown",
   "metadata": {},
   "source": [
    "## Validate Trades"
   ]
  },
  {
   "cell_type": "markdown",
   "metadata": {},
   "source": [
    "Create a strategy dataset to validate.<br>\n",
    "This is done on the consumer/validator machine<br>\n",
    "using data specified by the producer/prover."
   ]
  },
  {
   "cell_type": "code",
   "execution_count": null,
   "metadata": {},
   "outputs": [],
   "source": [
    "ds_consumer = VBaseDataset(\n",
    "    vbc=VBaseClient(ForwarderCommitmentService(forwarder_url, api_key)),\n",
    "    init_dict={\n",
    "        \"name\": l_datasets[0].name,\n",
    "        \"owner\": l_datasets[0].owner,\n",
    "        \"record_type_name\": \"VBaseJsonObject\",\n",
    "        \"records\": [],\n",
    "    },\n",
    ")"
   ]
  },
  {
   "cell_type": "markdown",
   "metadata": {},
   "source": [
    "Load dataset records from the bucket."
   ]
  },
  {
   "cell_type": "code",
   "execution_count": null,
   "metadata": {
    "jupyter": {
     "source_hidden": true
    }
   },
   "outputs": [],
   "source": [
    "init_vbase_dataset_from_s3_objects(\n",
    "    ds_consumer, boto_client, BUCKET_NAME, FOLDER_NAME + ds_consumer.name\n",
    ")\n",
    "print(\n",
    "    f\"Consumer dataset before timestamp validation:\\n{pprint.pformat(ds_consumer.to_dict())}\"\n",
    ")"
   ]
  },
  {
   "cell_type": "markdown",
   "metadata": {},
   "source": [
    "Restore timestamps using commitments and display the validated dataset."
   ]
  },
  {
   "cell_type": "code",
   "execution_count": null,
   "metadata": {},
   "outputs": [],
   "source": [
    "ds_consumer.try_restore_timestamps_from_index()\n",
    "print(\n",
    "    f\"Copy dataset after timestamp validation:\\n{pprint.pformat(ds_consumer.to_dict())}\"\n",
    ")"
   ]
  },
  {
   "cell_type": "markdown",
   "metadata": {},
   "source": [
    "Print a table of the trades and transaction hash links."
   ]
  },
  {
   "cell_type": "code",
   "execution_count": null,
   "metadata": {
    "jupyter": {
     "source_hidden": true
    }
   },
   "outputs": [],
   "source": [
    "%%capture\n",
    "l_receipts = ds_consumer.get_commitment_receipts()\n",
    "print(\"num\\ttrade\\ttrade_hash\\ttx\")\n",
    "for i, record in enumerate(ds_consumer.records):\n",
    "    print(f\"{i}\\t{record.data}\\t{record.cid}\\t{l_receipts[i]['transactionHash']}\")"
   ]
  },
  {
   "cell_type": "markdown",
   "metadata": {
    "jupyter": {
     "source_hidden": true
    }
   },
   "source": [
    "Start building the HTML table."
   ]
  },
  {
   "cell_type": "code",
   "execution_count": null,
   "metadata": {
    "jupyter": {
     "source_hidden": true
    }
   },
   "outputs": [],
   "source": [
    "html = \"<table>\"\n",
    "html += \"<tr><th>num</th><th>trade</th><th>trade_hash</th><th>blockchain_transaction_hash</th></tr>\"\n",
    "# Populate the table with data.\n",
    "for i, record in enumerate(ds_consumer.records):\n",
    "    tx_hash = l_receipts[i]['transactionHash']\n",
    "    html += (f\"<tr><td>{i}</td><td>{record.data}</td><td>{record.cid}</td>\"\n",
    "             f\"<td><a href=\\\"https://sepolia.arbiscan.io/tx/{tx_hash}\\\">{tx_hash}</a></td></tr>\")\n",
    "html += \"</table>\""
   ]
  },
  {
   "cell_type": "markdown",
   "metadata": {
    "jupyter": {
     "source_hidden": true
    }
   },
   "source": [
    "Check if the script is running in an interactive mode or a Jupyter notebook."
   ]
  },
  {
   "cell_type": "code",
   "execution_count": null,
   "metadata": {
    "jupyter": {
     "source_hidden": true
    }
   },
   "outputs": [],
   "source": [
    "if \"ipykernel\" not in sys.modules and \"IPython\" in sys.modules:\n",
    "    pprint.pprint(html)\n",
    "else:\n",
    "    # Load support for HTML display, if necessary.\n",
    "    from IPython.display import display, HTML\n",
    "    # Display the HTML table in the Jupyter notebook.\n",
    "    display(HTML(html))"
   ]
  },
  {
   "cell_type": "markdown",
   "metadata": {},
   "source": [
    "Plot the cumulative strategy return<br>\n",
    "using a fictional return series."
   ]
  },
  {
   "cell_type": "code",
   "execution_count": null,
   "metadata": {
    "jupyter": {
     "source_hidden": true
    }
   },
   "outputs": [],
   "source": [
    "random.seed(1)\n",
    "returns = [(random.random() * 2 - 1) / 100 for i in range(df.shape[0])]\n",
    "df = ds_consumer.get_pd_data_frame()\n",
    "print(\"Strategy trades DataFrame:\\n\", df)\n",
    "df[\"wt\"] = df[\"size\"].cumsum()\n",
    "(1 + df[\"wt\"] * returns).cumprod().shift(1).fillna(1).plot()\n",
    "print(\"\\nStrategy cumulative return:\")\n",
    "plt.show()"
   ]
  },
  {
   "cell_type": "code",
   "execution_count": null,
   "metadata": {},
   "outputs": [],
   "source": []
  }
 ],
 "metadata": {
  "kernelspec": {
   "display_name": "Python 3 (ipykernel)",
   "language": "python",
   "name": "python3"
  },
  "language_info": {
   "codemirror_mode": {
    "name": "ipython",
    "version": 3
   },
   "file_extension": ".py",
   "mimetype": "text/x-python",
   "name": "python",
   "nbconvert_exporter": "python",
   "pygments_lexer": "ipython3",
   "version": "3.8.18"
  }
 },
 "nbformat": 4,
 "nbformat_minor": 4
}
