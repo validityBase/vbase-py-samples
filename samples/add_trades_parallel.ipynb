{
 "cells": [
  {
   "cell_type": "markdown",
   "metadata": {},
   "source": [
    "# add_trades_parallel"
   ]
  },
  {
   "cell_type": "markdown",
   "metadata": {},
   "source": [
    "\n",
    "This sample creates a strategy comprising JSON trade records<br>\n",
    "and verifies the strategy.<br>\n"
   ]
  },
  {
   "cell_type": "markdown",
   "metadata": {},
   "source": [
    "## Imports"
   ]
  },
  {
   "cell_type": "code",
   "execution_count": null,
   "metadata": {
    "jupyter": {
     "source_hidden": true
    }
   },
   "outputs": [],
   "source": [
    "from datetime import datetime\n",
    "import json\n",
    "import os\n",
    "import pprint\n",
    "import random\n",
    "import subprocess\n",
    "import sys\n",
    "import time\n",
    "from concurrent.futures import ThreadPoolExecutor\n",
    "from dotenv import load_dotenv\n",
    "import matplotlib.pyplot as plt"
   ]
  },
  {
   "cell_type": "code",
   "execution_count": null,
   "metadata": {
    "jupyter": {
     "source_hidden": true
    }
   },
   "outputs": [],
   "source": [
    "from vbase import (\n",
    "    VBaseClient,\n",
    "    ForwarderCommitmentService,\n",
    "    VBaseDataset,\n",
    "    VBaseJsonObject,\n",
    ")"
   ]
  },
  {
   "cell_type": "code",
   "execution_count": null,
   "metadata": {
    "jupyter": {
     "source_hidden": true
    }
   },
   "outputs": [],
   "source": [
    "from aws_utils import (\n",
    "    create_s3_client_from_env,\n",
    "    create_s3_objects_from_dataset,\n",
    "    init_vbase_dataset_from_s3_objects,\n",
    ")"
   ]
  },
  {
   "cell_type": "markdown",
   "metadata": {},
   "source": [
    "## Configuration"
   ]
  },
  {
   "cell_type": "markdown",
   "metadata": {},
   "source": [
    "The sample uses 5 users with strategies and 10 trades per strategy."
   ]
  },
  {
   "cell_type": "code",
   "execution_count": null,
   "metadata": {},
   "outputs": [],
   "source": [
    "N_USERS = 5\n",
    "N_TRADES = 10"
   ]
  },
  {
   "cell_type": "markdown",
   "metadata": {},
   "source": [
    "Create a wallet for each user.<br>\n",
    "Each user has their own identity."
   ]
  },
  {
   "cell_type": "code",
   "execution_count": null,
   "metadata": {},
   "outputs": [],
   "source": [
    "l_accounts = [\n",
    "    {\n",
    "        \"pk\": \"0xabfc6c981e4e9f1f26175bc40aef73248d467617309c5e04e83da34171999076\",\n",
    "        \"address\": \"0xA401F59d7190E4448Eb60691E3bc78f1Ef03e88C\",\n",
    "    },\n",
    "    {\n",
    "        \"pk\": \"0x422043f88fbd2f605f0237512e090032ad90c0a5583df4a189f446ab7abf779a\",\n",
    "        \"address\": \"0xEe8633d1fC69d045442Da84f08DF49C48826b163\",\n",
    "    },\n",
    "    {\n",
    "        \"pk\": \"0x321c704b7edbeec46a1200f6862548604ba255e2c1f7dd08e9c1d18fcfc0cfb9\",\n",
    "        \"address\": \"0x7e3CB5Bc50E1864b3Dc863299b4A4269D12928f1\",\n",
    "    },\n",
    "    {\n",
    "        \"pk\": \"0x7d0776af9f1eac044e9d390a84a9a3608350ebce036bc0215e6b19c77d51f700\",\n",
    "        \"address\": \"0xcd9b43102E26d3191a7a76eA98dF858daa1e34Ae\",\n",
    "    },\n",
    "    {\n",
    "        \"pk\": \"0x63716eb43c9a84224715bcf5dd901e9dd3100791526dc65993898c0a676ffa68\",\n",
    "        \"address\": \"0xd991dc481319fb3C93fe01d124a4ae0b197FcB8B\",\n",
    "    },\n",
    "]"
   ]
  },
  {
   "cell_type": "markdown",
   "metadata": {},
   "source": [
    "S3 bucket for the trade data.<br>\n",
    "Trade data could be stored anyplace: a database, a DropBox folder, etc."
   ]
  },
  {
   "cell_type": "code",
   "execution_count": null,
   "metadata": {},
   "outputs": [],
   "source": [
    "BUCKET_NAME = \"vbase-test\""
   ]
  },
  {
   "cell_type": "markdown",
   "metadata": {},
   "source": [
    "S3 folder for the trade data."
   ]
  },
  {
   "cell_type": "code",
   "execution_count": null,
   "metadata": {
    "jupyter": {
     "source_hidden": true
    }
   },
   "outputs": [],
   "source": [
    "FOLDER_NAME = f\"add_trades_parallel/{datetime.now().strftime('%Y%m%d%H%M%S')}/\""
   ]
  },
  {
   "cell_type": "markdown",
   "metadata": {},
   "source": [
    "Check if the script is running in an interactive mode or a Jupyter notebook."
   ]
  },
  {
   "cell_type": "code",
   "execution_count": null,
   "metadata": {
    "jupyter": {
     "source_hidden": true
    }
   },
   "outputs": [],
   "source": [
    "if \"ipykernel\" not in sys.modules and \"IPython\" in sys.modules:\n",
    "    # Load support for HTML display, if necessary.\n",
    "    from IPython.display import display, HTML\n",
    "\n",
    "    # The following line creates overactive warning.\n",
    "    # We want the import within the clause.\n",
    "    # pylint: disable=ungrouped-imports\n",
    "    import matplotlib\n",
    "\n",
    "    # Set plot backend to WebAgg.\n",
    "    # This backend provides interactive web charts.\n",
    "    matplotlib.use(\"WebAgg\")"
   ]
  },
  {
   "cell_type": "markdown",
   "metadata": {},
   "source": [
    "## Setup"
   ]
  },
  {
   "cell_type": "markdown",
   "metadata": {},
   "source": [
    "vBase setup is just a few lines:"
   ]
  },
  {
   "cell_type": "code",
   "execution_count": null,
   "metadata": {},
   "outputs": [],
   "source": [
    "load_dotenv(verbose=True, override=True)\n",
    "forwarder_url = os.environ.get(\"VBASE_FORWARDER_URL\")\n",
    "api_key = os.environ.get(\"VBASE_API_KEY\")"
   ]
  },
  {
   "cell_type": "markdown",
   "metadata": {},
   "source": [
    "Create an AWS client using environment variables."
   ]
  },
  {
   "cell_type": "code",
   "execution_count": null,
   "metadata": {
    "jupyter": {
     "source_hidden": true
    }
   },
   "outputs": [],
   "source": [
    "boto_client = create_s3_client_from_env()"
   ]
  },
  {
   "cell_type": "markdown",
   "metadata": {},
   "source": [
    "Create the strategies for each user and establish vBase connections."
   ]
  },
  {
   "cell_type": "code",
   "execution_count": null,
   "metadata": {
    "jupyter": {
     "source_hidden": true
    }
   },
   "outputs": [],
   "source": [
    "l_starts = []\n",
    "for i_user in range(N_USERS):\n",
    "    vbc = VBaseClient(\n",
    "        ForwarderCommitmentService(\n",
    "            forwarder_url,\n",
    "            api_key,\n",
    "            l_accounts[i_user][\"pk\"],\n",
    "        )\n",
    "    )\n",
    "    strategy_data = {\n",
    "        \"name\": (f\"user{i_user}_strategy\" + datetime.now().strftime(\"%Y%m%d%H%M%S\")),\n",
    "        \"address\": l_accounts[i_user][\"address\"],\n",
    "        \"vbc\": vbc,\n",
    "    }\n",
    "    l_starts.append(strategy_data)"
   ]
  },
  {
   "cell_type": "code",
   "execution_count": null,
   "metadata": {
    "jupyter": {
     "source_hidden": true
    }
   },
   "outputs": [],
   "source": [
    "%%capture\n",
    "print(f\"Created users and strategies:\\n{pprint.pformat(l_starts)}\")"
   ]
  },
  {
   "cell_type": "markdown",
   "metadata": {},
   "source": [
    "Create vBase datasets."
   ]
  },
  {
   "cell_type": "code",
   "execution_count": null,
   "metadata": {
    "jupyter": {
     "source_hidden": true
    }
   },
   "outputs": [],
   "source": [
    "def create_strategy_dataset(i_strat):\n",
    "    \"\"\"\n",
    "    Create the strategy dataset\n",
    "    :param i_strat: Strategy index\n",
    "    \"\"\"\n",
    "    # Create the vBase dataset object.\n",
    "    ds_strategy = VBaseDataset(\n",
    "        l_starts[i_strat][\"vbc\"], l_starts[i_strat][\"name\"], VBaseJsonObject\n",
    "    )\n",
    "    print(f\"Created dataset: {pprint.pformat(ds_strategy.to_dict())}\")\n",
    "    return ds_strategy"
   ]
  },
  {
   "cell_type": "code",
   "execution_count": null,
   "metadata": {
    "jupyter": {
     "source_hidden": true
    }
   },
   "outputs": [],
   "source": [
    "with ThreadPoolExecutor(max_workers=len(l_starts)) as executor:\n",
    "    results = executor.map(create_strategy_dataset, range(len(l_starts)))\n",
    "l_datasets = list(results)"
   ]
  },
  {
   "cell_type": "markdown",
   "metadata": {},
   "source": [
    "## Post Trades"
   ]
  },
  {
   "cell_type": "markdown",
   "metadata": {},
   "source": [
    "Post random trades using the following sample data:\n",
    "```\n",
    "        \"data\":\n",
    "        {\n",
    "            \"algo_id\": \"test_algo\",\n",
    "            \"timestamp\": \"2022-11-02 00:00:03\",\n",
    "            \"trade_ID\": \"123\",\n",
    "            \"symbol\": \"BTCUSD\",\n",
    "            \"buysell\": 1,\n",
    "            \"volume\": 0.01,\n",
    "            \"price\": 20000\n",
    "        }\n",
    "```"
   ]
  },
  {
   "cell_type": "code",
   "execution_count": null,
   "metadata": {},
   "outputs": [],
   "source": [
    "def post_strategy_trades(i_strat):\n",
    "    \"\"\"\n",
    "    Post trades for a strategy\n",
    "    :param i_strat: Strategy index\n",
    "    \"\"\"\n",
    "    trades = []\n",
    "    receipts = []\n",
    "    # Create a set of pseudorandom trades with a reproducible seed.\n",
    "    random.seed(i_strat)\n",
    "    for i_trade in range(N_TRADES):\n",
    "        trade = json.dumps(\n",
    "            {\n",
    "                \"trade_id\": i_trade,\n",
    "                \"symbol\": \"ETHUSD\",\n",
    "                # Create a random trade in [-1, 1].\n",
    "                \"size\": round(random.random() * 2 - 1, 4),\n",
    "            }\n",
    "        )\n",
    "        print(f\"Trade: {pprint.pformat(trade)}\")\n",
    "        trades.append(trade)\n",
    "        # Add trade to the vBase dataset object.\n",
    "        receipt = l_datasets[i_strat].add_record(trade)\n",
    "        print(f\"Posted trade: {pprint.pformat(receipt)}\")\n",
    "        receipts.append(receipt)\n",
    "    return trades, receipts"
   ]
  },
  {
   "cell_type": "code",
   "execution_count": null,
   "metadata": {
    "jupyter": {
     "source_hidden": true
    }
   },
   "outputs": [],
   "source": [
    "start_time = time.time()\n",
    "with ThreadPoolExecutor(max_workers=len(l_starts)) as executor:\n",
    "    results = executor.map(post_strategy_trades, range(len(l_starts)))\n",
    "elapsed_time = time.time() - start_time\n",
    "l_trades, l_receipts = zip(*results)"
   ]
  },
  {
   "cell_type": "code",
   "execution_count": null,
   "metadata": {
    "jupyter": {
     "source_hidden": true
    }
   },
   "outputs": [],
   "source": [
    "print(f\"Trades: {N_USERS * N_TRADES}\")\n",
    "print(f\"Time elapsed (sec.): {elapsed_time}\")\n",
    "print(f\"Throughput (trades/min.): {N_USERS * N_TRADES / elapsed_time * 60}\")\n",
    "print(\"\\n\")"
   ]
  },
  {
   "cell_type": "markdown",
   "metadata": {},
   "source": [
    "## Export Trades"
   ]
  },
  {
   "cell_type": "markdown",
   "metadata": {},
   "source": [
    "This could be taking place days, or years, later."
   ]
  },
  {
   "cell_type": "code",
   "execution_count": null,
   "metadata": {
    "jupyter": {
     "source_hidden": true
    }
   },
   "outputs": [],
   "source": [
    "%%capture\n",
    "for ds in l_datasets:\n",
    "    print(f\"Saving dataset: {ds.name}\")\n",
    "    create_s3_objects_from_dataset(ds, boto_client, BUCKET_NAME, FOLDER_NAME)"
   ]
  },
  {
   "cell_type": "markdown",
   "metadata": {},
   "source": [
    "Read saved trade data from the web."
   ]
  },
  {
   "cell_type": "code",
   "execution_count": null,
   "metadata": {
    "editable": true,
    "jupyter": {
     "source_hidden": true
    },
    "slideshow": {
     "slide_type": ""
    },
    "tags": []
   },
   "outputs": [],
   "source": [
    "for ds in l_datasets:\n",
    "    print(f\"Displaying S3 objects for dataset: {ds.name}\")\n",
    "    for i in range(len(ds.records)):\n",
    "        command = f\"curl https://vbase-test.s3.amazonaws.com/{FOLDER_NAME}{ds.name}/obj_{i}.json\"\n",
    "        print(command)\n",
    "        process = subprocess.run(\n",
    "            command, shell=True, text=True, capture_output=True, check=True\n",
    "        )\n",
    "        print(process.stdout)"
   ]
  },
  {
   "cell_type": "markdown",
   "metadata": {},
   "source": [
    "## Validate Trades"
   ]
  },
  {
   "cell_type": "markdown",
   "metadata": {},
   "source": [
    "Trade data consumer validates the exported trades."
   ]
  },
  {
   "cell_type": "code",
   "execution_count": null,
   "metadata": {
    "jupyter": {
     "source_hidden": true
    }
   },
   "outputs": [],
   "source": [
    "ds_consumer = VBaseDataset(\n",
    "    vbc=VBaseClient(ForwarderCommitmentService(forwarder_url, api_key)),\n",
    "    init_dict={\n",
    "        \"name\": l_datasets[0].name,\n",
    "        \"owner\": l_datasets[0].owner,\n",
    "        \"record_type_name\": \"VBaseJsonObject\",\n",
    "        \"records\": [],\n",
    "    },\n",
    ")"
   ]
  },
  {
   "cell_type": "markdown",
   "metadata": {},
   "source": [
    "Load trade records from the bucket."
   ]
  },
  {
   "cell_type": "code",
   "execution_count": null,
   "metadata": {
    "jupyter": {
     "source_hidden": true
    }
   },
   "outputs": [],
   "source": [
    "init_vbase_dataset_from_s3_objects(\n",
    "    ds_consumer, boto_client, BUCKET_NAME, FOLDER_NAME + ds_consumer.name\n",
    ")\n",
    "print(\n",
    "    f\"Consumer dataset before timestamp validation:\\n{pprint.pformat(ds_consumer.to_dict())}\"\n",
    ")"
   ]
  },
  {
   "cell_type": "markdown",
   "metadata": {},
   "source": [
    "Restore timestamps from blockchain transactions and display the validated trade data."
   ]
  },
  {
   "cell_type": "code",
   "execution_count": null,
   "metadata": {},
   "outputs": [],
   "source": [
    "%%capture\n",
    "ds_consumer.try_restore_timestamps_from_index()\n",
    "print(\n",
    "    f\"Copy dataset after timestamp validation:\\n{pprint.pformat(ds_consumer.to_dict())}\"\n",
    ")"
   ]
  },
  {
   "cell_type": "markdown",
   "metadata": {},
   "source": [
    "Print a table of the trades and transaction hash links."
   ]
  },
  {
   "cell_type": "code",
   "execution_count": null,
   "metadata": {
    "jupyter": {
     "source_hidden": true
    }
   },
   "outputs": [],
   "source": [
    "%%capture\n",
    "l_receipts = ds_consumer.get_commitment_receipts()\n",
    "print(\"num\\ttrade\\ttrade_hash\\ttx\")\n",
    "for i, record in enumerate(ds_consumer.records):\n",
    "    print(f\"{i}\\t{record.data}\\t{record.cid}\\t{l_receipts[i]['transactionHash']}\")"
   ]
  },
  {
   "cell_type": "markdown",
   "metadata": {
    "jupyter": {
     "source_hidden": true
    }
   },
   "source": [
    "Build the HTML table."
   ]
  },
  {
   "cell_type": "code",
   "execution_count": null,
   "metadata": {
    "jupyter": {
     "source_hidden": true
    }
   },
   "outputs": [],
   "source": [
    "def compress_output(text, n=8):\n",
    "    if len(text) <= 2 * n:\n",
    "        print(text)\n",
    "    else:\n",
    "        leading = text[:n]\n",
    "        trailing = text[-n:]\n",
    "        return leading + \"...\" + trailing\n",
    "\n",
    "\n",
    "html = \"<table>\"\n",
    "html += \"<tr><th>trade_id</th><th>trade</th><th>trade_hash</th><th>blockchain timestamp</th><th>blockchain_transaction_hash</th></tr>\"\n",
    "# Populate the table with data.\n",
    "for i, record in enumerate(ds_consumer.records):\n",
    "    tx_hash = l_receipts[i][\"transactionHash\"]\n",
    "    timestamp = l_receipts[i][\"timestamp\"]\n",
    "    html += (\n",
    "        f\"<tr><td>{i}</td><td>{record.data}</td><td><pre style='background-color: transparent; color: black;'>{compress_output(record.cid)}</pre></td>\"\n",
    "        f\"<td>{timestamp}</td>\"\n",
    "        f\"<td><a href=\\\"https://sepolia.arbiscan.io/tx/{tx_hash}\\\"><pre style='background-color: transparent; color: black;'><u>{compress_output(tx_hash)}</u></pre></a></td></tr>\"\n",
    "    )\n",
    "html += \"</table>\""
   ]
  },
  {
   "cell_type": "markdown",
   "metadata": {
    "jupyter": {
     "source_hidden": true
    }
   },
   "source": [
    "Check if the script is running in an interactive mode or a Jupyter notebook."
   ]
  },
  {
   "cell_type": "code",
   "execution_count": null,
   "metadata": {
    "jupyter": {
     "source_hidden": true
    }
   },
   "outputs": [],
   "source": [
    "if \"ipykernel\" not in sys.modules and \"IPython\" in sys.modules:\n",
    "    pprint.pprint(html)\n",
    "else:\n",
    "    # Load support for HTML display, if necessary.\n",
    "    from IPython.display import display, HTML\n",
    "\n",
    "    # Display the HTML table in the Jupyter notebook.\n",
    "    display(HTML(html))"
   ]
  },
  {
   "cell_type": "markdown",
   "metadata": {},
   "source": [
    "We illustrated the following:<br>\n",
    "- Privacy-preserving trade records\n",
    "- High throughput\n",
    "- Validating individual trades\n",
    "- Validating a strategy"
   ]
  },
  {
   "cell_type": "markdown",
   "metadata": {},
   "source": [
    "Plot the cumulative strategy return using a fictional return series."
   ]
  },
  {
   "cell_type": "code",
   "execution_count": null,
   "metadata": {
    "jupyter": {
     "source_hidden": true
    }
   },
   "outputs": [],
   "source": [
    "df = ds_consumer.get_pd_data_frame()\n",
    "print(\"Strategy trades DataFrame:\\n\", df)\n",
    "random.seed(1)\n",
    "returns = [(random.random() * 2 - 1) / 100 for i in range(df.shape[0])]\n",
    "df[\"wt\"] = df[\"size\"].cumsum()\n",
    "(1 + df[\"wt\"] * returns).cumprod().shift(1).fillna(1).plot()\n",
    "print(\"\\nStrategy cumulative return:\")\n",
    "plt.show()"
   ]
  },
  {
   "cell_type": "code",
   "execution_count": null,
   "metadata": {},
   "outputs": [],
   "source": []
  }
 ],
 "metadata": {
  "kernelspec": {
   "display_name": "Python 3 (ipykernel)",
   "language": "python",
   "name": "python3"
  },
  "language_info": {
   "codemirror_mode": {
    "name": "ipython",
    "version": 3
   },
   "file_extension": ".py",
   "mimetype": "text/x-python",
   "name": "python",
   "nbconvert_exporter": "python",
   "pygments_lexer": "ipython3",
   "version": "3.8.18"
  }
 },
 "nbformat": 4,
 "nbformat_minor": 4
}
