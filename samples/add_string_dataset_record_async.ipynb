{
 "cells": [
  {
   "cell_type": "markdown",
   "metadata": {},
   "source": [
    "# add_string_dataset_record_async"
   ]
  },
  {
   "cell_type": "markdown",
   "metadata": {},
   "source": [
    "\n",
    "This sample creates a dataset comprising string records<br>\n",
    "if one does not exist and adds a record to the dataset.<br>\n",
    "The sample uses async methods to commit dataset and records<br>\n",
    "and illustrates async operation using asyncio.<br>\n",
    "The sample demonstrates the higher order vBase dataset and string record abstractions<br>\n",
    "that hide the details of object and record content id (CID) calculation (hashing).<br>\n",
    "This example builds on the create_set.py code and omits redundant comments.<br>\n"
   ]
  },
  {
   "cell_type": "code",
   "execution_count": null,
   "metadata": {},
   "outputs": [],
   "source": [
    "import asyncio\n",
    "import pprint\n",
    "import time"
   ]
  },
  {
   "cell_type": "code",
   "execution_count": null,
   "metadata": {},
   "outputs": [],
   "source": [
    "from vbase import (\n",
    "    VBaseClient,\n",
    "    VBaseDatasetAsync,\n",
    "    VBaseStringObject,\n",
    ")"
   ]
  },
  {
   "cell_type": "markdown",
   "metadata": {},
   "source": [
    "Name for the test set to create."
   ]
  },
  {
   "cell_type": "code",
   "execution_count": null,
   "metadata": {},
   "outputs": [],
   "source": [
    "SET_NAME = \"TestDataset\""
   ]
  },
  {
   "cell_type": "code",
   "execution_count": null,
   "metadata": {},
   "outputs": [],
   "source": [
    "async def main():\n",
    "    \"\"\"\n",
    "    Create the dataset and add records asynchronously.\n",
    "    \"\"\"\n",
    "\n",
    "    # Initialize vBase using environment variables.\n",
    "    vbc = VBaseClient.create_instance_from_env()\n",
    "\n",
    "    # Create the dataset object, if necessary.\n",
    "    # Call the async VBaseDatasetAsync.create() factory method\n",
    "    # to start dataset creation.\n",
    "    start_time = time.time()\n",
    "    task = asyncio.create_task(\n",
    "        VBaseDatasetAsync.create(vbc, name=SET_NAME, record_type=VBaseStringObject)\n",
    "    )\n",
    "    elapsed_time = time.time() - start_time\n",
    "    print(f\"VBaseDatasetAsync.create(): create_task took {elapsed_time} seconds.\")\n",
    "    # Await for dataset creation.\n",
    "    start_time = time.time()\n",
    "    ds = await task\n",
    "    elapsed_time = time.time() - start_time\n",
    "    print(f\"VBaseDatasetAsync.create(): await took {elapsed_time} seconds.\")\n",
    "\n",
    "    # Add a record to the dataset.\n",
    "    # Call the async add_record_async() method\n",
    "    # to start record creation.\n",
    "    start_time = time.time()\n",
    "    task = asyncio.create_task(ds.add_record_async(\"TestRecord\"))\n",
    "    elapsed_time = time.time() - start_time\n",
    "    print(f\"ds.add_record_async(record_data) create_task took {elapsed_time} seconds.\")\n",
    "    # Await for record creation.\n",
    "    start_time = time.time()\n",
    "    receipt = await task\n",
    "    elapsed_time = time.time() - start_time\n",
    "    print(f\"ds.add_record_async(record_data) await took {elapsed_time} seconds.\")\n",
    "    print(f\"add_record_async() receipt:\\n{pprint.pformat(receipt)}\")\n",
    "\n",
    "    # Validate the dataset commitments.\n",
    "    assert ds.verify_commitments()[0]"
   ]
  },
  {
   "cell_type": "code",
   "execution_count": null,
   "metadata": {},
   "outputs": [],
   "source": [
    "asyncio.run(main())"
   ]
  }
 ],
 "metadata": {
  "kernelspec": {
   "display_name": "Python 3 (ipykernel)",
   "language": "python",
   "name": "python3"
  },
  "language_info": {
   "codemirror_mode": {
    "name": "ipython",
    "version": 3
   },
   "file_extension": ".py",
   "mimetype": "text/x-python",
   "name": "python",
   "nbconvert_exporter": "python",
   "pygments_lexer": "ipython3",
   "version": "3.8.18"
  }
 },
 "nbformat": 4,
 "nbformat_minor": 4
}
