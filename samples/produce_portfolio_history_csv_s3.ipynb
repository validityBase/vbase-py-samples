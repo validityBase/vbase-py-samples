{
 "cells": [
  {
   "cell_type": "markdown",
   "id": "67a9857e",
   "metadata": {},
   "source": [
    "# Strategy Stamper Demo"
   ]
  },
  {
   "cell_type": "code",
   "execution_count": null,
   "id": "4e963e52",
   "metadata": {
    "lines_to_next_cell": 2
   },
   "outputs": [],
   "source": [
    "\"\"\"This sample creates a tamper-proof portfolio track record.\n",
    "\"\"\""
   ]
  },
  {
   "cell_type": "markdown",
   "id": "600ceb2d",
   "metadata": {},
   "source": [
    "## Imports"
   ]
  },
  {
   "cell_type": "code",
   "execution_count": null,
   "id": "6d78a6d3",
   "metadata": {},
   "outputs": [],
   "source": [
    "from datetime import datetime\n",
    "from io import StringIO\n",
    "import os\n",
    "import pprint\n",
    "import random\n",
    "from dotenv import load_dotenv\n",
    "import pandas as pd"
   ]
  },
  {
   "cell_type": "code",
   "execution_count": null,
   "id": "c7533c88",
   "metadata": {},
   "outputs": [],
   "source": [
    "from vbase import (\n",
    "    VBaseClient,\n",
    "    ForwarderCommitmentService,\n",
    "    VBaseDataset,\n",
    "    VBaseStringObject,\n",
    ")"
   ]
  },
  {
   "cell_type": "code",
   "execution_count": null,
   "id": "10962e17",
   "metadata": {
    "lines_to_next_cell": 2
   },
   "outputs": [],
   "source": [
    "from aws_utils import (\n",
    "    create_s3_client_from_env,\n",
    "    write_s3_object,\n",
    ")"
   ]
  },
  {
   "cell_type": "markdown",
   "id": "d86d6099",
   "metadata": {},
   "source": [
    "## Configuration"
   ]
  },
  {
   "cell_type": "code",
   "execution_count": null,
   "id": "c9b95497",
   "metadata": {},
   "outputs": [],
   "source": [
    "# The trader's sovereign cryptographic identity.\n",
    "PRIVATE_KEY = \"0xabfc6c981e4e9f1f26175bc40aef73248d467617309c5e04e83da34171999076\""
   ]
  },
  {
   "cell_type": "code",
   "execution_count": null,
   "id": "a0324d40",
   "metadata": {},
   "outputs": [],
   "source": [
    "# The strategy name.\n",
    "STRATEGY_NAME = \"strategy\" + datetime.now().strftime(\"%Y%m%d%H%M%S\")"
   ]
  },
  {
   "cell_type": "code",
   "execution_count": null,
   "id": "df3e5ab5",
   "metadata": {
    "lines_to_next_cell": 2
   },
   "outputs": [],
   "source": [
    "# Additional configuration.\n",
    "BUCKET_NAME = \"vbase-test\"\n",
    "N_TIME_PERIODS = 5\n",
    "FOLDER_NAME = \"samples/portfolio_history/\"\n",
    "STRATEGY_FOLDER_NAME = FOLDER_NAME + STRATEGY_NAME\n",
    "ADDRESS = \"0xA401F59d7190E4448Eb60691E3bc78f1Ef03e88C\""
   ]
  },
  {
   "cell_type": "markdown",
   "id": "23fd4ce7",
   "metadata": {},
   "source": [
    "## Setup"
   ]
  },
  {
   "cell_type": "code",
   "execution_count": null,
   "id": "1348538c",
   "metadata": {},
   "outputs": [],
   "source": [
    "# Load the information necessary to call vBase APIs.\n",
    "load_dotenv(verbose=True, override=True)\n",
    "forwarder_url = os.environ.get(\"VBASE_FORWARDER_URL\")\n",
    "api_key = os.environ.get(\"VBASE_API_KEY\")"
   ]
  },
  {
   "cell_type": "code",
   "execution_count": null,
   "id": "a5cc87b4",
   "metadata": {},
   "outputs": [],
   "source": [
    "# Connect to vBase.\n",
    "vbc = VBaseClient(\n",
    "    ForwarderCommitmentService(\n",
    "        forwarder_url,\n",
    "        api_key,\n",
    "        PRIVATE_KEY,\n",
    "    )\n",
    ")"
   ]
  },
  {
   "cell_type": "code",
   "execution_count": null,
   "id": "3bd4e2f7",
   "metadata": {
    "lines_to_next_cell": 2
   },
   "outputs": [],
   "source": [
    "# Connect to AWS.\n",
    "boto_client = create_s3_client_from_env()"
   ]
  },
  {
   "cell_type": "markdown",
   "id": "d873f958",
   "metadata": {},
   "source": [
    "## Create and Stamp Portfolios"
   ]
  },
  {
   "cell_type": "code",
   "execution_count": null,
   "id": "cfd122a5",
   "metadata": {},
   "outputs": [],
   "source": [
    "# Create the vBase dataset object for the strategy.\n",
    "ds_strategy = VBaseDataset(vbc, STRATEGY_NAME, VBaseStringObject)\n",
    "print(f\"Created dataset: {pprint.pformat(ds_strategy.to_dict())}\")"
   ]
  },
  {
   "cell_type": "code",
   "execution_count": null,
   "id": "8687e632",
   "metadata": {},
   "outputs": [],
   "source": [
    "# Create sample portfolios.\n",
    "random.seed(1234)\n",
    "l_port_csvs = []\n",
    "l_timestamps = []\n",
    "for i_trade in range(N_TIME_PERIODS):\n",
    "    # Create a random portfolio in [-1, 1].\n",
    "    # We can use any identifier for which returns can be verified.\n",
    "    port_csv = pd.DataFrame(\n",
    "        {\n",
    "            \"sym\": [\"SPY\", \"TSLA\", \"BTCUSD\", \"JPM:CDS:5\"],\n",
    "            \"wt\": [round(random.random() * 2 - 1, 2) for _ in range(4)],\n",
    "        }\n",
    "    ).to_csv(index=False)\n",
    "    l_port_csvs.append(port_csv)\n",
    "    print(f\"Portfolio:\\n{port_csv}\")\n",
    "\n",
    "    # Add the portfolio to the vBase dataset object.\n",
    "    receipt = ds_strategy.add_record(port_csv)\n",
    "    print(f\"Stamp receipt: {pprint.pformat(receipt)}\")\n",
    "    l_timestamps.append(receipt[\"timestamp\"])\n",
    "\n",
    "    # Save the portfolio.\n",
    "    write_s3_object(\n",
    "        boto_client,\n",
    "        BUCKET_NAME,\n",
    "        STRATEGY_FOLDER_NAME,\n",
    "        f\"portfolio_{i_trade}.csv\",\n",
    "        port_csv,\n",
    "    )"
   ]
  },
  {
   "cell_type": "code",
   "execution_count": null,
   "id": "829fd4b5",
   "metadata": {},
   "outputs": [],
   "source": [
    "# Create a long portfolio history CSV.\n",
    "# We could create it from the above DataFrames,\n",
    "# but we will show how to concatenate the CSVs.\n",
    "df_ports_long = pd.concat(\n",
    "    [\n",
    "        pd.read_csv(StringIO(port_csv)).assign(t=l_timestamps[i])[[\"t\", \"sym\", \"wt\"]]\n",
    "        for i, port_csv in enumerate(l_port_csvs)\n",
    "    ],\n",
    "    axis=0,\n",
    ")\n",
    "csv_ports_long = df_ports_long.to_csv(index=False)"
   ]
  },
  {
   "cell_type": "code",
   "execution_count": null,
   "id": "5d3aca3f",
   "metadata": {},
   "outputs": [],
   "source": [
    "# Save the long portfolio history CSV.\n",
    "write_s3_object(\n",
    "    boto_client,\n",
    "    BUCKET_NAME,\n",
    "    STRATEGY_FOLDER_NAME,\n",
    "    \"portfolio_long.csv\",\n",
    "    csv_ports_long,\n",
    ")"
   ]
  },
  {
   "cell_type": "code",
   "execution_count": null,
   "id": "0008a1a4",
   "metadata": {
    "lines_to_next_cell": 2
   },
   "outputs": [],
   "source": [
    "# Display the shareable portfolio history URL.\n",
    "print(\n",
    "    \"Data saved to: \"\n",
    "    \"http://vbase-test.s3-website-us-east-1.amazonaws.com/?prefix=\"\n",
    "    f\"{STRATEGY_FOLDER_NAME}\"\n",
    ")\n",
    "print(f\"Strategy info: name = {ds_strategy.name}, owner = {ds_strategy.owner}\")"
   ]
  },
  {
   "cell_type": "markdown",
   "id": "5ff60cf0",
   "metadata": {},
   "source": [
    "## Summary"
   ]
  },
  {
   "cell_type": "code",
   "execution_count": null,
   "id": "88ad4dd5",
   "metadata": {},
   "outputs": [],
   "source": [
    "\"\"\"Process\n",
    "* We used only a private key and portfolio weights as inputs.\n",
    "* We created a tamper-proof history of portfolio records.\n",
    "* Portfolio data was not shared with vBase or any other third party.\n",
    "\"\"\""
   ]
  },
  {
   "cell_type": "code",
   "execution_count": null,
   "id": "a9770d98",
   "metadata": {},
   "outputs": [],
   "source": [
    "\"\"\"Key Implications\n",
    "* We can produce an easily verifiable track record.\n",
    "* We can selectively share the portfolio history.\n",
    "* The track record and all analytics can be independently calculated and verified forever.\n",
    "\"\"\""
   ]
  }
 ],
 "metadata": {
  "jupytext": {
   "cell_metadata_filter": "-all",
   "main_language": "python",
   "notebook_metadata_filter": "-all"
  }
 },
 "nbformat": 4,
 "nbformat_minor": 5
}
