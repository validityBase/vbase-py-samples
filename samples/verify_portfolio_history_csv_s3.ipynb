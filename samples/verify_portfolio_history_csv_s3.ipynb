{
 "cells": [
  {
   "cell_type": "markdown",
   "id": "739cab26",
   "metadata": {},
   "source": [
    "# Track Record Verification Demo"
   ]
  },
  {
   "cell_type": "code",
   "execution_count": null,
   "id": "cd58163f",
   "metadata": {
    "lines_to_next_cell": 2
   },
   "outputs": [],
   "source": [
    "\"\"\"This sample verifies a tamper-proof portfolio track record.\n",
    "\"\"\""
   ]
  },
  {
   "cell_type": "markdown",
   "id": "599732d4",
   "metadata": {},
   "source": [
    "## Imports"
   ]
  },
  {
   "cell_type": "code",
   "execution_count": null,
   "id": "74ace174",
   "metadata": {},
   "outputs": [],
   "source": [
    "import pprint\n",
    "import sys\n",
    "from dotenv import load_dotenv"
   ]
  },
  {
   "cell_type": "code",
   "execution_count": null,
   "id": "ef4ee2de",
   "metadata": {},
   "outputs": [],
   "source": [
    "from vbase import (\n",
    "    VBaseClient,\n",
    "    VBaseDataset,\n",
    ")"
   ]
  },
  {
   "cell_type": "code",
   "execution_count": null,
   "id": "f2842a1a",
   "metadata": {
    "lines_to_next_cell": 2
   },
   "outputs": [],
   "source": [
    "from aws_utils import (\n",
    "    create_s3_client_from_env,\n",
    "    read_s3_object,\n",
    "    init_vbase_dataset_from_long_csv,\n",
    ")"
   ]
  },
  {
   "cell_type": "markdown",
   "id": "178856a2",
   "metadata": {},
   "source": [
    "## Configuration"
   ]
  },
  {
   "cell_type": "code",
   "execution_count": null,
   "id": "7126f188",
   "metadata": {},
   "outputs": [],
   "source": [
    "# The strategy owner address.\n",
    "STRATEGY_OWNER = \"0xA401F59d7190E4448Eb60691E3bc78f1Ef03e88C\""
   ]
  },
  {
   "cell_type": "code",
   "execution_count": null,
   "id": "27973f73",
   "metadata": {},
   "outputs": [],
   "source": [
    "# The strategy name.\n",
    "STRATEGY_NAME = \"strategy20240618145216\""
   ]
  },
  {
   "cell_type": "code",
   "execution_count": null,
   "id": "4d05ec50",
   "metadata": {
    "lines_to_next_cell": 2
   },
   "outputs": [],
   "source": [
    "# Additional configuration.\n",
    "BUCKET_NAME = \"vbase-test\"\n",
    "FOLDER_NAME = \"samples/portfolio_history/\"\n",
    "STRATEGY_FOLDER_NAME = FOLDER_NAME + STRATEGY_NAME"
   ]
  },
  {
   "cell_type": "markdown",
   "id": "28972790",
   "metadata": {},
   "source": [
    "## Setup"
   ]
  },
  {
   "cell_type": "code",
   "execution_count": null,
   "id": "153bf167",
   "metadata": {},
   "outputs": [],
   "source": [
    "# Load the information necessary to call vBase APIs.\n",
    "assert load_dotenv(verbose=True, override=True)"
   ]
  },
  {
   "cell_type": "code",
   "execution_count": null,
   "id": "ac5fbaaf",
   "metadata": {},
   "outputs": [],
   "source": [
    "# Connect to AWS.\n",
    "boto_client = create_s3_client_from_env()"
   ]
  },
  {
   "cell_type": "code",
   "execution_count": null,
   "id": "3b0dc488",
   "metadata": {},
   "outputs": [],
   "source": [
    "# Connect to vBase.\n",
    "vbc = VBaseClient.create_instance_from_env()"
   ]
  },
  {
   "cell_type": "code",
   "execution_count": null,
   "id": "72747c4a",
   "metadata": {},
   "outputs": [],
   "source": [
    "# Initialize the strategy dataset object.\n",
    "ds_strategy = VBaseDataset(\n",
    "    vbc,\n",
    "    init_dict={\n",
    "        \"name\": STRATEGY_NAME,\n",
    "        \"owner\": STRATEGY_OWNER,\n",
    "        \"record_type_name\": \"VBaseStringObject\",\n",
    "        \"records\": [],\n",
    "    },\n",
    ")"
   ]
  },
  {
   "cell_type": "code",
   "execution_count": null,
   "id": "d391dcb7",
   "metadata": {
    "lines_to_next_cell": 2
   },
   "outputs": [],
   "source": [
    "# Additional Setup.\n",
    "if \"ipykernel\" not in sys.modules and \"IPython\" in sys.modules:\n",
    "    # Configure plot backend if running in interactive mode.\n",
    "    # The following line creates overactive warning.\n",
    "    # We want the import within the clause.\n",
    "    # pylint: disable=ungrouped-imports\n",
    "    import matplotlib\n",
    "\n",
    "    # Set plot backend to WebAgg.\n",
    "    # This backend provides interactive web charts.\n",
    "    matplotlib.use(\"WebAgg\")"
   ]
  },
  {
   "cell_type": "markdown",
   "id": "529c1e3d",
   "metadata": {},
   "source": [
    "## Validate the Portfolio History"
   ]
  },
  {
   "cell_type": "code",
   "execution_count": null,
   "id": "391443c6",
   "metadata": {},
   "outputs": [],
   "source": [
    "# Load the long portfolio history CSV.\n",
    "csv_ports_long = read_s3_object(\n",
    "    boto_client,\n",
    "    BUCKET_NAME,\n",
    "    STRATEGY_FOLDER_NAME,\n",
    "    \"portfolio_long.csv\",\n",
    ")\n",
    "print(\"Strategy long CSV:\\n\", csv_ports_long)"
   ]
  },
  {
   "cell_type": "code",
   "execution_count": null,
   "id": "dfd0bc99",
   "metadata": {},
   "outputs": [],
   "source": [
    "# Load the portfolio records.\n",
    "ds_strategy = init_vbase_dataset_from_long_csv(ds_strategy, csv_ports_long)"
   ]
  },
  {
   "cell_type": "code",
   "execution_count": null,
   "id": "b443358b",
   "metadata": {},
   "outputs": [],
   "source": [
    "# Restore timestamps using the blockchain stamps.\n",
    "assert ds_strategy.try_restore_timestamps_from_index()"
   ]
  },
  {
   "cell_type": "code",
   "execution_count": null,
   "id": "4fbecb78",
   "metadata": {},
   "outputs": [],
   "source": [
    "# Verify the portfolio records.\n",
    "assert ds_strategy.verify_commitments()"
   ]
  },
  {
   "cell_type": "code",
   "execution_count": null,
   "id": "86ccd5ca",
   "metadata": {
    "lines_to_next_cell": 2
   },
   "outputs": [],
   "source": [
    "# Build and display the verified portfolio records.\n",
    "l_receipts = ds_strategy.get_commitment_receipts()\n",
    "html = (\n",
    "    \"<table>\"\n",
    "    + \"<tr><th>num</th><th>portfolio</th><th>portfolio_hash</th><th>tx</th></tr>\"\n",
    ")\n",
    "# Populate the table with data.\n",
    "for i, record in enumerate(ds_strategy.records):\n",
    "    html += (\n",
    "        f\"<tr><td>{i}</td><td>{record.data}</td><td>{record.cid}</td>\"\n",
    "        f\"<td>{l_receipts[i]['transactionHash']}</td></tr>\"\n",
    "    )\n",
    "html += \"</table>\"\n",
    "# Check if the script is running in an interactive mode or a Jupyter notebook.\n",
    "if \"ipykernel\" not in sys.modules and \"IPython\" in sys.modules:\n",
    "    pprint.pprint(html)\n",
    "else:\n",
    "    # Load support for HTML display, if necessary.\n",
    "    from IPython.display import display, HTML\n",
    "\n",
    "    # Display the HTML table in the Jupyter notebook.\n",
    "    display(HTML(html))"
   ]
  },
  {
   "cell_type": "markdown",
   "id": "00fb92a1",
   "metadata": {},
   "source": [
    "## Summary"
   ]
  },
  {
   "cell_type": "code",
   "execution_count": null,
   "id": "5aa4f58d",
   "metadata": {},
   "outputs": [],
   "source": [
    "\"\"\"Process\n",
    "* We used only a link to the portfolio history, strategy name and owner.\n",
    "* We validated data integrity and timestamps using public blockchain records.\n",
    "* We converted the long CSV to a series of verified timestamped records.\n",
    "\"\"\""
   ]
  },
  {
   "cell_type": "code",
   "execution_count": null,
   "id": "b34a9aaa",
   "metadata": {},
   "outputs": [],
   "source": [
    "\"\"\"Key Implications\n",
    "* The track record and all analytics can be independently calculated and verified forever.\n",
    "* Data can be validated with a single line.\n",
    "* vBase integrates smoothly with existing data science libraries and workflows.\n",
    "\"\"\""
   ]
  }
 ],
 "metadata": {
  "jupytext": {
   "cell_metadata_filter": "-all",
   "main_language": "python",
   "notebook_metadata_filter": "-all"
  }
 },
 "nbformat": 4,
 "nbformat_minor": 5
}
