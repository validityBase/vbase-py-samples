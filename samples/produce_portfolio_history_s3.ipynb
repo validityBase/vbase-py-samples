{
 "cells": [
  {
   "cell_type": "markdown",
   "metadata": {},
   "source": [
    "# produce_portfolio_history_s3"
   ]
  },
  {
   "cell_type": "markdown",
   "metadata": {},
   "source": [
    "\n",
    "This sample creates a strategy comprising<br>\n",
    "a history of JSON portfolio records stored in an S3 bucket.<br>\n"
   ]
  },
  {
   "cell_type": "markdown",
   "metadata": {},
   "source": [
    "## Imports"
   ]
  },
  {
   "cell_type": "code",
   "execution_count": null,
   "metadata": {
    "jupyter": {
     "source_hidden": true
    }
   },
   "outputs": [],
   "source": [
    "from datetime import datetime\n",
    "import json\n",
    "import os\n",
    "import pprint\n",
    "import random\n",
    "from dotenv import load_dotenv"
   ]
  },
  {
   "cell_type": "code",
   "execution_count": null,
   "metadata": {
    "jupyter": {
     "source_hidden": true
    }
   },
   "outputs": [],
   "source": [
    "from vbase import (\n",
    "    VBaseClient,\n",
    "    ForwarderCommitmentService,\n",
    "    VBaseDataset,\n",
    "    VBaseJsonObject,\n",
    ")"
   ]
  },
  {
   "cell_type": "code",
   "execution_count": null,
   "metadata": {
    "jupyter": {
     "source_hidden": true
    }
   },
   "outputs": [],
   "source": [
    "from aws_utils import (\n",
    "    create_s3_client_from_env,\n",
    "    write_s3_object,\n",
    ")"
   ]
  },
  {
   "cell_type": "markdown",
   "metadata": {},
   "source": [
    "## Configuration"
   ]
  },
  {
   "cell_type": "markdown",
   "metadata": {},
   "source": [
    "The number of target allocations, or portfolios, in the portfolio history."
   ]
  },
  {
   "cell_type": "code",
   "execution_count": null,
   "metadata": {},
   "outputs": [],
   "source": [
    "N_TRADES = 10"
   ]
  },
  {
   "cell_type": "markdown",
   "metadata": {},
   "source": [
    "Use hardcoded test account for the example."
   ]
  },
  {
   "cell_type": "code",
   "execution_count": null,
   "metadata": {},
   "outputs": [],
   "source": [
    "PK = \"0xabfc6c981e4e9f1f26175bc40aef73248d467617309c5e04e83da34171999076\"\n",
    "ADDRESS = \"0xA401F59d7190E4448Eb60691E3bc78f1Ef03e88C\""
   ]
  },
  {
   "cell_type": "markdown",
   "metadata": {},
   "source": [
    "S3 bucket for the test data."
   ]
  },
  {
   "cell_type": "code",
   "execution_count": null,
   "metadata": {},
   "outputs": [],
   "source": [
    "BUCKET_NAME = \"vbase-test\""
   ]
  },
  {
   "cell_type": "markdown",
   "metadata": {},
   "source": [
    "Name of the source S3 folder for the dataset records."
   ]
  },
  {
   "cell_type": "code",
   "execution_count": null,
   "metadata": {},
   "outputs": [],
   "source": [
    "FOLDER_NAME = \"add_trades/\""
   ]
  },
  {
   "cell_type": "markdown",
   "metadata": {},
   "source": [
    "Define the strategy name."
   ]
  },
  {
   "cell_type": "code",
   "execution_count": null,
   "metadata": {
    "jupyter": {
     "source_hidden": true
    }
   },
   "outputs": [],
   "source": [
    "STRATEGY_NAME = \"strategy\" + datetime.now().strftime(\"%Y%m%d%H%M%S\")\n",
    "STRATEGY_FOLDER_NAME = FOLDER_NAME + STRATEGY_NAME"
   ]
  },
  {
   "cell_type": "markdown",
   "metadata": {},
   "source": [
    "## Setup"
   ]
  },
  {
   "cell_type": "markdown",
   "metadata": {},
   "source": [
    "Load the information necessary to call vBase APIs."
   ]
  },
  {
   "cell_type": "code",
   "execution_count": null,
   "metadata": {
    "jupyter": {
     "source_hidden": true
    }
   },
   "outputs": [],
   "source": [
    "load_dotenv(verbose=True, override=True)\n",
    "forwarder_url = os.environ.get(\"VBASE_FORWARDER_URL\")\n",
    "api_key = os.environ.get(\"VBASE_API_KEY\")"
   ]
  },
  {
   "cell_type": "markdown",
   "metadata": {},
   "source": [
    "Create an AWS client using environment variables."
   ]
  },
  {
   "cell_type": "code",
   "execution_count": null,
   "metadata": {
    "jupyter": {
     "source_hidden": true
    }
   },
   "outputs": [],
   "source": [
    "boto_client = create_s3_client_from_env()"
   ]
  },
  {
   "cell_type": "markdown",
   "metadata": {},
   "source": [
    "Connect to vBase."
   ]
  },
  {
   "cell_type": "code",
   "execution_count": null,
   "metadata": {},
   "outputs": [],
   "source": [
    "vbc = VBaseClient(\n",
    "    ForwarderCommitmentService(\n",
    "        forwarder_url,\n",
    "        api_key,\n",
    "        PK,\n",
    "    )\n",
    ")"
   ]
  },
  {
   "cell_type": "markdown",
   "metadata": {},
   "source": [
    "## Create the Strategy Dataset"
   ]
  },
  {
   "cell_type": "markdown",
   "metadata": {},
   "source": [
    "Create the vBase dataset object for the strategy."
   ]
  },
  {
   "cell_type": "code",
   "execution_count": null,
   "metadata": {},
   "outputs": [],
   "source": [
    "ds_strategy = VBaseDataset(vbc, STRATEGY_NAME, VBaseJsonObject)\n",
    "print(f\"Created dataset: {pprint.pformat(ds_strategy.to_dict())}\")"
   ]
  },
  {
   "cell_type": "markdown",
   "metadata": {},
   "source": [
    "## Create and Stamp Portfolios"
   ]
  },
  {
   "cell_type": "markdown",
   "metadata": {},
   "source": [
    "Create a set of pseudorandom portfolios using a reproducible seed."
   ]
  },
  {
   "cell_type": "code",
   "execution_count": null,
   "metadata": {},
   "outputs": [],
   "source": [
    "random.seed(1234)\n",
    "for i_trade in range(N_TRADES):\n",
    "    # Create a random portfolio in [-1, 1].\n",
    "    port = json.dumps(\n",
    "        {\n",
    "            \"symbol\": \"ETHUSD\",\n",
    "            \"size\": round(random.random() * 2 - 1, 2),\n",
    "        }\n",
    "    )\n",
    "    print(f\"Added portfolio: {pprint.pformat(port)}\")\n",
    "    # Add portfolio to the vBase dataset object.\n",
    "    receipt = ds_strategy.add_record(port)\n",
    "    print(f\"Stamp receipt: {pprint.pformat(receipt)}\")\n",
    "    # Save the portfolio.\n",
    "    write_s3_object(\n",
    "        boto_client, BUCKET_NAME, STRATEGY_FOLDER_NAME, f\"trade_{i_trade}.json\", port\n",
    "    )"
   ]
  },
  {
   "cell_type": "markdown",
   "metadata": {},
   "source": [
    "## Display the S3 URL"
   ]
  },
  {
   "cell_type": "code",
   "execution_count": null,
   "metadata": {},
   "outputs": [],
   "source": [
    "print(\n",
    "    \"Data saved to: \"\n",
    "    \"http://vbase-test.s3-website-us-east-1.amazonaws.com/?prefix=\"\n",
    "    f\"{STRATEGY_FOLDER_NAME}\"\n",
    ")"
   ]
  },
  {
   "cell_type": "code",
   "execution_count": null,
   "metadata": {},
   "outputs": [],
   "source": [
    "print(f\"Strategy info: name = {ds_strategy.name}, owner = {ds_strategy.owner}\")"
   ]
  },
  {
   "cell_type": "code",
   "execution_count": null,
   "metadata": {},
   "outputs": [],
   "source": []
  }
 ],
 "metadata": {
  "kernelspec": {
   "display_name": "Python 3 (ipykernel)",
   "language": "python",
   "name": "python3"
  },
  "language_info": {
   "codemirror_mode": {
    "name": "ipython",
    "version": 3
   },
   "file_extension": ".py",
   "mimetype": "text/x-python",
   "name": "python",
   "nbconvert_exporter": "python",
   "pygments_lexer": "ipython3",
   "version": "3.11.9"
  }
 },
 "nbformat": 4,
 "nbformat_minor": 4
}
