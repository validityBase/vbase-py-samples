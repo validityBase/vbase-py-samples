{
 "cells": [
  {
   "cell_type": "markdown",
   "id": "37ec0cc4-da82-4f0f-a2e1-3944cdcc9201",
   "metadata": {},
   "source": [
    "Stamping files"
   ]
  },
  {
   "cell_type": "code",
   "execution_count": 1,
   "id": "0ec3e7e9-06ca-4d66-a24d-c116bb745e8b",
   "metadata": {},
   "outputs": [],
   "source": [
    "from pathlib import Path\n",
    "import os\n",
    "from core import LocalFileFolderDataSource, VBaseProcessingPipeline, VBaseClient\n",
    "from dotenv import load_dotenv\n",
    "\n",
    "load_dotenv()\n",
    "VBASE_API_URL = os.getenv(\"VBASE_API_URL\")"
   ]
  },
  {
   "cell_type": "code",
   "execution_count": 2,
   "id": "63858d04-b32a-4b03-ac8a-e6eedad107ee",
   "metadata": {},
   "outputs": [
    {
     "data": {
      "text/plain": [
       "'https://dev.app.vbase.com'"
      ]
     },
     "execution_count": 2,
     "metadata": {},
     "output_type": "execute_result"
    }
   ],
   "source": [
    "VBASE_API_URL"
   ]
  },
  {
   "cell_type": "code",
   "execution_count": 3,
   "id": "c2a1a129-837b-48c0-ad77-5d59aa92532c",
   "metadata": {},
   "outputs": [],
   "source": [
    "users_folder_path = \"users\"\n",
    "users_folder = Path(users_folder_path).resolve()\n",
    "\n",
    "assert VBASE_API_URL, \"Missing VBASE_API_URL in .env\"\n",
    "assert users_folder.exists(), f\"Users folder not found: {USERS_FOLDER}\""
   ]
  },
  {
   "cell_type": "markdown",
   "id": "1d8eae69-b582-4c21-a48c-f51589e5f085",
   "metadata": {},
   "source": [
    "Load all users"
   ]
  },
  {
   "cell_type": "code",
   "execution_count": 5,
   "id": "0ac407e7-1946-41d5-9146-ff765405d424",
   "metadata": {},
   "outputs": [
    {
     "data": {
      "text/plain": [
       "{'users': {'user_id_1': {'api_key': 'wajlGePaeOaTri5hj1vfKpA--hJ_kXVjPK6FI84ovNs',\n",
       "   'collections': {'collection_cid1': {'collection_cid': '0x64ad7103f0ef204d56f94d1923553d5dd7c1b9d5335dce70b21a7f44bd782712'},\n",
       "    'collection_cid2': {'collection_cid': '0x83b8430d41237e1f120aa0b624214e880c742db4422d0f5f66f948c1b18a9602'}}}}}"
      ]
     },
     "execution_count": 5,
     "metadata": {},
     "output_type": "execute_result"
    }
   ],
   "source": [
    "data_source = LocalFileFolderDataSource(users_folder)\n",
    "users_config = data_source.load_users()\n",
    "users_config"
   ]
  },
  {
   "cell_type": "markdown",
   "id": "ae04b48c-1991-4bd8-bb08-6ed667cccd96",
   "metadata": {},
   "source": [
    "Run stamping pipeline"
   ]
  },
  {
   "cell_type": "code",
   "execution_count": 6,
   "id": "ccc2be37-bc70-4841-a8c9-de6fb2c436d6",
   "metadata": {},
   "outputs": [],
   "source": [
    "def run_pipeline(api_url: str, users_folder: Path, run: bool, log_file: Path = None):\n",
    "    if not users_folder.exists():\n",
    "        raise ValueError(f\"Folder does not exist: {users_folder}\")\n",
    "\n",
    "    data_source = LocalFileFolderDataSource(users_folder)\n",
    "    users_config = data_source.load_users()\n",
    "\n",
    "    for user_id, user_info in users_config[\"users\"].items():\n",
    "        print(f\"\\n=== Processing user: {user_id} ===\")\n",
    "\n",
    "        api_key = user_info.get(\"api_key\")\n",
    "        if not api_key:\n",
    "            print(f\"Skipping user {user_id}, missing API key.\")\n",
    "            continue\n",
    "\n",
    "        stamping_client = VBaseClient(base_url=api_url, api_token=api_key)\n",
    "        pipeline = VBaseProcessingPipeline(data_source, stamping_client)\n",
    "\n",
    "        if run:\n",
    "            pipeline.run(current_user=user_id)\n",
    "            pipeline.print_summary()\n",
    "            if log_file:\n",
    "                pipeline.write_log(log_file)\n",
    "                print(f\"\\nLog written to: {log_file}\")\n",
    "        else:\n",
    "            preview = pipeline.preview(current_user=user_id)\n",
    "            print(\"\\n=== Preview Mode (use --run to execute stamping) ===\")\n",
    "            for entry in preview:\n",
    "                print(f\"{entry['file']} -> Collection: {entry['collection']} | User: {entry['user']}\")"
   ]
  },
  {
   "cell_type": "code",
   "execution_count": 7,
   "id": "5eb5d9bb-d8a7-4d0d-9e6e-a4e88fab0630",
   "metadata": {},
   "outputs": [],
   "source": [
    "preview_run = True\n",
    "api_url = os.getenv(\"VBASE_API_URL\")"
   ]
  },
  {
   "cell_type": "code",
   "execution_count": 8,
   "id": "272967e2-ca4a-455d-aac4-9316b524cef1",
   "metadata": {},
   "outputs": [
    {
     "name": "stdout",
     "output_type": "stream",
     "text": [
      "\n",
      "=== Processing user: user_id_1 ===\n",
      "\n",
      "Processing collection: collection_cid1\n",
      "collection_config.json -> Collection: collection_cid1 | Response: {'result': 'Idempotent request - returning previous stamp.', 'commitment_receipt': {'chainId': 421614, 'transactionHash': '0x11828718bb23f0a6b85a17bc3f300cb8aa5eb4548497db77791df9a7a8d226d2', 'user': 'cypress', 'objectCid': '0x429e7c9cf46fbfe4f4ed2fe68991de6b4bb01b02e40341588769d68b40b1f2f8', 'timestamp': '2025-06-23 19:13:54+00:00', 'setCid': '0x64ad7103f0ef204d56f94d1923553d5dd7c1b9d5335dce70b21a7f44bd782712', 'verified': True, 'verified_since': '2025-06-18T21:05:29.565Z', 'timedelta': '30 mins 52 secs ago', 'time': 'Jun-23-2025 07:13:54 PM +UTC', 'user_id': '0xb9CA15fF5da04B9dd30Da0C7124b84b623397cE0', 'collection_hash': '0x64ad7103f0ef204d56f94d1923553d5dd7c1b9d5335dce70b21a7f44bd782712', 'collection_name': 'collection_cid1', 'blockExplorerUrl': 'https://sepolia.arbiscan.io/tx/', 'blockchainName': 'Arbitrum Sepolia'}}\n",
      "collection_cid1-test02.txt -> Collection: collection_cid1 | Response: {'result': 'Idempotent request - returning previous stamp.', 'commitment_receipt': {'chainId': 421614, 'transactionHash': '0x5bc8171202714840830791a5e19d7853a5c43fc6eb4247e6f4a638e8224a502a', 'user': 'cypress', 'objectCid': '0x064890b8fc35e8865a6163fc60188f58d5469c22e749cb68d6527e3f426e579e', 'timestamp': '2025-06-23 19:13:58+00:00', 'setCid': '0x64ad7103f0ef204d56f94d1923553d5dd7c1b9d5335dce70b21a7f44bd782712', 'verified': True, 'verified_since': '2025-06-18T21:05:29.565Z', 'timedelta': '30 mins 49 secs ago', 'time': 'Jun-23-2025 07:13:58 PM +UTC', 'user_id': '0xb9CA15fF5da04B9dd30Da0C7124b84b623397cE0', 'collection_hash': '0x64ad7103f0ef204d56f94d1923553d5dd7c1b9d5335dce70b21a7f44bd782712', 'collection_name': 'collection_cid1', 'blockExplorerUrl': 'https://sepolia.arbiscan.io/tx/', 'blockchainName': 'Arbitrum Sepolia'}}\n",
      "collection_cid1-test01.txt -> Collection: collection_cid1 | Response: {'result': 'Idempotent request - returning previous stamp.', 'commitment_receipt': {'chainId': 421614, 'transactionHash': '0x394502e428cfecc536fb4c2e7ec228dc57759ca00c1160afec05155d083a6690', 'user': 'cypress', 'objectCid': '0x8a80ed5586d0e64c87f43dfd3fc6b932109e2d1c03393c5bb370ca2b804cf534', 'timestamp': '2025-06-23 19:14:03+00:00', 'setCid': '0x64ad7103f0ef204d56f94d1923553d5dd7c1b9d5335dce70b21a7f44bd782712', 'verified': True, 'verified_since': '2025-06-18T21:05:29.565Z', 'timedelta': '30 mins 46 secs ago', 'time': 'Jun-23-2025 07:14:03 PM +UTC', 'user_id': '0xb9CA15fF5da04B9dd30Da0C7124b84b623397cE0', 'collection_hash': '0x64ad7103f0ef204d56f94d1923553d5dd7c1b9d5335dce70b21a7f44bd782712', 'collection_name': 'collection_cid1', 'blockExplorerUrl': 'https://sepolia.arbiscan.io/tx/', 'blockchainName': 'Arbitrum Sepolia'}}\n",
      "collection_cid1-test.txt -> Collection: collection_cid1 | Response: {'result': 'Idempotent request - returning previous stamp.', 'commitment_receipt': {'chainId': 421614, 'transactionHash': '0x0d1026e0b31ce9f7bf4c28c23a0964be3feee6d887ff58da7f2abcfb8fd09ff9', 'user': 'cypress', 'objectCid': '0xff9dd56c0eb04d969248719ac10444b83da04a86c1052fcb1081065edc2e58b6', 'timestamp': '2025-06-23 19:14:07+00:00', 'setCid': '0x64ad7103f0ef204d56f94d1923553d5dd7c1b9d5335dce70b21a7f44bd782712', 'verified': True, 'verified_since': '2025-06-18T21:05:29.565Z', 'timedelta': '30 mins 43 secs ago', 'time': 'Jun-23-2025 07:14:07 PM +UTC', 'user_id': '0xb9CA15fF5da04B9dd30Da0C7124b84b623397cE0', 'collection_hash': '0x64ad7103f0ef204d56f94d1923553d5dd7c1b9d5335dce70b21a7f44bd782712', 'collection_name': 'collection_cid1', 'blockExplorerUrl': 'https://sepolia.arbiscan.io/tx/', 'blockchainName': 'Arbitrum Sepolia'}}\n",
      "\n",
      "Processing collection: collection_cid2\n",
      "collection_config.json -> Collection: collection_cid2 | Response: {'result': 'Idempotent request - returning previous stamp.', 'commitment_receipt': {'chainId': 421614, 'transactionHash': '0x176cb8d7936a4c4e2fabc101c6cc061e09cb948d6ab4f9fcc09dfd369f8782e1', 'user': 'cypress', 'objectCid': '0xdb52109d1537521a2ebe6c928e51459fe5b463057db205b81713d79ea4c1f768', 'timestamp': '2025-06-23 19:14:11+00:00', 'setCid': '0x83b8430d41237e1f120aa0b624214e880c742db4422d0f5f66f948c1b18a9602', 'verified': True, 'verified_since': '2025-06-18T21:05:29.565Z', 'timedelta': '30 mins 40 secs ago', 'time': 'Jun-23-2025 07:14:11 PM +UTC', 'user_id': '0xb9CA15fF5da04B9dd30Da0C7124b84b623397cE0', 'collection_hash': '0x83b8430d41237e1f120aa0b624214e880c742db4422d0f5f66f948c1b18a9602', 'collection_name': 'collection_cid2', 'blockExplorerUrl': 'https://sepolia.arbiscan.io/tx/', 'blockchainName': 'Arbitrum Sepolia'}}\n",
      "collection_cid2-test.txt -> Collection: collection_cid2 | Response: {'result': 'Idempotent request - returning previous stamp.', 'commitment_receipt': {'chainId': 421614, 'transactionHash': '0x5561e02f15194f64dda73c6bfff44418b330a532c2b35067037a31ec61ad9645', 'user': 'cypress', 'objectCid': '0x45fd5e2e7bc67d3eb068bcc293642f935629daa65725122853d838ac14a1535d', 'timestamp': '2025-06-23 19:14:15+00:00', 'setCid': '0x83b8430d41237e1f120aa0b624214e880c742db4422d0f5f66f948c1b18a9602', 'verified': True, 'verified_since': '2025-06-18T21:05:29.565Z', 'timedelta': '30 mins 37 secs ago', 'time': 'Jun-23-2025 07:14:15 PM +UTC', 'user_id': '0xb9CA15fF5da04B9dd30Da0C7124b84b623397cE0', 'collection_hash': '0x83b8430d41237e1f120aa0b624214e880c742db4422d0f5f66f948c1b18a9602', 'collection_name': 'collection_cid2', 'blockExplorerUrl': 'https://sepolia.arbiscan.io/tx/', 'blockchainName': 'Arbitrum Sepolia'}}\n",
      "collection_cid2-test02.txt -> Collection: collection_cid2 | Response: {'result': 'Idempotent request - returning previous stamp.', 'commitment_receipt': {'chainId': 421614, 'transactionHash': '0x65e052f87836000dd5a1f03b1ba58050460f29ee803ca8c8f3ab1efb6130dad9', 'user': 'cypress', 'objectCid': '0x41decf6071943b87b122533da52e5826f1759795588e1097dc1fd273d9734fd3', 'timestamp': '2025-06-23 19:14:19+00:00', 'setCid': '0x83b8430d41237e1f120aa0b624214e880c742db4422d0f5f66f948c1b18a9602', 'verified': True, 'verified_since': '2025-06-18T21:05:29.565Z', 'timedelta': '30 mins 34 secs ago', 'time': 'Jun-23-2025 07:14:19 PM +UTC', 'user_id': '0xb9CA15fF5da04B9dd30Da0C7124b84b623397cE0', 'collection_hash': '0x83b8430d41237e1f120aa0b624214e880c742db4422d0f5f66f948c1b18a9602', 'collection_name': 'collection_cid2', 'blockExplorerUrl': 'https://sepolia.arbiscan.io/tx/', 'blockchainName': 'Arbitrum Sepolia'}}\n",
      "collection_cid2-test01.txt -> Collection: collection_cid2 | Response: {'result': 'Idempotent request - returning previous stamp.', 'commitment_receipt': {'chainId': 421614, 'transactionHash': '0xc67ab65d44ab7ad1ac672e4f6dcdce1a3cd23e0b49c9fe214d321c86df9140a4', 'user': 'cypress', 'objectCid': '0xd0251bdb7a69bc9cd434da535aba960ca62757298e564ef44833caf659c6237e', 'timestamp': '2025-06-23 19:14:24+00:00', 'setCid': '0x83b8430d41237e1f120aa0b624214e880c742db4422d0f5f66f948c1b18a9602', 'verified': True, 'verified_since': '2025-06-18T21:05:29.565Z', 'timedelta': '30 mins 30 secs ago', 'time': 'Jun-23-2025 07:14:24 PM +UTC', 'user_id': '0xb9CA15fF5da04B9dd30Da0C7124b84b623397cE0', 'collection_hash': '0x83b8430d41237e1f120aa0b624214e880c742db4422d0f5f66f948c1b18a9602', 'collection_name': 'collection_cid2', 'blockExplorerUrl': 'https://sepolia.arbiscan.io/tx/', 'blockchainName': 'Arbitrum Sepolia'}}\n",
      "\n",
      "=== Summary of Stamped Files ===\n",
      "collection_config.json -> Collection: collection_cid1 | Response: {'result': 'Idempotent request - returning previous stamp.', 'commitment_receipt': {'chainId': 421614, 'transactionHash': '0x11828718bb23f0a6b85a17bc3f300cb8aa5eb4548497db77791df9a7a8d226d2', 'user': 'cypress', 'objectCid': '0x429e7c9cf46fbfe4f4ed2fe68991de6b4bb01b02e40341588769d68b40b1f2f8', 'timestamp': '2025-06-23 19:13:54+00:00', 'setCid': '0x64ad7103f0ef204d56f94d1923553d5dd7c1b9d5335dce70b21a7f44bd782712', 'verified': True, 'verified_since': '2025-06-18T21:05:29.565Z', 'timedelta': '30 mins 52 secs ago', 'time': 'Jun-23-2025 07:13:54 PM +UTC', 'user_id': '0xb9CA15fF5da04B9dd30Da0C7124b84b623397cE0', 'collection_hash': '0x64ad7103f0ef204d56f94d1923553d5dd7c1b9d5335dce70b21a7f44bd782712', 'collection_name': 'collection_cid1', 'blockExplorerUrl': 'https://sepolia.arbiscan.io/tx/', 'blockchainName': 'Arbitrum Sepolia'}}\n",
      "collection_cid1-test02.txt -> Collection: collection_cid1 | Response: {'result': 'Idempotent request - returning previous stamp.', 'commitment_receipt': {'chainId': 421614, 'transactionHash': '0x5bc8171202714840830791a5e19d7853a5c43fc6eb4247e6f4a638e8224a502a', 'user': 'cypress', 'objectCid': '0x064890b8fc35e8865a6163fc60188f58d5469c22e749cb68d6527e3f426e579e', 'timestamp': '2025-06-23 19:13:58+00:00', 'setCid': '0x64ad7103f0ef204d56f94d1923553d5dd7c1b9d5335dce70b21a7f44bd782712', 'verified': True, 'verified_since': '2025-06-18T21:05:29.565Z', 'timedelta': '30 mins 49 secs ago', 'time': 'Jun-23-2025 07:13:58 PM +UTC', 'user_id': '0xb9CA15fF5da04B9dd30Da0C7124b84b623397cE0', 'collection_hash': '0x64ad7103f0ef204d56f94d1923553d5dd7c1b9d5335dce70b21a7f44bd782712', 'collection_name': 'collection_cid1', 'blockExplorerUrl': 'https://sepolia.arbiscan.io/tx/', 'blockchainName': 'Arbitrum Sepolia'}}\n",
      "collection_cid1-test01.txt -> Collection: collection_cid1 | Response: {'result': 'Idempotent request - returning previous stamp.', 'commitment_receipt': {'chainId': 421614, 'transactionHash': '0x394502e428cfecc536fb4c2e7ec228dc57759ca00c1160afec05155d083a6690', 'user': 'cypress', 'objectCid': '0x8a80ed5586d0e64c87f43dfd3fc6b932109e2d1c03393c5bb370ca2b804cf534', 'timestamp': '2025-06-23 19:14:03+00:00', 'setCid': '0x64ad7103f0ef204d56f94d1923553d5dd7c1b9d5335dce70b21a7f44bd782712', 'verified': True, 'verified_since': '2025-06-18T21:05:29.565Z', 'timedelta': '30 mins 46 secs ago', 'time': 'Jun-23-2025 07:14:03 PM +UTC', 'user_id': '0xb9CA15fF5da04B9dd30Da0C7124b84b623397cE0', 'collection_hash': '0x64ad7103f0ef204d56f94d1923553d5dd7c1b9d5335dce70b21a7f44bd782712', 'collection_name': 'collection_cid1', 'blockExplorerUrl': 'https://sepolia.arbiscan.io/tx/', 'blockchainName': 'Arbitrum Sepolia'}}\n",
      "collection_cid1-test.txt -> Collection: collection_cid1 | Response: {'result': 'Idempotent request - returning previous stamp.', 'commitment_receipt': {'chainId': 421614, 'transactionHash': '0x0d1026e0b31ce9f7bf4c28c23a0964be3feee6d887ff58da7f2abcfb8fd09ff9', 'user': 'cypress', 'objectCid': '0xff9dd56c0eb04d969248719ac10444b83da04a86c1052fcb1081065edc2e58b6', 'timestamp': '2025-06-23 19:14:07+00:00', 'setCid': '0x64ad7103f0ef204d56f94d1923553d5dd7c1b9d5335dce70b21a7f44bd782712', 'verified': True, 'verified_since': '2025-06-18T21:05:29.565Z', 'timedelta': '30 mins 43 secs ago', 'time': 'Jun-23-2025 07:14:07 PM +UTC', 'user_id': '0xb9CA15fF5da04B9dd30Da0C7124b84b623397cE0', 'collection_hash': '0x64ad7103f0ef204d56f94d1923553d5dd7c1b9d5335dce70b21a7f44bd782712', 'collection_name': 'collection_cid1', 'blockExplorerUrl': 'https://sepolia.arbiscan.io/tx/', 'blockchainName': 'Arbitrum Sepolia'}}\n",
      "collection_config.json -> Collection: collection_cid2 | Response: {'result': 'Idempotent request - returning previous stamp.', 'commitment_receipt': {'chainId': 421614, 'transactionHash': '0x176cb8d7936a4c4e2fabc101c6cc061e09cb948d6ab4f9fcc09dfd369f8782e1', 'user': 'cypress', 'objectCid': '0xdb52109d1537521a2ebe6c928e51459fe5b463057db205b81713d79ea4c1f768', 'timestamp': '2025-06-23 19:14:11+00:00', 'setCid': '0x83b8430d41237e1f120aa0b624214e880c742db4422d0f5f66f948c1b18a9602', 'verified': True, 'verified_since': '2025-06-18T21:05:29.565Z', 'timedelta': '30 mins 40 secs ago', 'time': 'Jun-23-2025 07:14:11 PM +UTC', 'user_id': '0xb9CA15fF5da04B9dd30Da0C7124b84b623397cE0', 'collection_hash': '0x83b8430d41237e1f120aa0b624214e880c742db4422d0f5f66f948c1b18a9602', 'collection_name': 'collection_cid2', 'blockExplorerUrl': 'https://sepolia.arbiscan.io/tx/', 'blockchainName': 'Arbitrum Sepolia'}}\n",
      "collection_cid2-test.txt -> Collection: collection_cid2 | Response: {'result': 'Idempotent request - returning previous stamp.', 'commitment_receipt': {'chainId': 421614, 'transactionHash': '0x5561e02f15194f64dda73c6bfff44418b330a532c2b35067037a31ec61ad9645', 'user': 'cypress', 'objectCid': '0x45fd5e2e7bc67d3eb068bcc293642f935629daa65725122853d838ac14a1535d', 'timestamp': '2025-06-23 19:14:15+00:00', 'setCid': '0x83b8430d41237e1f120aa0b624214e880c742db4422d0f5f66f948c1b18a9602', 'verified': True, 'verified_since': '2025-06-18T21:05:29.565Z', 'timedelta': '30 mins 37 secs ago', 'time': 'Jun-23-2025 07:14:15 PM +UTC', 'user_id': '0xb9CA15fF5da04B9dd30Da0C7124b84b623397cE0', 'collection_hash': '0x83b8430d41237e1f120aa0b624214e880c742db4422d0f5f66f948c1b18a9602', 'collection_name': 'collection_cid2', 'blockExplorerUrl': 'https://sepolia.arbiscan.io/tx/', 'blockchainName': 'Arbitrum Sepolia'}}\n",
      "collection_cid2-test02.txt -> Collection: collection_cid2 | Response: {'result': 'Idempotent request - returning previous stamp.', 'commitment_receipt': {'chainId': 421614, 'transactionHash': '0x65e052f87836000dd5a1f03b1ba58050460f29ee803ca8c8f3ab1efb6130dad9', 'user': 'cypress', 'objectCid': '0x41decf6071943b87b122533da52e5826f1759795588e1097dc1fd273d9734fd3', 'timestamp': '2025-06-23 19:14:19+00:00', 'setCid': '0x83b8430d41237e1f120aa0b624214e880c742db4422d0f5f66f948c1b18a9602', 'verified': True, 'verified_since': '2025-06-18T21:05:29.565Z', 'timedelta': '30 mins 34 secs ago', 'time': 'Jun-23-2025 07:14:19 PM +UTC', 'user_id': '0xb9CA15fF5da04B9dd30Da0C7124b84b623397cE0', 'collection_hash': '0x83b8430d41237e1f120aa0b624214e880c742db4422d0f5f66f948c1b18a9602', 'collection_name': 'collection_cid2', 'blockExplorerUrl': 'https://sepolia.arbiscan.io/tx/', 'blockchainName': 'Arbitrum Sepolia'}}\n",
      "collection_cid2-test01.txt -> Collection: collection_cid2 | Response: {'result': 'Idempotent request - returning previous stamp.', 'commitment_receipt': {'chainId': 421614, 'transactionHash': '0xc67ab65d44ab7ad1ac672e4f6dcdce1a3cd23e0b49c9fe214d321c86df9140a4', 'user': 'cypress', 'objectCid': '0xd0251bdb7a69bc9cd434da535aba960ca62757298e564ef44833caf659c6237e', 'timestamp': '2025-06-23 19:14:24+00:00', 'setCid': '0x83b8430d41237e1f120aa0b624214e880c742db4422d0f5f66f948c1b18a9602', 'verified': True, 'verified_since': '2025-06-18T21:05:29.565Z', 'timedelta': '30 mins 30 secs ago', 'time': 'Jun-23-2025 07:14:24 PM +UTC', 'user_id': '0xb9CA15fF5da04B9dd30Da0C7124b84b623397cE0', 'collection_hash': '0x83b8430d41237e1f120aa0b624214e880c742db4422d0f5f66f948c1b18a9602', 'collection_name': 'collection_cid2', 'blockExplorerUrl': 'https://sepolia.arbiscan.io/tx/', 'blockchainName': 'Arbitrum Sepolia'}}\n"
     ]
    }
   ],
   "source": [
    "run_pipeline(api_url, users_folder, preview_run)"
   ]
  },
  {
   "cell_type": "code",
   "execution_count": null,
   "id": "7e2a189d-949d-4fa6-992a-a5641b152c5f",
   "metadata": {},
   "outputs": [],
   "source": []
  }
 ],
 "metadata": {
  "kernelspec": {
   "display_name": "Python 3 (ipykernel)",
   "language": "python",
   "name": "python3"
  },
  "language_info": {
   "codemirror_mode": {
    "name": "ipython",
    "version": 3
   },
   "file_extension": ".py",
   "mimetype": "text/x-python",
   "name": "python",
   "nbconvert_exporter": "python",
   "pygments_lexer": "ipython3",
   "version": "3.9.21"
  }
 },
 "nbformat": 4,
 "nbformat_minor": 5
}
