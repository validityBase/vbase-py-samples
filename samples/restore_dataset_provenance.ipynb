{
 "cells": [
  {
   "cell_type": "markdown",
   "metadata": {},
   "source": [
    "# restore_dataset_provenance"
   ]
  },
  {
   "cell_type": "markdown",
   "metadata": {},
   "source": [
    "\n",
    "This sample illustrates how a dataset producer can create a dataset<br>\n",
    "and how the provenance of the dataset can be restored<br>\n",
    "after loss during copying or other transformations.<br>\n"
   ]
  },
  {
   "cell_type": "code",
   "execution_count": null,
   "metadata": {},
   "outputs": [],
   "source": [
    "from datetime import datetime\n",
    "import pprint"
   ]
  },
  {
   "cell_type": "code",
   "execution_count": null,
   "metadata": {},
   "outputs": [],
   "source": [
    "from vbase import (\n",
    "    VBaseClient,\n",
    "    VBaseDataset,\n",
    "    VBaseIntObject,\n",
    ")"
   ]
  },
  {
   "cell_type": "code",
   "execution_count": null,
   "metadata": {},
   "outputs": [],
   "source": [
    "from aws_utils import (\n",
    "    create_s3_client_from_env,\n",
    "    copy_s3_bucket,\n",
    "    init_vbase_dataset_from_s3_objects,\n",
    "    print_s3_objects,\n",
    ")"
   ]
  },
  {
   "cell_type": "markdown",
   "metadata": {},
   "source": [
    "## Configuration"
   ]
  },
  {
   "cell_type": "markdown",
   "metadata": {},
   "source": [
    "S3 bucket for the tests."
   ]
  },
  {
   "cell_type": "code",
   "execution_count": null,
   "metadata": {},
   "outputs": [],
   "source": [
    "BUCKET_NAME = \"vbase-test\""
   ]
  },
  {
   "cell_type": "markdown",
   "metadata": {},
   "source": [
    "Name for the test set to create.<br>\n",
    "Use a test dataset name that is unique and will not collide with other tests."
   ]
  },
  {
   "cell_type": "code",
   "execution_count": null,
   "metadata": {},
   "outputs": [],
   "source": [
    "SET_NAME = \"restore_dataset_provenance_set_\" + datetime.now().strftime(\"%Y%m%d%H%M%S\")"
   ]
  },
  {
   "cell_type": "markdown",
   "metadata": {},
   "source": [
    "Name of the source S3 folder for the dataset records."
   ]
  },
  {
   "cell_type": "code",
   "execution_count": null,
   "metadata": {},
   "outputs": [],
   "source": [
    "FOLDER_NAME = \"restore_dataset_provenance/\" + SET_NAME\n",
    "COPY_FOLDER_NAME = FOLDER_NAME + \"_copy\""
   ]
  },
  {
   "cell_type": "markdown",
   "metadata": {},
   "source": [
    "## Setup"
   ]
  },
  {
   "cell_type": "markdown",
   "metadata": {},
   "source": [
    "Initialize vBase using environment variables."
   ]
  },
  {
   "cell_type": "code",
   "execution_count": null,
   "metadata": {},
   "outputs": [],
   "source": [
    "vbc = VBaseClient.create_instance_from_env()"
   ]
  },
  {
   "cell_type": "markdown",
   "metadata": {},
   "source": [
    "Create an AWS client using environment variables."
   ]
  },
  {
   "cell_type": "code",
   "execution_count": null,
   "metadata": {},
   "outputs": [],
   "source": [
    "boto_client = create_s3_client_from_env()"
   ]
  },
  {
   "cell_type": "markdown",
   "metadata": {},
   "source": [
    "## Source dataset"
   ]
  },
  {
   "cell_type": "markdown",
   "metadata": {},
   "source": [
    "Create the vBase dataset object."
   ]
  },
  {
   "cell_type": "code",
   "execution_count": null,
   "metadata": {},
   "outputs": [],
   "source": [
    "vb_ds = VBaseDataset(vbc, SET_NAME, VBaseIntObject)\n",
    "print(f\"Created dataset {SET_NAME}\")"
   ]
  },
  {
   "cell_type": "markdown",
   "metadata": {},
   "source": [
    "Create an integer sequence from 1 to 5."
   ]
  },
  {
   "cell_type": "code",
   "execution_count": null,
   "metadata": {},
   "outputs": [],
   "source": [
    "seq = range(1, 6)\n",
    "# Create integer dataset objects in the S3 bucket\n",
    "# and the corresponding dataset objects.\n",
    "for i in seq:\n",
    "    s3_obj_name = f\"{FOLDER_NAME}/obj_{i}.txt\"\n",
    "    vbase_receipt = vb_ds.add_record(i)\n",
    "    print(f\"Created dataset record {i}, receipt:\\n{pprint.pformat(vbase_receipt)}\")\n",
    "    # Store the object after the commitment has been made\n",
    "    # to ensure that the commitment timestamp precedes the object timestamp.\n",
    "    s3_receipt = boto_client.put_object(\n",
    "        Bucket=BUCKET_NAME, Key=s3_obj_name, Body=str(i)\n",
    "    )\n",
    "    print(f\"Created S3 object {i}, receipt:\\n{pprint.pformat(s3_receipt)}\")"
   ]
  },
  {
   "cell_type": "markdown",
   "metadata": {},
   "source": [
    "Validate the dataset commitments."
   ]
  },
  {
   "cell_type": "code",
   "execution_count": null,
   "metadata": {},
   "outputs": [],
   "source": [
    "assert vb_ds.verify_commitments()[0]"
   ]
  },
  {
   "cell_type": "markdown",
   "metadata": {},
   "source": [
    "We have the dataset and its objects created."
   ]
  },
  {
   "cell_type": "code",
   "execution_count": null,
   "metadata": {},
   "outputs": [],
   "source": [
    "print(\"S3 objects:\")\n",
    "print_s3_objects(boto_client, BUCKET_NAME, FOLDER_NAME)\n",
    "print(\"vBase dataset:\")\n",
    "print(vb_ds.to_pd_object())"
   ]
  },
  {
   "cell_type": "markdown",
   "metadata": {},
   "source": [
    "## Dataset copy"
   ]
  },
  {
   "cell_type": "markdown",
   "metadata": {},
   "source": [
    "Copy the bucket to another bucket, losing the timestamps."
   ]
  },
  {
   "cell_type": "code",
   "execution_count": null,
   "metadata": {},
   "outputs": [],
   "source": [
    "copy_s3_bucket(\n",
    "    boto_client=boto_client,\n",
    "    source_bucket_name=BUCKET_NAME,\n",
    "    source_folder_name=FOLDER_NAME,\n",
    "    destination_bucket_name=BUCKET_NAME,\n",
    "    destination_folder_name=COPY_FOLDER_NAME,\n",
    ")"
   ]
  },
  {
   "cell_type": "markdown",
   "metadata": {},
   "source": [
    "Display the copy objects as a time series."
   ]
  },
  {
   "cell_type": "code",
   "execution_count": null,
   "metadata": {},
   "outputs": [],
   "source": [
    "print(\"Copy S3 objects:\")\n",
    "print_s3_objects(boto_client, BUCKET_NAME, COPY_FOLDER_NAME)"
   ]
  },
  {
   "cell_type": "markdown",
   "metadata": {},
   "source": [
    "## Copy validation"
   ]
  },
  {
   "cell_type": "markdown",
   "metadata": {},
   "source": [
    "Create a vBase dataset from the copy S3 objects."
   ]
  },
  {
   "cell_type": "code",
   "execution_count": null,
   "metadata": {},
   "outputs": [],
   "source": [
    "ds_copy = VBaseDataset(vbc, SET_NAME, VBaseIntObject)\n",
    "# Load all objects into the dataset.\n",
    "ds_copy = init_vbase_dataset_from_s3_objects(\n",
    "    ds_copy, boto_client, BUCKET_NAME, COPY_FOLDER_NAME\n",
    ")\n",
    "print(\"Dataset loaded:\")\n",
    "pprint.pprint(ds_copy.to_pd_object())"
   ]
  },
  {
   "cell_type": "markdown",
   "metadata": {},
   "source": [
    "Verify the records."
   ]
  },
  {
   "cell_type": "code",
   "execution_count": null,
   "metadata": {},
   "outputs": [],
   "source": [
    "success, l_log = ds_copy.verify_commitments()\n",
    "assert not success\n",
    "print(\"Verification log:\")\n",
    "for log in l_log:\n",
    "    print(log)"
   ]
  },
  {
   "cell_type": "markdown",
   "metadata": {},
   "source": [
    "## Metadata restoration"
   ]
  },
  {
   "cell_type": "markdown",
   "metadata": {},
   "source": [
    "Fix the timestamps."
   ]
  },
  {
   "cell_type": "code",
   "execution_count": null,
   "metadata": {},
   "outputs": [],
   "source": [
    "assert ds_copy.try_restore_timestamps_from_index()[0]"
   ]
  },
  {
   "cell_type": "code",
   "execution_count": null,
   "metadata": {},
   "outputs": [],
   "source": [
    "print(\"Dataset fixed:\")\n",
    "pprint.pprint(ds_copy.to_pd_object())"
   ]
  },
  {
   "cell_type": "markdown",
   "metadata": {},
   "source": [
    "Verify the records again."
   ]
  },
  {
   "cell_type": "code",
   "execution_count": null,
   "metadata": {},
   "outputs": [],
   "source": [
    "assert ds_copy.verify_commitments()[0]"
   ]
  }
 ],
 "metadata": {
  "kernelspec": {
   "display_name": "Python 3 (ipykernel)",
   "language": "python",
   "name": "python3"
  },
  "language_info": {
   "codemirror_mode": {
    "name": "ipython",
    "version": 3
   },
   "file_extension": ".py",
   "mimetype": "text/x-python",
   "name": "python",
   "nbconvert_exporter": "python",
   "pygments_lexer": "ipython3",
   "version": "3.8.18"
  }
 },
 "nbformat": 4,
 "nbformat_minor": 4
}
