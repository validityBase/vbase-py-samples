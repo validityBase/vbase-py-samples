{
 "cells": [
  {
   "cell_type": "markdown",
   "metadata": {},
   "source": [
    "# verify_portfolio_history_s3"
   ]
  },
  {
   "cell_type": "markdown",
   "metadata": {},
   "source": [
    "\n",
    "This sample verifies a strategy comprising<br>\n",
    "a history of JSON portfolio records stored in an S3 bucket.<br>\n"
   ]
  },
  {
   "cell_type": "markdown",
   "metadata": {},
   "source": [
    "## Imports"
   ]
  },
  {
   "cell_type": "code",
   "execution_count": null,
   "metadata": {
    "jupyter": {
     "source_hidden": true
    }
   },
   "outputs": [],
   "source": [
    "import os\n",
    "import pprint\n",
    "import random\n",
    "import sys\n",
    "from dotenv import load_dotenv\n",
    "import matplotlib.pyplot as plt"
   ]
  },
  {
   "cell_type": "code",
   "execution_count": null,
   "metadata": {
    "jupyter": {
     "source_hidden": true
    }
   },
   "outputs": [],
   "source": [
    "from vbase import (\n",
    "    VBaseClient,\n",
    "    VBaseDataset,\n",
    ")"
   ]
  },
  {
   "cell_type": "code",
   "execution_count": null,
   "metadata": {
    "jupyter": {
     "source_hidden": true
    }
   },
   "outputs": [],
   "source": [
    "from aws_utils import (\n",
    "    create_s3_client_from_env,\n",
    "    init_vbase_dataset_from_s3_objects,\n",
    ")"
   ]
  },
  {
   "cell_type": "markdown",
   "metadata": {},
   "source": [
    "## Configuration"
   ]
  },
  {
   "cell_type": "markdown",
   "metadata": {},
   "source": [
    "Note that the data to verify is defined solely by the dataset name<br>\n",
    "and the owner address."
   ]
  },
  {
   "cell_type": "markdown",
   "metadata": {},
   "source": [
    "Define the strategy name."
   ]
  },
  {
   "cell_type": "code",
   "execution_count": null,
   "metadata": {},
   "outputs": [],
   "source": [
    "STRATEGY_NAME = \"strategy20240617231129\""
   ]
  },
  {
   "cell_type": "markdown",
   "metadata": {},
   "source": [
    "Define the strategy owner address."
   ]
  },
  {
   "cell_type": "code",
   "execution_count": null,
   "metadata": {},
   "outputs": [],
   "source": [
    "STRATEGY_OWNER = \"0xA401F59d7190E4448Eb60691E3bc78f1Ef03e88C\""
   ]
  },
  {
   "cell_type": "markdown",
   "metadata": {},
   "source": [
    "S3 bucket for the test data."
   ]
  },
  {
   "cell_type": "code",
   "execution_count": null,
   "metadata": {},
   "outputs": [],
   "source": [
    "BUCKET_NAME = \"vbase-test\""
   ]
  },
  {
   "cell_type": "markdown",
   "metadata": {},
   "source": [
    "Name of the source S3 folder for the dataset records."
   ]
  },
  {
   "cell_type": "code",
   "execution_count": null,
   "metadata": {},
   "outputs": [],
   "source": [
    "FOLDER_NAME = \"add_trades/\""
   ]
  },
  {
   "cell_type": "code",
   "execution_count": null,
   "metadata": {},
   "outputs": [],
   "source": [
    "STRATEGY_FOLDER_NAME = FOLDER_NAME + STRATEGY_NAME"
   ]
  },
  {
   "cell_type": "markdown",
   "metadata": {},
   "source": [
    "## Setup"
   ]
  },
  {
   "cell_type": "markdown",
   "metadata": {},
   "source": [
    "Load the information necessary to call vBase APIs."
   ]
  },
  {
   "cell_type": "code",
   "execution_count": null,
   "metadata": {},
   "outputs": [],
   "source": [
    "load_dotenv(verbose=True, override=True)"
   ]
  },
  {
   "cell_type": "markdown",
   "metadata": {},
   "source": [
    "Create an AWS client using environment variables."
   ]
  },
  {
   "cell_type": "code",
   "execution_count": null,
   "metadata": {},
   "outputs": [],
   "source": [
    "boto_client = create_s3_client_from_env()"
   ]
  },
  {
   "cell_type": "markdown",
   "metadata": {},
   "source": [
    "Connect to vBase."
   ]
  },
  {
   "cell_type": "code",
   "execution_count": null,
   "metadata": {},
   "outputs": [],
   "source": [
    "vbc = VBaseClient.create_instance_from_env()"
   ]
  },
  {
   "cell_type": "markdown",
   "metadata": {},
   "source": [
    "## Plot Setup"
   ]
  },
  {
   "cell_type": "markdown",
   "metadata": {},
   "source": [
    "Check if the script is running in an interactive mode or a Jupyter notebook."
   ]
  },
  {
   "cell_type": "code",
   "execution_count": null,
   "metadata": {
    "jupyter": {
     "source_hidden": true
    }
   },
   "outputs": [],
   "source": [
    "if \"ipykernel\" not in sys.modules and \"IPython\" in sys.modules:\n",
    "    # The following line creates overactive warning.\n",
    "    # We want the import within the clause.\n",
    "    # pylint: disable=ungrouped-imports\n",
    "    import matplotlib\n",
    "\n",
    "    # Set plot backend to WebAgg.\n",
    "    # This backend provides interactive web charts.\n",
    "    matplotlib.use(\"WebAgg\")"
   ]
  },
  {
   "cell_type": "markdown",
   "metadata": {},
   "source": [
    "## Validate Load the Portfolio Dataset"
   ]
  },
  {
   "cell_type": "markdown",
   "metadata": {},
   "source": [
    "Create a strategy dataset to validate.<br>\n",
    "This is done on the consumer/validator machine<br>\n",
    "using data specified by the producer/prover."
   ]
  },
  {
   "cell_type": "code",
   "execution_count": null,
   "metadata": {},
   "outputs": [],
   "source": [
    "ds_strategy = VBaseDataset(\n",
    "    vbc,\n",
    "    init_dict={\n",
    "        \"name\": STRATEGY_NAME,\n",
    "        \"owner\": STRATEGY_OWNER,\n",
    "        \"record_type_name\": \"VBaseJsonObject\",\n",
    "        \"records\": [],\n",
    "    },\n",
    ")"
   ]
  },
  {
   "cell_type": "markdown",
   "metadata": {},
   "source": [
    "Load dataset records from the bucket."
   ]
  },
  {
   "cell_type": "code",
   "execution_count": null,
   "metadata": {},
   "outputs": [],
   "source": [
    "init_vbase_dataset_from_s3_objects(\n",
    "    ds_strategy, boto_client, BUCKET_NAME, STRATEGY_FOLDER_NAME\n",
    ")\n",
    "print(f\"Dataset before timestamp validation:\\n{pprint.pformat(ds_strategy.to_dict())}\")"
   ]
  },
  {
   "cell_type": "markdown",
   "metadata": {},
   "source": [
    "## Validate the Portfolio Dataset"
   ]
  },
  {
   "cell_type": "markdown",
   "metadata": {},
   "source": [
    "Restore timestamps using commitments and display the validated dataset."
   ]
  },
  {
   "cell_type": "code",
   "execution_count": null,
   "metadata": {},
   "outputs": [],
   "source": [
    "ds_strategy.try_restore_timestamps_from_index()\n",
    "print(f\"Dataset after timestamp validation:\\n{pprint.pformat(ds_strategy.to_dict())}\")"
   ]
  },
  {
   "cell_type": "markdown",
   "metadata": {},
   "source": [
    "Start building the HTML table."
   ]
  },
  {
   "cell_type": "code",
   "execution_count": null,
   "metadata": {
    "jupyter": {
     "source_hidden": true
    }
   },
   "outputs": [],
   "source": [
    "l_receipts = ds_strategy.get_commitment_receipts()\n",
    "html = \"<table>\"\n",
    "html += \"<tr><th>num</th><th>portfolio</th><th>portfolio_hash</th><th>tx</th></tr>\"\n",
    "# Populate the table with data.\n",
    "for i, record in enumerate(ds_strategy.records):\n",
    "    html += (\n",
    "        f\"<tr><td>{i}</td><td>{record.data}</td><td>{record.cid}</td>\"\n",
    "        f\"<td>{l_receipts[i]['transactionHash']}</td></tr>\"\n",
    "    )\n",
    "html += \"</table>\""
   ]
  },
  {
   "cell_type": "code",
   "execution_count": null,
   "metadata": {
    "jupyter": {
     "source_hidden": true
    }
   },
   "outputs": [],
   "source": [
    "if \"ipykernel\" not in sys.modules and \"IPython\" in sys.modules:\n",
    "    pprint.pprint(html)\n",
    "else:\n",
    "    # Load support for HTML display, if necessary.\n",
    "    from IPython.display import display, HTML\n",
    "\n",
    "    # Display the HTML table in the Jupyter notebook.\n",
    "    display(HTML(html))"
   ]
  },
  {
   "cell_type": "markdown",
   "metadata": {},
   "source": [
    "## Print Portfolio Analytics"
   ]
  },
  {
   "cell_type": "markdown",
   "metadata": {},
   "source": [
    "Check if the script is running in an interactive mode or a Jupyter notebook."
   ]
  },
  {
   "cell_type": "markdown",
   "metadata": {},
   "source": [
    "Plot the cumulative strategy return<br>\n",
    "using a fictional return series."
   ]
  },
  {
   "cell_type": "code",
   "execution_count": null,
   "metadata": {},
   "outputs": [],
   "source": [
    "df = ds_strategy.get_pd_data_frame()\n",
    "print(\"Strategy DataFrame:\\n\", df)\n",
    "random.seed(1)\n",
    "asset_returns = [(random.random() * 2 - 1) / 100 for i in range(df.shape[0])]\n",
    "df[\"returns\"] = df[\"size\"] * asset_returns\n",
    "print(\"\\nReturns DataFrame:\\n\", df[\"returns\"])\n",
    "(1 + df[\"returns\"]).cumprod().shift(1).fillna(1).plot()\n",
    "plt.show()"
   ]
  },
  {
   "cell_type": "code",
   "execution_count": null,
   "metadata": {},
   "outputs": [],
   "source": []
  }
 ],
 "metadata": {
  "kernelspec": {
   "display_name": "Python 3 (ipykernel)",
   "language": "python",
   "name": "python3"
  },
  "language_info": {
   "codemirror_mode": {
    "name": "ipython",
    "version": 3
   },
   "file_extension": ".py",
   "mimetype": "text/x-python",
   "name": "python",
   "nbconvert_exporter": "python",
   "pygments_lexer": "ipython3",
   "version": "3.11.9"
  }
 },
 "nbformat": 4,
 "nbformat_minor": 4
}
